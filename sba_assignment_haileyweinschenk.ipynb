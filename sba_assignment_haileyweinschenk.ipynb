{
 "cells": [
  {
   "cell_type": "code",
   "execution_count": 1,
   "id": "fa00fcfe",
   "metadata": {},
   "outputs": [],
   "source": [
    "import pandas as pd"
   ]
  },
  {
   "cell_type": "markdown",
   "id": "33a6856e",
   "metadata": {},
   "source": [
    "The following datasets were procured in two ways for the year of 2022:\n",
    "- the former displays all contracts broken down by state. In addition, the quantifiers of the relevant North American Industry Classification System (NAICS) codes, vendor business type, as well as the total dollar amount of each contract are included. This was obtained through a custom search on [sam.gov ad hoc data bank](https://sam.gov/reports/awards/adhoc).\n",
    "- the latter concerns the eligibility of each NAICS for Woman Owned Small Business (WOSB) and/or Economically Disadvantaged Woman Owned Small Business (EDWOSB) Federal Contracting Program. This is hosted by the Small Business Administration [here](https://www.sba.gov/document/support-eligible-naics-women-owned-small-business-federal-contracting-program)."
   ]
  },
  {
   "cell_type": "markdown",
   "id": "da1ff7ce",
   "metadata": {},
   "source": [
    "To begin the preprocessing for dashboard creation, the data is read into DataFrames."
   ]
  },
  {
   "cell_type": "code",
   "execution_count": 2,
   "id": "20a7a32a",
   "metadata": {},
   "outputs": [],
   "source": [
    "# read into pandas dataframe\n",
    "contract_df = pd.read_csv('Report Builder.csv')\n",
    "naics_df = pd.read_csv('wosb_naics_2022.csv')"
   ]
  },
  {
   "cell_type": "code",
   "execution_count": 3,
   "id": "3d4a1948",
   "metadata": {},
   "outputs": [
    {
     "data": {
      "text/html": [
       "<div>\n",
       "<style scoped>\n",
       "    .dataframe tbody tr th:only-of-type {\n",
       "        vertical-align: middle;\n",
       "    }\n",
       "\n",
       "    .dataframe tbody tr th {\n",
       "        vertical-align: top;\n",
       "    }\n",
       "\n",
       "    .dataframe thead th {\n",
       "        text-align: right;\n",
       "    }\n",
       "</style>\n",
       "<table border=\"1\" class=\"dataframe\">\n",
       "  <thead>\n",
       "    <tr style=\"text-align: right;\">\n",
       "      <th></th>\n",
       "      <th></th>\n",
       "      <th></th>\n",
       "      <th></th>\n",
       "      <th></th>\n",
       "      <th>Report Builder</th>\n",
       "    </tr>\n",
       "  </thead>\n",
       "  <tbody>\n",
       "    <tr>\n",
       "      <th>Principal Place of Performance State Code</th>\n",
       "      <th>Is Vendor Business Type - Economically Disadvantaged Women Owned Small Business</th>\n",
       "      <th>Is Vendor Business Type - Women Owned Small Business</th>\n",
       "      <th>NAICS Code</th>\n",
       "      <th>NAICS Description</th>\n",
       "      <td>Base and All Options Value (Total Contract Value)</td>\n",
       "    </tr>\n",
       "    <tr>\n",
       "      <th rowspan=\"9\" valign=\"top\">AK</th>\n",
       "      <th rowspan=\"9\" valign=\"top\">NO</th>\n",
       "      <th rowspan=\"9\" valign=\"top\">NO</th>\n",
       "      <th>112519</th>\n",
       "      <th>OTHER AQUACULTURE (2007), OTHER ANIMAL AQUACULTURE (2002)</th>\n",
       "      <td>$15,899.80</td>\n",
       "    </tr>\n",
       "    <tr>\n",
       "      <th>114119</th>\n",
       "      <th>OTHER MARINE FISHING</th>\n",
       "      <td>$15,630.21</td>\n",
       "    </tr>\n",
       "    <tr>\n",
       "      <th>115310</th>\n",
       "      <th>SUPPORT ACTIVITIES FOR FORESTRY</th>\n",
       "      <td>$1,218,689.41</td>\n",
       "    </tr>\n",
       "    <tr>\n",
       "      <th>212112</th>\n",
       "      <th>BITUMINOUS COAL UNDERGROUND MINING</th>\n",
       "      <td>$34,976,520.00</td>\n",
       "    </tr>\n",
       "    <tr>\n",
       "      <th>212319</th>\n",
       "      <th>OTHER CRUSHED AND BROKEN STONE MINING AND QUARRYING</th>\n",
       "      <td>$1,106,156.20</td>\n",
       "    </tr>\n",
       "    <tr>\n",
       "      <th>212321</th>\n",
       "      <th>CONSTRUCTION SAND AND GRAVEL MINING</th>\n",
       "      <td>$448,563.00</td>\n",
       "    </tr>\n",
       "    <tr>\n",
       "      <th>213112</th>\n",
       "      <th>SUPPORT ACTIVITIES FOR OIL AND GAS OPERATIONS</th>\n",
       "      <td>$55,060,711.00</td>\n",
       "    </tr>\n",
       "    <tr>\n",
       "      <th>221112</th>\n",
       "      <th>FOSSIL FUEL ELECTRIC POWER GENERATION</th>\n",
       "      <td>$294,288,986.32</td>\n",
       "    </tr>\n",
       "    <tr>\n",
       "      <th>221114</th>\n",
       "      <th>SOLAR ELECTRIC POWER GENERATION</th>\n",
       "      <td>$578,000.00</td>\n",
       "    </tr>\n",
       "  </tbody>\n",
       "</table>\n",
       "</div>"
      ],
      "text/plain": [
       "                                                                                                                                                                                                                                                  Report Builder\n",
       "Principal Place of Performance State Code Is Vendor Business Type - Economically Disadvan... Is Vendor Business Type - Women Owned Small Bus... NAICS Code NAICS Description                                   Base and All Options Value (Total Contract Value)\n",
       "AK                                        NO                                                 NO                                                 112519     OTHER AQUACULTURE (2007), OTHER ANIMAL AQUACULT...                                         $15,899.80\n",
       "                                                                                                                                                114119     OTHER MARINE FISHING                                                                       $15,630.21\n",
       "                                                                                                                                                115310     SUPPORT ACTIVITIES FOR FORESTRY                                                         $1,218,689.41\n",
       "                                                                                                                                                212112     BITUMINOUS COAL UNDERGROUND MINING                                                     $34,976,520.00\n",
       "                                                                                                                                                212319     OTHER CRUSHED AND BROKEN STONE MINING AND QUARR...                                      $1,106,156.20\n",
       "                                                                                                                                                212321     CONSTRUCTION SAND AND GRAVEL MINING                                                       $448,563.00\n",
       "                                                                                                                                                213112     SUPPORT ACTIVITIES FOR OIL AND GAS OPERATIONS                                          $55,060,711.00\n",
       "                                                                                                                                                221112     FOSSIL FUEL ELECTRIC POWER GENERATION                                                 $294,288,986.32\n",
       "                                                                                                                                                221114     SOLAR ELECTRIC POWER GENERATION                                                           $578,000.00"
      ]
     },
     "execution_count": 3,
     "metadata": {},
     "output_type": "execute_result"
    }
   ],
   "source": [
    "# and view\n",
    "contract_df.head(10)"
   ]
  },
  {
   "cell_type": "markdown",
   "id": "95c40b4c",
   "metadata": {},
   "source": [
    "There is a problem with the column hierarchy. The .csv file was incorrectly read, as the indexing needs to be adjusted. This can simply be done by declaring the `header` parameter as the first row when reading in using `pd.read_csv()`."
   ]
  },
  {
   "cell_type": "code",
   "execution_count": 4,
   "id": "20c01d68",
   "metadata": {
    "scrolled": false
   },
   "outputs": [],
   "source": [
    "contract_df = pd.read_csv('Report Builder.csv', header = 1)"
   ]
  },
  {
   "cell_type": "code",
   "execution_count": 5,
   "id": "242bb704",
   "metadata": {
    "scrolled": true
   },
   "outputs": [
    {
     "data": {
      "text/html": [
       "<div>\n",
       "<style scoped>\n",
       "    .dataframe tbody tr th:only-of-type {\n",
       "        vertical-align: middle;\n",
       "    }\n",
       "\n",
       "    .dataframe tbody tr th {\n",
       "        vertical-align: top;\n",
       "    }\n",
       "\n",
       "    .dataframe thead th {\n",
       "        text-align: right;\n",
       "    }\n",
       "</style>\n",
       "<table border=\"1\" class=\"dataframe\">\n",
       "  <thead>\n",
       "    <tr style=\"text-align: right;\">\n",
       "      <th></th>\n",
       "      <th>Principal Place of Performance State Code</th>\n",
       "      <th>Is Vendor Business Type - Economically Disadvantaged Women Owned Small Business</th>\n",
       "      <th>Is Vendor Business Type - Women Owned Small Business</th>\n",
       "      <th>NAICS Code</th>\n",
       "      <th>NAICS Description</th>\n",
       "      <th>Base and All Options Value (Total Contract Value)</th>\n",
       "    </tr>\n",
       "  </thead>\n",
       "  <tbody>\n",
       "    <tr>\n",
       "      <th>0</th>\n",
       "      <td>AK</td>\n",
       "      <td>NO</td>\n",
       "      <td>NO</td>\n",
       "      <td>112519</td>\n",
       "      <td>OTHER AQUACULTURE (2007), OTHER ANIMAL AQUACUL...</td>\n",
       "      <td>$15,899.80</td>\n",
       "    </tr>\n",
       "    <tr>\n",
       "      <th>1</th>\n",
       "      <td>AK</td>\n",
       "      <td>NO</td>\n",
       "      <td>NO</td>\n",
       "      <td>114119</td>\n",
       "      <td>OTHER MARINE FISHING</td>\n",
       "      <td>$15,630.21</td>\n",
       "    </tr>\n",
       "    <tr>\n",
       "      <th>2</th>\n",
       "      <td>AK</td>\n",
       "      <td>NO</td>\n",
       "      <td>NO</td>\n",
       "      <td>115310</td>\n",
       "      <td>SUPPORT ACTIVITIES FOR FORESTRY</td>\n",
       "      <td>$1,218,689.41</td>\n",
       "    </tr>\n",
       "    <tr>\n",
       "      <th>3</th>\n",
       "      <td>AK</td>\n",
       "      <td>NO</td>\n",
       "      <td>NO</td>\n",
       "      <td>212112</td>\n",
       "      <td>BITUMINOUS COAL UNDERGROUND MINING</td>\n",
       "      <td>$34,976,520.00</td>\n",
       "    </tr>\n",
       "    <tr>\n",
       "      <th>4</th>\n",
       "      <td>AK</td>\n",
       "      <td>NO</td>\n",
       "      <td>NO</td>\n",
       "      <td>212319</td>\n",
       "      <td>OTHER CRUSHED AND BROKEN STONE MINING AND QUAR...</td>\n",
       "      <td>$1,106,156.20</td>\n",
       "    </tr>\n",
       "  </tbody>\n",
       "</table>\n",
       "</div>"
      ],
      "text/plain": [
       "  Principal Place of Performance State Code  \\\n",
       "0                                        AK   \n",
       "1                                        AK   \n",
       "2                                        AK   \n",
       "3                                        AK   \n",
       "4                                        AK   \n",
       "\n",
       "  Is Vendor Business Type - Economically Disadvantaged Women Owned Small Business  \\\n",
       "0                                                 NO                                \n",
       "1                                                 NO                                \n",
       "2                                                 NO                                \n",
       "3                                                 NO                                \n",
       "4                                                 NO                                \n",
       "\n",
       "  Is Vendor Business Type - Women Owned Small Business  NAICS Code  \\\n",
       "0                                                 NO        112519   \n",
       "1                                                 NO        114119   \n",
       "2                                                 NO        115310   \n",
       "3                                                 NO        212112   \n",
       "4                                                 NO        212319   \n",
       "\n",
       "                                   NAICS Description  \\\n",
       "0  OTHER AQUACULTURE (2007), OTHER ANIMAL AQUACUL...   \n",
       "1                               OTHER MARINE FISHING   \n",
       "2                    SUPPORT ACTIVITIES FOR FORESTRY   \n",
       "3                 BITUMINOUS COAL UNDERGROUND MINING   \n",
       "4  OTHER CRUSHED AND BROKEN STONE MINING AND QUAR...   \n",
       "\n",
       "  Base and All Options Value (Total Contract Value)  \n",
       "0                                        $15,899.80  \n",
       "1                                        $15,630.21  \n",
       "2                                     $1,218,689.41  \n",
       "3                                    $34,976,520.00  \n",
       "4                                     $1,106,156.20  "
      ]
     },
     "execution_count": 5,
     "metadata": {},
     "output_type": "execute_result"
    }
   ],
   "source": [
    "contract_df.head()"
   ]
  },
  {
   "cell_type": "markdown",
   "id": "afb458e5",
   "metadata": {},
   "source": [
    "Now, the data looks correct. It can be discerned that each entry of this table is equivalent to one contract, each containing the aforementioned info. Even though it passes the eye test, there is multiple problems that appear when viewing column"
   ]
  },
  {
   "cell_type": "code",
   "execution_count": 6,
   "id": "8f3213a9",
   "metadata": {},
   "outputs": [
    {
     "name": "stdout",
     "output_type": "stream",
     "text": [
      "<class 'pandas.core.frame.DataFrame'>\n",
      "RangeIndex: 36957 entries, 0 to 36956\n",
      "Data columns (total 6 columns):\n",
      " #   Column                                                                           Non-Null Count  Dtype \n",
      "---  ------                                                                           --------------  ----- \n",
      " 0   Principal Place of Performance State Code                                        36957 non-null  object\n",
      " 1   Is Vendor Business Type - Economically Disadvantaged Women Owned Small Business  36957 non-null  object\n",
      " 2   Is Vendor Business Type - Women Owned Small Business                             36957 non-null  object\n",
      " 3   NAICS Code                                                                       36957 non-null  int64 \n",
      " 4   NAICS Description                                                                36957 non-null  object\n",
      " 5   Base and All Options Value (Total Contract Value)                                36957 non-null  object\n",
      "dtypes: int64(1), object(5)\n",
      "memory usage: 1.7+ MB\n"
     ]
    }
   ],
   "source": [
    "contract_df.info()"
   ]
  },
  {
   "cell_type": "markdown",
   "id": "17545526",
   "metadata": {},
   "source": [
    "`NAICS Code` is numeric, but just a label representing an industry. Therefore, this should be converted to a string (object). Similarly, the dollar amounts for the `Base and All Options Value (Total Contract Value)` column should be converted into `double`.         "
   ]
  },
  {
   "cell_type": "code",
   "execution_count": 7,
   "id": "1fabfd58",
   "metadata": {
    "scrolled": true
   },
   "outputs": [
    {
     "name": "stderr",
     "output_type": "stream",
     "text": [
      "/var/folders/7t/p8sb13rj56vgpg9wvfj5ph5c0000gn/T/ipykernel_73695/1331884965.py:6: FutureWarning: The default value of regex will change from True to False in a future version. In addition, single character regular expressions will *not* be treated as literal strings when regex=True.\n",
      "  contract_df[\"Base and All Options Value (Total Contract Value)\"]= contract_df[\"Base and All Options Value (Total Contract Value)\"].str.replace('$','')\n"
     ]
    }
   ],
   "source": [
    "# code to string\n",
    "contract_df['NAICS Code'] = contract_df['NAICS Code'].astype('object')\n",
    "\n",
    "# currency to float\n",
    "# get rid of $ and ,\n",
    "contract_df[\"Base and All Options Value (Total Contract Value)\"]= contract_df[\"Base and All Options Value (Total Contract Value)\"].str.replace('$','')\n",
    "contract_df[\"Base and All Options Value (Total Contract Value)\"]= contract_df[\"Base and All Options Value (Total Contract Value)\"].str.replace(',','')\n",
    "\n",
    "# to float\n",
    "contract_df[\"Base and All Options Value (Total Contract Value)\"] = contract_df['Base and All Options Value (Total Contract Value)'].astype('float64')"
   ]
  },
  {
   "cell_type": "code",
   "execution_count": 8,
   "id": "f5163d42",
   "metadata": {},
   "outputs": [
    {
     "name": "stdout",
     "output_type": "stream",
     "text": [
      "<class 'pandas.core.frame.DataFrame'>\n",
      "RangeIndex: 36957 entries, 0 to 36956\n",
      "Data columns (total 6 columns):\n",
      " #   Column                                                                           Non-Null Count  Dtype  \n",
      "---  ------                                                                           --------------  -----  \n",
      " 0   Principal Place of Performance State Code                                        36957 non-null  object \n",
      " 1   Is Vendor Business Type - Economically Disadvantaged Women Owned Small Business  36957 non-null  object \n",
      " 2   Is Vendor Business Type - Women Owned Small Business                             36957 non-null  object \n",
      " 3   NAICS Code                                                                       36957 non-null  object \n",
      " 4   NAICS Description                                                                36957 non-null  object \n",
      " 5   Base and All Options Value (Total Contract Value)                                36957 non-null  float64\n",
      "dtypes: float64(1), object(5)\n",
      "memory usage: 1.7+ MB\n"
     ]
    }
   ],
   "source": [
    "contract_df.info()"
   ]
  },
  {
   "cell_type": "code",
   "execution_count": 9,
   "id": "df1673a8",
   "metadata": {
    "scrolled": true
   },
   "outputs": [
    {
     "data": {
      "text/html": [
       "<div>\n",
       "<style scoped>\n",
       "    .dataframe tbody tr th:only-of-type {\n",
       "        vertical-align: middle;\n",
       "    }\n",
       "\n",
       "    .dataframe tbody tr th {\n",
       "        vertical-align: top;\n",
       "    }\n",
       "\n",
       "    .dataframe thead th {\n",
       "        text-align: right;\n",
       "    }\n",
       "</style>\n",
       "<table border=\"1\" class=\"dataframe\">\n",
       "  <thead>\n",
       "    <tr style=\"text-align: right;\">\n",
       "      <th></th>\n",
       "      <th>NAICS</th>\n",
       "      <th>Description of NAICS</th>\n",
       "      <th>Set-Aside</th>\n",
       "    </tr>\n",
       "  </thead>\n",
       "  <tbody>\n",
       "    <tr>\n",
       "      <th>0</th>\n",
       "      <td>111110</td>\n",
       "      <td>Soybean Farming</td>\n",
       "      <td>WOSB</td>\n",
       "    </tr>\n",
       "    <tr>\n",
       "      <th>1</th>\n",
       "      <td>111120</td>\n",
       "      <td>Oilseed (except Soybean) Farming</td>\n",
       "      <td>WOSB</td>\n",
       "    </tr>\n",
       "    <tr>\n",
       "      <th>2</th>\n",
       "      <td>111130</td>\n",
       "      <td>Dry Pea and Bean Farming</td>\n",
       "      <td>WOSB</td>\n",
       "    </tr>\n",
       "    <tr>\n",
       "      <th>3</th>\n",
       "      <td>111140</td>\n",
       "      <td>Wheat Farming</td>\n",
       "      <td>WOSB</td>\n",
       "    </tr>\n",
       "    <tr>\n",
       "      <th>4</th>\n",
       "      <td>111150</td>\n",
       "      <td>Corn Farming</td>\n",
       "      <td>WOSB</td>\n",
       "    </tr>\n",
       "  </tbody>\n",
       "</table>\n",
       "</div>"
      ],
      "text/plain": [
       "    NAICS              Description of NAICS Set-Aside\n",
       "0  111110                   Soybean Farming      WOSB\n",
       "1  111120  Oilseed (except Soybean) Farming      WOSB\n",
       "2  111130          Dry Pea and Bean Farming      WOSB\n",
       "3  111140                     Wheat Farming      WOSB\n",
       "4  111150                      Corn Farming      WOSB"
      ]
     },
     "execution_count": 9,
     "metadata": {},
     "output_type": "execute_result"
    }
   ],
   "source": [
    "# view other table\n",
    "naics_df.head()"
   ]
  },
  {
   "cell_type": "markdown",
   "id": "05512032",
   "metadata": {},
   "source": [
    "This simple table defines the NAICS for which these set-aside contracts exist for WOSB and EDWOSB."
   ]
  },
  {
   "cell_type": "code",
   "execution_count": 10,
   "id": "c9fdf550",
   "metadata": {},
   "outputs": [
    {
     "name": "stdout",
     "output_type": "stream",
     "text": [
      "<class 'pandas.core.frame.DataFrame'>\n",
      "RangeIndex: 759 entries, 0 to 758\n",
      "Data columns (total 3 columns):\n",
      " #   Column                Non-Null Count  Dtype \n",
      "---  ------                --------------  ----- \n",
      " 0   NAICS                 759 non-null    int64 \n",
      " 1   Description of NAICS  759 non-null    object\n",
      " 2   Set-Aside             759 non-null    object\n",
      "dtypes: int64(1), object(2)\n",
      "memory usage: 17.9+ KB\n"
     ]
    }
   ],
   "source": [
    "naics_df.info()"
   ]
  },
  {
   "cell_type": "markdown",
   "id": "3ff408c9",
   "metadata": {},
   "source": [
    "There needs to be a similar change for the `NAICS` field which is functionally equivalent to the `NAICS Code` field above."
   ]
  },
  {
   "cell_type": "code",
   "execution_count": 11,
   "id": "8a5eb906",
   "metadata": {},
   "outputs": [],
   "source": [
    "# code to string\n",
    "naics_df['NAICS'] = naics_df['NAICS'].astype('object')"
   ]
  },
  {
   "cell_type": "markdown",
   "id": "e6f86693",
   "metadata": {},
   "source": [
    "By involving this table, we can observe the differential of businesses fulfilling contracts who are eligible for the WOBS or EDWOBS programs, who haven't registered. This can be done by preserving the original `Is Vendor Business Type` columns\n",
    "\n",
    "# FISNISH"
   ]
  },
  {
   "cell_type": "code",
   "execution_count": null,
   "id": "052d01b9",
   "metadata": {},
   "outputs": [],
   "source": []
  },
  {
   "cell_type": "code",
   "execution_count": 12,
   "id": "6f99f517",
   "metadata": {},
   "outputs": [],
   "source": [
    "df = pd.merge(left = contract_df, right = naics_df, how = 'left', left_on = 'NAICS Code', right_on = 'NAICS')"
   ]
  },
  {
   "cell_type": "code",
   "execution_count": 13,
   "id": "eecbd9c9",
   "metadata": {},
   "outputs": [
    {
     "data": {
      "text/html": [
       "<div>\n",
       "<style scoped>\n",
       "    .dataframe tbody tr th:only-of-type {\n",
       "        vertical-align: middle;\n",
       "    }\n",
       "\n",
       "    .dataframe tbody tr th {\n",
       "        vertical-align: top;\n",
       "    }\n",
       "\n",
       "    .dataframe thead th {\n",
       "        text-align: right;\n",
       "    }\n",
       "</style>\n",
       "<table border=\"1\" class=\"dataframe\">\n",
       "  <thead>\n",
       "    <tr style=\"text-align: right;\">\n",
       "      <th></th>\n",
       "      <th>Principal Place of Performance State Code</th>\n",
       "      <th>Is Vendor Business Type - Economically Disadvantaged Women Owned Small Business</th>\n",
       "      <th>Is Vendor Business Type - Women Owned Small Business</th>\n",
       "      <th>NAICS Code</th>\n",
       "      <th>NAICS Description</th>\n",
       "      <th>Base and All Options Value (Total Contract Value)</th>\n",
       "      <th>NAICS</th>\n",
       "      <th>Description of NAICS</th>\n",
       "      <th>Set-Aside</th>\n",
       "    </tr>\n",
       "  </thead>\n",
       "  <tbody>\n",
       "    <tr>\n",
       "      <th>0</th>\n",
       "      <td>AK</td>\n",
       "      <td>NO</td>\n",
       "      <td>NO</td>\n",
       "      <td>112519</td>\n",
       "      <td>OTHER AQUACULTURE (2007), OTHER ANIMAL AQUACUL...</td>\n",
       "      <td>15899.80</td>\n",
       "      <td>NaN</td>\n",
       "      <td>NaN</td>\n",
       "      <td>NaN</td>\n",
       "    </tr>\n",
       "    <tr>\n",
       "      <th>1</th>\n",
       "      <td>AK</td>\n",
       "      <td>NO</td>\n",
       "      <td>NO</td>\n",
       "      <td>114119</td>\n",
       "      <td>OTHER MARINE FISHING</td>\n",
       "      <td>15630.21</td>\n",
       "      <td>NaN</td>\n",
       "      <td>NaN</td>\n",
       "      <td>NaN</td>\n",
       "    </tr>\n",
       "    <tr>\n",
       "      <th>2</th>\n",
       "      <td>AK</td>\n",
       "      <td>NO</td>\n",
       "      <td>NO</td>\n",
       "      <td>115310</td>\n",
       "      <td>SUPPORT ACTIVITIES FOR FORESTRY</td>\n",
       "      <td>1218689.41</td>\n",
       "      <td>115310</td>\n",
       "      <td>Support Activities for Forestry</td>\n",
       "      <td>EDWOSB</td>\n",
       "    </tr>\n",
       "    <tr>\n",
       "      <th>3</th>\n",
       "      <td>AK</td>\n",
       "      <td>NO</td>\n",
       "      <td>NO</td>\n",
       "      <td>212112</td>\n",
       "      <td>BITUMINOUS COAL UNDERGROUND MINING</td>\n",
       "      <td>34976520.00</td>\n",
       "      <td>NaN</td>\n",
       "      <td>NaN</td>\n",
       "      <td>NaN</td>\n",
       "    </tr>\n",
       "    <tr>\n",
       "      <th>4</th>\n",
       "      <td>AK</td>\n",
       "      <td>NO</td>\n",
       "      <td>NO</td>\n",
       "      <td>212319</td>\n",
       "      <td>OTHER CRUSHED AND BROKEN STONE MINING AND QUAR...</td>\n",
       "      <td>1106156.20</td>\n",
       "      <td>212319</td>\n",
       "      <td>Other Crushed and Broken Stone Mining and Quar...</td>\n",
       "      <td>EDWOSB</td>\n",
       "    </tr>\n",
       "    <tr>\n",
       "      <th>...</th>\n",
       "      <td>...</td>\n",
       "      <td>...</td>\n",
       "      <td>...</td>\n",
       "      <td>...</td>\n",
       "      <td>...</td>\n",
       "      <td>...</td>\n",
       "      <td>...</td>\n",
       "      <td>...</td>\n",
       "      <td>...</td>\n",
       "    </tr>\n",
       "    <tr>\n",
       "      <th>36952</th>\n",
       "      <td>WY</td>\n",
       "      <td>YES</td>\n",
       "      <td>YES</td>\n",
       "      <td>622110</td>\n",
       "      <td>GENERAL MEDICAL AND SURGICAL HOSPITALS</td>\n",
       "      <td>490467.95</td>\n",
       "      <td>622110</td>\n",
       "      <td>General Medical and Surgical Hospitals</td>\n",
       "      <td>WOSB</td>\n",
       "    </tr>\n",
       "    <tr>\n",
       "      <th>36953</th>\n",
       "      <td>WY</td>\n",
       "      <td>YES</td>\n",
       "      <td>YES</td>\n",
       "      <td>722310</td>\n",
       "      <td>FOOD SERVICE CONTRACTORS</td>\n",
       "      <td>596372.22</td>\n",
       "      <td>722310</td>\n",
       "      <td>Food Service Contractors</td>\n",
       "      <td>WOSB</td>\n",
       "    </tr>\n",
       "    <tr>\n",
       "      <th>36954</th>\n",
       "      <td>WY</td>\n",
       "      <td>YES</td>\n",
       "      <td>YES</td>\n",
       "      <td>811212</td>\n",
       "      <td>COMPUTER AND OFFICE MACHINE REPAIR AND MAINTEN...</td>\n",
       "      <td>1997913.60</td>\n",
       "      <td>811212</td>\n",
       "      <td>Computer and Office Machine Repair and Mainten...</td>\n",
       "      <td>WOSB</td>\n",
       "    </tr>\n",
       "    <tr>\n",
       "      <th>36955</th>\n",
       "      <td>WY</td>\n",
       "      <td>YES</td>\n",
       "      <td>YES</td>\n",
       "      <td>811310</td>\n",
       "      <td>COMMERCIAL AND INDUSTRIAL MACHINERY AND EQUIPM...</td>\n",
       "      <td>153615.14</td>\n",
       "      <td>811310</td>\n",
       "      <td>Commercial and Industrial Machinery and Equipm...</td>\n",
       "      <td>WOSB</td>\n",
       "    </tr>\n",
       "    <tr>\n",
       "      <th>36956</th>\n",
       "      <td>WY</td>\n",
       "      <td>YES</td>\n",
       "      <td>YES</td>\n",
       "      <td>813110</td>\n",
       "      <td>RELIGIOUS ORGANIZATIONS</td>\n",
       "      <td>0.00</td>\n",
       "      <td>813110</td>\n",
       "      <td>Religious Organizations</td>\n",
       "      <td>EDWOSB</td>\n",
       "    </tr>\n",
       "  </tbody>\n",
       "</table>\n",
       "<p>36957 rows × 9 columns</p>\n",
       "</div>"
      ],
      "text/plain": [
       "      Principal Place of Performance State Code  \\\n",
       "0                                            AK   \n",
       "1                                            AK   \n",
       "2                                            AK   \n",
       "3                                            AK   \n",
       "4                                            AK   \n",
       "...                                         ...   \n",
       "36952                                        WY   \n",
       "36953                                        WY   \n",
       "36954                                        WY   \n",
       "36955                                        WY   \n",
       "36956                                        WY   \n",
       "\n",
       "      Is Vendor Business Type - Economically Disadvantaged Women Owned Small Business  \\\n",
       "0                                                     NO                                \n",
       "1                                                     NO                                \n",
       "2                                                     NO                                \n",
       "3                                                     NO                                \n",
       "4                                                     NO                                \n",
       "...                                                  ...                                \n",
       "36952                                                YES                                \n",
       "36953                                                YES                                \n",
       "36954                                                YES                                \n",
       "36955                                                YES                                \n",
       "36956                                                YES                                \n",
       "\n",
       "      Is Vendor Business Type - Women Owned Small Business NAICS Code  \\\n",
       "0                                                     NO       112519   \n",
       "1                                                     NO       114119   \n",
       "2                                                     NO       115310   \n",
       "3                                                     NO       212112   \n",
       "4                                                     NO       212319   \n",
       "...                                                  ...          ...   \n",
       "36952                                                YES       622110   \n",
       "36953                                                YES       722310   \n",
       "36954                                                YES       811212   \n",
       "36955                                                YES       811310   \n",
       "36956                                                YES       813110   \n",
       "\n",
       "                                       NAICS Description  \\\n",
       "0      OTHER AQUACULTURE (2007), OTHER ANIMAL AQUACUL...   \n",
       "1                                   OTHER MARINE FISHING   \n",
       "2                        SUPPORT ACTIVITIES FOR FORESTRY   \n",
       "3                     BITUMINOUS COAL UNDERGROUND MINING   \n",
       "4      OTHER CRUSHED AND BROKEN STONE MINING AND QUAR...   \n",
       "...                                                  ...   \n",
       "36952             GENERAL MEDICAL AND SURGICAL HOSPITALS   \n",
       "36953                           FOOD SERVICE CONTRACTORS   \n",
       "36954  COMPUTER AND OFFICE MACHINE REPAIR AND MAINTEN...   \n",
       "36955  COMMERCIAL AND INDUSTRIAL MACHINERY AND EQUIPM...   \n",
       "36956                            RELIGIOUS ORGANIZATIONS   \n",
       "\n",
       "       Base and All Options Value (Total Contract Value)   NAICS  \\\n",
       "0                                               15899.80     NaN   \n",
       "1                                               15630.21     NaN   \n",
       "2                                             1218689.41  115310   \n",
       "3                                            34976520.00     NaN   \n",
       "4                                             1106156.20  212319   \n",
       "...                                                  ...     ...   \n",
       "36952                                          490467.95  622110   \n",
       "36953                                          596372.22  722310   \n",
       "36954                                         1997913.60  811212   \n",
       "36955                                          153615.14  811310   \n",
       "36956                                               0.00  813110   \n",
       "\n",
       "                                    Description of NAICS Set-Aside  \n",
       "0                                                    NaN       NaN  \n",
       "1                                                    NaN       NaN  \n",
       "2                        Support Activities for Forestry    EDWOSB  \n",
       "3                                                    NaN       NaN  \n",
       "4      Other Crushed and Broken Stone Mining and Quar...    EDWOSB  \n",
       "...                                                  ...       ...  \n",
       "36952             General Medical and Surgical Hospitals      WOSB  \n",
       "36953                           Food Service Contractors      WOSB  \n",
       "36954  Computer and Office Machine Repair and Mainten...      WOSB  \n",
       "36955  Commercial and Industrial Machinery and Equipm...      WOSB  \n",
       "36956                            Religious Organizations    EDWOSB  \n",
       "\n",
       "[36957 rows x 9 columns]"
      ]
     },
     "execution_count": 13,
     "metadata": {},
     "output_type": "execute_result"
    }
   ],
   "source": [
    "df"
   ]
  },
  {
   "cell_type": "code",
   "execution_count": 14,
   "id": "01514c0c",
   "metadata": {
    "scrolled": true
   },
   "outputs": [
    {
     "data": {
      "text/html": [
       "<div>\n",
       "<style scoped>\n",
       "    .dataframe tbody tr th:only-of-type {\n",
       "        vertical-align: middle;\n",
       "    }\n",
       "\n",
       "    .dataframe tbody tr th {\n",
       "        vertical-align: top;\n",
       "    }\n",
       "\n",
       "    .dataframe thead th {\n",
       "        text-align: right;\n",
       "    }\n",
       "</style>\n",
       "<table border=\"1\" class=\"dataframe\">\n",
       "  <thead>\n",
       "    <tr style=\"text-align: right;\">\n",
       "      <th></th>\n",
       "      <th></th>\n",
       "      <th>Base and All Options Value (Total Contract Value)</th>\n",
       "    </tr>\n",
       "    <tr>\n",
       "      <th>Principal Place of Performance State Code</th>\n",
       "      <th>Is Vendor Business Type - Women Owned Small Business</th>\n",
       "      <th></th>\n",
       "    </tr>\n",
       "  </thead>\n",
       "  <tbody>\n",
       "    <tr>\n",
       "      <th rowspan=\"2\" valign=\"top\">AK</th>\n",
       "      <th>NO</th>\n",
       "      <td>7.670099e+09</td>\n",
       "    </tr>\n",
       "    <tr>\n",
       "      <th>YES</th>\n",
       "      <td>1.052060e+08</td>\n",
       "    </tr>\n",
       "    <tr>\n",
       "      <th rowspan=\"2\" valign=\"top\">AL</th>\n",
       "      <th>NO</th>\n",
       "      <td>2.707434e+10</td>\n",
       "    </tr>\n",
       "    <tr>\n",
       "      <th>YES</th>\n",
       "      <td>7.436778e+08</td>\n",
       "    </tr>\n",
       "    <tr>\n",
       "      <th>AR</th>\n",
       "      <th>NO</th>\n",
       "      <td>1.011262e+09</td>\n",
       "    </tr>\n",
       "  </tbody>\n",
       "</table>\n",
       "</div>"
      ],
      "text/plain": [
       "                                                                                              Base and All Options Value (Total Contract Value)\n",
       "Principal Place of Performance State Code Is Vendor Business Type - Women Owned Small Bus...                                                   \n",
       "AK                                        NO                                                                                       7.670099e+09\n",
       "                                          YES                                                                                      1.052060e+08\n",
       "AL                                        NO                                                                                       2.707434e+10\n",
       "                                          YES                                                                                      7.436778e+08\n",
       "AR                                        NO                                                                                       1.011262e+09"
      ]
     },
     "execution_count": 14,
     "metadata": {},
     "output_type": "execute_result"
    }
   ],
   "source": [
    "per_state = df.groupby(['Principal Place of Performance State Code','Is Vendor Business Type - Women Owned Small Business']).sum()\n",
    "per_state.head()"
   ]
  },
  {
   "cell_type": "code",
   "execution_count": 15,
   "id": "35efc9dc",
   "metadata": {},
   "outputs": [],
   "source": [
    "# reset to obtain values from index hierarchy\n",
    "per_state.reset_index(inplace = True)"
   ]
  },
  {
   "cell_type": "code",
   "execution_count": 16,
   "id": "b6856753",
   "metadata": {},
   "outputs": [
    {
     "data": {
      "text/html": [
       "<div>\n",
       "<style scoped>\n",
       "    .dataframe tbody tr th:only-of-type {\n",
       "        vertical-align: middle;\n",
       "    }\n",
       "\n",
       "    .dataframe tbody tr th {\n",
       "        vertical-align: top;\n",
       "    }\n",
       "\n",
       "    .dataframe thead th {\n",
       "        text-align: right;\n",
       "    }\n",
       "</style>\n",
       "<table border=\"1\" class=\"dataframe\">\n",
       "  <thead>\n",
       "    <tr style=\"text-align: right;\">\n",
       "      <th></th>\n",
       "      <th>Principal Place of Performance State Code</th>\n",
       "      <th>Is Vendor Business Type - Women Owned Small Business</th>\n",
       "      <th>Base and All Options Value (Total Contract Value)</th>\n",
       "    </tr>\n",
       "  </thead>\n",
       "  <tbody>\n",
       "    <tr>\n",
       "      <th>0</th>\n",
       "      <td>AK</td>\n",
       "      <td>NO</td>\n",
       "      <td>7.670099e+09</td>\n",
       "    </tr>\n",
       "    <tr>\n",
       "      <th>1</th>\n",
       "      <td>AK</td>\n",
       "      <td>YES</td>\n",
       "      <td>1.052060e+08</td>\n",
       "    </tr>\n",
       "    <tr>\n",
       "      <th>2</th>\n",
       "      <td>AL</td>\n",
       "      <td>NO</td>\n",
       "      <td>2.707434e+10</td>\n",
       "    </tr>\n",
       "    <tr>\n",
       "      <th>3</th>\n",
       "      <td>AL</td>\n",
       "      <td>YES</td>\n",
       "      <td>7.436778e+08</td>\n",
       "    </tr>\n",
       "    <tr>\n",
       "      <th>4</th>\n",
       "      <td>AR</td>\n",
       "      <td>NO</td>\n",
       "      <td>1.011262e+09</td>\n",
       "    </tr>\n",
       "    <tr>\n",
       "      <th>...</th>\n",
       "      <td>...</td>\n",
       "      <td>...</td>\n",
       "      <td>...</td>\n",
       "    </tr>\n",
       "    <tr>\n",
       "      <th>108</th>\n",
       "      <td>WI</td>\n",
       "      <td>YES</td>\n",
       "      <td>7.189703e+07</td>\n",
       "    </tr>\n",
       "    <tr>\n",
       "      <th>109</th>\n",
       "      <td>WV</td>\n",
       "      <td>NO</td>\n",
       "      <td>1.483276e+09</td>\n",
       "    </tr>\n",
       "    <tr>\n",
       "      <th>110</th>\n",
       "      <td>WV</td>\n",
       "      <td>YES</td>\n",
       "      <td>6.102721e+07</td>\n",
       "    </tr>\n",
       "    <tr>\n",
       "      <th>111</th>\n",
       "      <td>WY</td>\n",
       "      <td>NO</td>\n",
       "      <td>3.350885e+08</td>\n",
       "    </tr>\n",
       "    <tr>\n",
       "      <th>112</th>\n",
       "      <td>WY</td>\n",
       "      <td>YES</td>\n",
       "      <td>6.643777e+07</td>\n",
       "    </tr>\n",
       "  </tbody>\n",
       "</table>\n",
       "<p>113 rows × 3 columns</p>\n",
       "</div>"
      ],
      "text/plain": [
       "    Principal Place of Performance State Code  \\\n",
       "0                                          AK   \n",
       "1                                          AK   \n",
       "2                                          AL   \n",
       "3                                          AL   \n",
       "4                                          AR   \n",
       "..                                        ...   \n",
       "108                                        WI   \n",
       "109                                        WV   \n",
       "110                                        WV   \n",
       "111                                        WY   \n",
       "112                                        WY   \n",
       "\n",
       "    Is Vendor Business Type - Women Owned Small Business  \\\n",
       "0                                                   NO     \n",
       "1                                                  YES     \n",
       "2                                                   NO     \n",
       "3                                                  YES     \n",
       "4                                                   NO     \n",
       "..                                                 ...     \n",
       "108                                                YES     \n",
       "109                                                 NO     \n",
       "110                                                YES     \n",
       "111                                                 NO     \n",
       "112                                                YES     \n",
       "\n",
       "     Base and All Options Value (Total Contract Value)  \n",
       "0                                         7.670099e+09  \n",
       "1                                         1.052060e+08  \n",
       "2                                         2.707434e+10  \n",
       "3                                         7.436778e+08  \n",
       "4                                         1.011262e+09  \n",
       "..                                                 ...  \n",
       "108                                       7.189703e+07  \n",
       "109                                       1.483276e+09  \n",
       "110                                       6.102721e+07  \n",
       "111                                       3.350885e+08  \n",
       "112                                       6.643777e+07  \n",
       "\n",
       "[113 rows x 3 columns]"
      ]
     },
     "execution_count": 16,
     "metadata": {},
     "output_type": "execute_result"
    }
   ],
   "source": [
    "per_state"
   ]
  },
  {
   "cell_type": "code",
   "execution_count": 17,
   "id": "041b2c54",
   "metadata": {},
   "outputs": [],
   "source": [
    "# round to millions for more reader comprehension\n",
    "per_state['Base and All Options Value (Total Contract Value)'] = round(per_state['Base and All Options Value (Total Contract Value)']/1000000,2)"
   ]
  },
  {
   "cell_type": "code",
   "execution_count": 18,
   "id": "84061e01",
   "metadata": {},
   "outputs": [
    {
     "data": {
      "text/html": [
       "<div>\n",
       "<style scoped>\n",
       "    .dataframe tbody tr th:only-of-type {\n",
       "        vertical-align: middle;\n",
       "    }\n",
       "\n",
       "    .dataframe tbody tr th {\n",
       "        vertical-align: top;\n",
       "    }\n",
       "\n",
       "    .dataframe thead th {\n",
       "        text-align: right;\n",
       "    }\n",
       "</style>\n",
       "<table border=\"1\" class=\"dataframe\">\n",
       "  <thead>\n",
       "    <tr style=\"text-align: right;\">\n",
       "      <th></th>\n",
       "      <th>Principal Place of Performance State Code</th>\n",
       "      <th>Is Vendor Business Type - Women Owned Small Business</th>\n",
       "      <th>Base and All Options Value (Total Contract Value)</th>\n",
       "    </tr>\n",
       "  </thead>\n",
       "  <tbody>\n",
       "    <tr>\n",
       "      <th>0</th>\n",
       "      <td>AK</td>\n",
       "      <td>NO</td>\n",
       "      <td>7670.10</td>\n",
       "    </tr>\n",
       "    <tr>\n",
       "      <th>1</th>\n",
       "      <td>AK</td>\n",
       "      <td>YES</td>\n",
       "      <td>105.21</td>\n",
       "    </tr>\n",
       "    <tr>\n",
       "      <th>2</th>\n",
       "      <td>AL</td>\n",
       "      <td>NO</td>\n",
       "      <td>27074.34</td>\n",
       "    </tr>\n",
       "    <tr>\n",
       "      <th>3</th>\n",
       "      <td>AL</td>\n",
       "      <td>YES</td>\n",
       "      <td>743.68</td>\n",
       "    </tr>\n",
       "    <tr>\n",
       "      <th>4</th>\n",
       "      <td>AR</td>\n",
       "      <td>NO</td>\n",
       "      <td>1011.26</td>\n",
       "    </tr>\n",
       "  </tbody>\n",
       "</table>\n",
       "</div>"
      ],
      "text/plain": [
       "  Principal Place of Performance State Code  \\\n",
       "0                                        AK   \n",
       "1                                        AK   \n",
       "2                                        AL   \n",
       "3                                        AL   \n",
       "4                                        AR   \n",
       "\n",
       "  Is Vendor Business Type - Women Owned Small Business  \\\n",
       "0                                                 NO     \n",
       "1                                                YES     \n",
       "2                                                 NO     \n",
       "3                                                YES     \n",
       "4                                                 NO     \n",
       "\n",
       "   Base and All Options Value (Total Contract Value)  \n",
       "0                                            7670.10  \n",
       "1                                             105.21  \n",
       "2                                           27074.34  \n",
       "3                                             743.68  \n",
       "4                                            1011.26  "
      ]
     },
     "execution_count": 18,
     "metadata": {},
     "output_type": "execute_result"
    }
   ],
   "source": [
    "per_state.head()"
   ]
  },
  {
   "cell_type": "code",
   "execution_count": 19,
   "id": "ebb74dde",
   "metadata": {
    "scrolled": true
   },
   "outputs": [],
   "source": [
    "total  = per_state.groupby('Principal Place of Performance State Code').sum()\n",
    "partial = per_state['Base and All Options Value (Total Contract Value)']\n",
    "\n",
    "import numpy as np\n",
    "total= pd.Series(np.repeat(total.values,2))\n",
    "\n",
    "per_state['Statewide Percentage of Total Contracted Dollars'] = round(partial/total,4)*100\n"
   ]
  },
  {
   "cell_type": "code",
   "execution_count": 20,
   "id": "fa1ccd61",
   "metadata": {
    "scrolled": true
   },
   "outputs": [
    {
     "data": {
      "text/plain": [
       "Principal Place of Performance State Code\n",
       "FM    100.00\n",
       "WY     16.55\n",
       "MI     14.40\n",
       "DE     13.62\n",
       "SD      9.46\n",
       "RI      8.90\n",
       "LA      8.35\n",
       "MT      7.90\n",
       "AR      7.84\n",
       "ND      7.31\n",
       "MD      7.20\n",
       "Name: Statewide Percentage of Total Contracted Dollars, dtype: float64"
      ]
     },
     "execution_count": 20,
     "metadata": {},
     "output_type": "execute_result"
    }
   ],
   "source": [
    "highest_percentage_wosb = per_state.groupby('Principal Place of Performance State Code').min('Statewide Percentage of Total Contracted Dollars')\\\n",
    "['Statewide Percentage of Total Contracted Dollars'].sort_values(ascending = False).iloc[:11]\n",
    "\n",
    "highest_percentage_wosb"
   ]
  },
  {
   "cell_type": "code",
   "execution_count": 21,
   "id": "a7e398c2",
   "metadata": {},
   "outputs": [
    {
     "data": {
      "text/plain": [
       "Principal Place of Performance State Code\n",
       "WY    16.55\n",
       "MI    14.40\n",
       "DE    13.62\n",
       "SD     9.46\n",
       "RI     8.90\n",
       "LA     8.35\n",
       "MT     7.90\n",
       "AR     7.84\n",
       "ND     7.31\n",
       "MD     7.20\n",
       "Name: Statewide Percentage of Total Contracted Dollars, dtype: float64"
      ]
     },
     "execution_count": 21,
     "metadata": {},
     "output_type": "execute_result"
    }
   ],
   "source": [
    "highest_percentage_wosb = highest_percentage_wosb[1:]\n",
    "\n",
    "highest_percentage_wosb"
   ]
  },
  {
   "cell_type": "code",
   "execution_count": 76,
   "id": "bdc61197",
   "metadata": {
    "scrolled": false
   },
   "outputs": [
    {
     "data": {
      "application/vnd.plotly.v1+json": {
       "config": {
        "plotlyServerURL": "https://plot.ly"
       },
       "data": [
        {
         "alignmentgroup": "True",
         "bingroup": "x",
         "histfunc": "sum",
         "hovertemplate": "Women Owned Small Business=NO<br>State of Contract=%{x}<br>sum of Contract Value (in millions of dollars)=%{y}<extra></extra>",
         "legendgroup": "NO",
         "marker": {
          "color": "#636efa",
          "opacity": 0.5,
          "pattern": {
           "shape": ""
          }
         },
         "name": "NO",
         "offsetgroup": "NO",
         "orientation": "v",
         "showlegend": true,
         "type": "histogram",
         "x": [
          "AK",
          "AL",
          "AR",
          "AS",
          "AZ",
          "CA",
          "CO",
          "CT",
          "DC",
          "DE",
          "FL",
          "FM",
          "GA",
          "GU",
          "HI",
          "IA",
          "ID",
          "IL",
          "IN",
          "KS",
          "KY",
          "LA",
          "MA",
          "MD",
          "ME",
          "MI",
          "MN",
          "MO",
          "MP",
          "MS",
          "MT",
          "NC",
          "ND",
          "NE",
          "NH",
          "NJ",
          "NM",
          "NV",
          "NY",
          "OH",
          "OK",
          "OR",
          "PA",
          "PR",
          "RI",
          "SC",
          "SD",
          "TN",
          "TX",
          "UT",
          "VA",
          "VI",
          "VT",
          "WA",
          "WI",
          "WV",
          "WY"
         ],
         "xaxis": "x",
         "y": [
          7670.1,
          27074.34,
          1011.26,
          0.84,
          50368.65,
          58320.52,
          17903.6,
          13680.86,
          50193.77,
          247.25,
          27020.97,
          0.18,
          11022.45,
          2265.29,
          3135.14,
          2678.07,
          1215.65,
          12964.74,
          5334.51,
          3237.54,
          6598.62,
          5286.05,
          19424.76,
          75256.88,
          2732.74,
          6464.16,
          2640.32,
          17331.47,
          249.85,
          5185.16,
          1287.86,
          7935.63,
          688.17,
          1505.14,
          1982.78,
          12479.61,
          12794.13,
          3180.64,
          31580.11,
          13846.29,
          7556.47,
          1902.92,
          17580.84,
          768.18,
          1255.25,
          6086.23,
          601.32,
          36205.76,
          62395.23,
          14999.72,
          111027.19,
          53.91,
          432.25,
          12746.57,
          5482.58,
          1483.28,
          335.09
         ],
         "yaxis": "y"
        },
        {
         "alignmentgroup": "True",
         "bingroup": "x",
         "histfunc": "sum",
         "hovertemplate": "Women Owned Small Business=YES<br>State of Contract=%{x}<br>sum of Contract Value (in millions of dollars)=%{y}<extra></extra>",
         "legendgroup": "YES",
         "marker": {
          "color": "#EF553B",
          "opacity": 0.5,
          "pattern": {
           "shape": ""
          }
         },
         "name": "YES",
         "offsetgroup": "YES",
         "orientation": "v",
         "showlegend": true,
         "type": "histogram",
         "x": [
          "AK",
          "AL",
          "AR",
          "AS",
          "AZ",
          "CA",
          "CO",
          "CT",
          "DC",
          "DE",
          "FL",
          "GA",
          "GU",
          "HI",
          "IA",
          "ID",
          "IL",
          "IN",
          "KS",
          "KY",
          "LA",
          "MA",
          "MD",
          "ME",
          "MI",
          "MN",
          "MO",
          "MP",
          "MS",
          "MT",
          "NC",
          "ND",
          "NE",
          "NH",
          "NJ",
          "NM",
          "NV",
          "NY",
          "OH",
          "OK",
          "OR",
          "PA",
          "PR",
          "RI",
          "SC",
          "SD",
          "TN",
          "TX",
          "UT",
          "VA",
          "VI",
          "VT",
          "WA",
          "WI",
          "WV",
          "WY"
         ],
         "xaxis": "x",
         "y": [
          105.21,
          743.68,
          86.05,
          0.06,
          214.84,
          1711.3,
          899.75,
          39.74,
          3063.41,
          39,
          1147.76,
          604.92,
          64.07,
          201.82,
          27.16,
          48.61,
          486.97,
          110.24,
          107.62,
          255.65,
          481.87,
          266.11,
          5840.22,
          32.24,
          1087.62,
          49.81,
          225.92,
          0.24,
          231.67,
          110.51,
          391.94,
          54.26,
          80.15,
          54.7,
          343.87,
          266.86,
          111.03,
          409.54,
          654.7,
          346.03,
          66.13,
          355.45,
          138.53,
          122.64,
          267.13,
          176.18,
          160.61,
          1697.03,
          177.91,
          6149.65,
          4.13,
          29.43,
          219.55,
          71.9,
          61.03,
          66.44
         ],
         "yaxis": "y"
        }
       ],
       "layout": {
        "barmode": "overlay",
        "legend": {
         "title": {
          "text": "Women Owned Small Business"
         },
         "tracegroupgap": 0
        },
        "template": {
         "data": {
          "bar": [
           {
            "error_x": {
             "color": "#2a3f5f"
            },
            "error_y": {
             "color": "#2a3f5f"
            },
            "marker": {
             "line": {
              "color": "#E5ECF6",
              "width": 0.5
             },
             "pattern": {
              "fillmode": "overlay",
              "size": 10,
              "solidity": 0.2
             }
            },
            "type": "bar"
           }
          ],
          "barpolar": [
           {
            "marker": {
             "line": {
              "color": "#E5ECF6",
              "width": 0.5
             },
             "pattern": {
              "fillmode": "overlay",
              "size": 10,
              "solidity": 0.2
             }
            },
            "type": "barpolar"
           }
          ],
          "carpet": [
           {
            "aaxis": {
             "endlinecolor": "#2a3f5f",
             "gridcolor": "white",
             "linecolor": "white",
             "minorgridcolor": "white",
             "startlinecolor": "#2a3f5f"
            },
            "baxis": {
             "endlinecolor": "#2a3f5f",
             "gridcolor": "white",
             "linecolor": "white",
             "minorgridcolor": "white",
             "startlinecolor": "#2a3f5f"
            },
            "type": "carpet"
           }
          ],
          "choropleth": [
           {
            "colorbar": {
             "outlinewidth": 0,
             "ticks": ""
            },
            "type": "choropleth"
           }
          ],
          "contour": [
           {
            "colorbar": {
             "outlinewidth": 0,
             "ticks": ""
            },
            "colorscale": [
             [
              0,
              "#0d0887"
             ],
             [
              0.1111111111111111,
              "#46039f"
             ],
             [
              0.2222222222222222,
              "#7201a8"
             ],
             [
              0.3333333333333333,
              "#9c179e"
             ],
             [
              0.4444444444444444,
              "#bd3786"
             ],
             [
              0.5555555555555556,
              "#d8576b"
             ],
             [
              0.6666666666666666,
              "#ed7953"
             ],
             [
              0.7777777777777778,
              "#fb9f3a"
             ],
             [
              0.8888888888888888,
              "#fdca26"
             ],
             [
              1,
              "#f0f921"
             ]
            ],
            "type": "contour"
           }
          ],
          "contourcarpet": [
           {
            "colorbar": {
             "outlinewidth": 0,
             "ticks": ""
            },
            "type": "contourcarpet"
           }
          ],
          "heatmap": [
           {
            "colorbar": {
             "outlinewidth": 0,
             "ticks": ""
            },
            "colorscale": [
             [
              0,
              "#0d0887"
             ],
             [
              0.1111111111111111,
              "#46039f"
             ],
             [
              0.2222222222222222,
              "#7201a8"
             ],
             [
              0.3333333333333333,
              "#9c179e"
             ],
             [
              0.4444444444444444,
              "#bd3786"
             ],
             [
              0.5555555555555556,
              "#d8576b"
             ],
             [
              0.6666666666666666,
              "#ed7953"
             ],
             [
              0.7777777777777778,
              "#fb9f3a"
             ],
             [
              0.8888888888888888,
              "#fdca26"
             ],
             [
              1,
              "#f0f921"
             ]
            ],
            "type": "heatmap"
           }
          ],
          "heatmapgl": [
           {
            "colorbar": {
             "outlinewidth": 0,
             "ticks": ""
            },
            "colorscale": [
             [
              0,
              "#0d0887"
             ],
             [
              0.1111111111111111,
              "#46039f"
             ],
             [
              0.2222222222222222,
              "#7201a8"
             ],
             [
              0.3333333333333333,
              "#9c179e"
             ],
             [
              0.4444444444444444,
              "#bd3786"
             ],
             [
              0.5555555555555556,
              "#d8576b"
             ],
             [
              0.6666666666666666,
              "#ed7953"
             ],
             [
              0.7777777777777778,
              "#fb9f3a"
             ],
             [
              0.8888888888888888,
              "#fdca26"
             ],
             [
              1,
              "#f0f921"
             ]
            ],
            "type": "heatmapgl"
           }
          ],
          "histogram": [
           {
            "marker": {
             "pattern": {
              "fillmode": "overlay",
              "size": 10,
              "solidity": 0.2
             }
            },
            "type": "histogram"
           }
          ],
          "histogram2d": [
           {
            "colorbar": {
             "outlinewidth": 0,
             "ticks": ""
            },
            "colorscale": [
             [
              0,
              "#0d0887"
             ],
             [
              0.1111111111111111,
              "#46039f"
             ],
             [
              0.2222222222222222,
              "#7201a8"
             ],
             [
              0.3333333333333333,
              "#9c179e"
             ],
             [
              0.4444444444444444,
              "#bd3786"
             ],
             [
              0.5555555555555556,
              "#d8576b"
             ],
             [
              0.6666666666666666,
              "#ed7953"
             ],
             [
              0.7777777777777778,
              "#fb9f3a"
             ],
             [
              0.8888888888888888,
              "#fdca26"
             ],
             [
              1,
              "#f0f921"
             ]
            ],
            "type": "histogram2d"
           }
          ],
          "histogram2dcontour": [
           {
            "colorbar": {
             "outlinewidth": 0,
             "ticks": ""
            },
            "colorscale": [
             [
              0,
              "#0d0887"
             ],
             [
              0.1111111111111111,
              "#46039f"
             ],
             [
              0.2222222222222222,
              "#7201a8"
             ],
             [
              0.3333333333333333,
              "#9c179e"
             ],
             [
              0.4444444444444444,
              "#bd3786"
             ],
             [
              0.5555555555555556,
              "#d8576b"
             ],
             [
              0.6666666666666666,
              "#ed7953"
             ],
             [
              0.7777777777777778,
              "#fb9f3a"
             ],
             [
              0.8888888888888888,
              "#fdca26"
             ],
             [
              1,
              "#f0f921"
             ]
            ],
            "type": "histogram2dcontour"
           }
          ],
          "mesh3d": [
           {
            "colorbar": {
             "outlinewidth": 0,
             "ticks": ""
            },
            "type": "mesh3d"
           }
          ],
          "parcoords": [
           {
            "line": {
             "colorbar": {
              "outlinewidth": 0,
              "ticks": ""
             }
            },
            "type": "parcoords"
           }
          ],
          "pie": [
           {
            "automargin": true,
            "type": "pie"
           }
          ],
          "scatter": [
           {
            "marker": {
             "colorbar": {
              "outlinewidth": 0,
              "ticks": ""
             }
            },
            "type": "scatter"
           }
          ],
          "scatter3d": [
           {
            "line": {
             "colorbar": {
              "outlinewidth": 0,
              "ticks": ""
             }
            },
            "marker": {
             "colorbar": {
              "outlinewidth": 0,
              "ticks": ""
             }
            },
            "type": "scatter3d"
           }
          ],
          "scattercarpet": [
           {
            "marker": {
             "colorbar": {
              "outlinewidth": 0,
              "ticks": ""
             }
            },
            "type": "scattercarpet"
           }
          ],
          "scattergeo": [
           {
            "marker": {
             "colorbar": {
              "outlinewidth": 0,
              "ticks": ""
             }
            },
            "type": "scattergeo"
           }
          ],
          "scattergl": [
           {
            "marker": {
             "colorbar": {
              "outlinewidth": 0,
              "ticks": ""
             }
            },
            "type": "scattergl"
           }
          ],
          "scattermapbox": [
           {
            "marker": {
             "colorbar": {
              "outlinewidth": 0,
              "ticks": ""
             }
            },
            "type": "scattermapbox"
           }
          ],
          "scatterpolar": [
           {
            "marker": {
             "colorbar": {
              "outlinewidth": 0,
              "ticks": ""
             }
            },
            "type": "scatterpolar"
           }
          ],
          "scatterpolargl": [
           {
            "marker": {
             "colorbar": {
              "outlinewidth": 0,
              "ticks": ""
             }
            },
            "type": "scatterpolargl"
           }
          ],
          "scatterternary": [
           {
            "marker": {
             "colorbar": {
              "outlinewidth": 0,
              "ticks": ""
             }
            },
            "type": "scatterternary"
           }
          ],
          "surface": [
           {
            "colorbar": {
             "outlinewidth": 0,
             "ticks": ""
            },
            "colorscale": [
             [
              0,
              "#0d0887"
             ],
             [
              0.1111111111111111,
              "#46039f"
             ],
             [
              0.2222222222222222,
              "#7201a8"
             ],
             [
              0.3333333333333333,
              "#9c179e"
             ],
             [
              0.4444444444444444,
              "#bd3786"
             ],
             [
              0.5555555555555556,
              "#d8576b"
             ],
             [
              0.6666666666666666,
              "#ed7953"
             ],
             [
              0.7777777777777778,
              "#fb9f3a"
             ],
             [
              0.8888888888888888,
              "#fdca26"
             ],
             [
              1,
              "#f0f921"
             ]
            ],
            "type": "surface"
           }
          ],
          "table": [
           {
            "cells": {
             "fill": {
              "color": "#EBF0F8"
             },
             "line": {
              "color": "white"
             }
            },
            "header": {
             "fill": {
              "color": "#C8D4E3"
             },
             "line": {
              "color": "white"
             }
            },
            "type": "table"
           }
          ]
         },
         "layout": {
          "annotationdefaults": {
           "arrowcolor": "#2a3f5f",
           "arrowhead": 0,
           "arrowwidth": 1
          },
          "autotypenumbers": "strict",
          "coloraxis": {
           "colorbar": {
            "outlinewidth": 0,
            "ticks": ""
           }
          },
          "colorscale": {
           "diverging": [
            [
             0,
             "#8e0152"
            ],
            [
             0.1,
             "#c51b7d"
            ],
            [
             0.2,
             "#de77ae"
            ],
            [
             0.3,
             "#f1b6da"
            ],
            [
             0.4,
             "#fde0ef"
            ],
            [
             0.5,
             "#f7f7f7"
            ],
            [
             0.6,
             "#e6f5d0"
            ],
            [
             0.7,
             "#b8e186"
            ],
            [
             0.8,
             "#7fbc41"
            ],
            [
             0.9,
             "#4d9221"
            ],
            [
             1,
             "#276419"
            ]
           ],
           "sequential": [
            [
             0,
             "#0d0887"
            ],
            [
             0.1111111111111111,
             "#46039f"
            ],
            [
             0.2222222222222222,
             "#7201a8"
            ],
            [
             0.3333333333333333,
             "#9c179e"
            ],
            [
             0.4444444444444444,
             "#bd3786"
            ],
            [
             0.5555555555555556,
             "#d8576b"
            ],
            [
             0.6666666666666666,
             "#ed7953"
            ],
            [
             0.7777777777777778,
             "#fb9f3a"
            ],
            [
             0.8888888888888888,
             "#fdca26"
            ],
            [
             1,
             "#f0f921"
            ]
           ],
           "sequentialminus": [
            [
             0,
             "#0d0887"
            ],
            [
             0.1111111111111111,
             "#46039f"
            ],
            [
             0.2222222222222222,
             "#7201a8"
            ],
            [
             0.3333333333333333,
             "#9c179e"
            ],
            [
             0.4444444444444444,
             "#bd3786"
            ],
            [
             0.5555555555555556,
             "#d8576b"
            ],
            [
             0.6666666666666666,
             "#ed7953"
            ],
            [
             0.7777777777777778,
             "#fb9f3a"
            ],
            [
             0.8888888888888888,
             "#fdca26"
            ],
            [
             1,
             "#f0f921"
            ]
           ]
          },
          "colorway": [
           "#636efa",
           "#EF553B",
           "#00cc96",
           "#ab63fa",
           "#FFA15A",
           "#19d3f3",
           "#FF6692",
           "#B6E880",
           "#FF97FF",
           "#FECB52"
          ],
          "font": {
           "color": "#2a3f5f"
          },
          "geo": {
           "bgcolor": "white",
           "lakecolor": "white",
           "landcolor": "#E5ECF6",
           "showlakes": true,
           "showland": true,
           "subunitcolor": "white"
          },
          "hoverlabel": {
           "align": "left"
          },
          "hovermode": "closest",
          "mapbox": {
           "style": "light"
          },
          "paper_bgcolor": "white",
          "plot_bgcolor": "#E5ECF6",
          "polar": {
           "angularaxis": {
            "gridcolor": "white",
            "linecolor": "white",
            "ticks": ""
           },
           "bgcolor": "#E5ECF6",
           "radialaxis": {
            "gridcolor": "white",
            "linecolor": "white",
            "ticks": ""
           }
          },
          "scene": {
           "xaxis": {
            "backgroundcolor": "#E5ECF6",
            "gridcolor": "white",
            "gridwidth": 2,
            "linecolor": "white",
            "showbackground": true,
            "ticks": "",
            "zerolinecolor": "white"
           },
           "yaxis": {
            "backgroundcolor": "#E5ECF6",
            "gridcolor": "white",
            "gridwidth": 2,
            "linecolor": "white",
            "showbackground": true,
            "ticks": "",
            "zerolinecolor": "white"
           },
           "zaxis": {
            "backgroundcolor": "#E5ECF6",
            "gridcolor": "white",
            "gridwidth": 2,
            "linecolor": "white",
            "showbackground": true,
            "ticks": "",
            "zerolinecolor": "white"
           }
          },
          "shapedefaults": {
           "line": {
            "color": "#2a3f5f"
           }
          },
          "ternary": {
           "aaxis": {
            "gridcolor": "white",
            "linecolor": "white",
            "ticks": ""
           },
           "baxis": {
            "gridcolor": "white",
            "linecolor": "white",
            "ticks": ""
           },
           "bgcolor": "#E5ECF6",
           "caxis": {
            "gridcolor": "white",
            "linecolor": "white",
            "ticks": ""
           }
          },
          "title": {
           "x": 0.05
          },
          "xaxis": {
           "automargin": true,
           "gridcolor": "white",
           "linecolor": "white",
           "ticks": "",
           "title": {
            "standoff": 15
           },
           "zerolinecolor": "white",
           "zerolinewidth": 2
          },
          "yaxis": {
           "automargin": true,
           "gridcolor": "white",
           "linecolor": "white",
           "ticks": "",
           "title": {
            "standoff": 15
           },
           "zerolinecolor": "white",
           "zerolinewidth": 2
          }
         }
        },
        "title": {
         "text": "Federal Contract Dollar Amounts for WOSB and Non-WOSB Providers"
        },
        "width": 1000,
        "xaxis": {
         "anchor": "y",
         "domain": [
          0,
          1
         ],
         "title": {
          "text": "State of Contract"
         }
        },
        "yaxis": {
         "anchor": "x",
         "domain": [
          0,
          1
         ],
         "title": {
          "text": "sum of Contract Value (in millions of dollars)"
         }
        }
       }
      },
      "text/html": [
       "<div>                            <div id=\"ce21ec61-f225-4abb-9c37-cd9034b0b260\" class=\"plotly-graph-div\" style=\"height:525px; width:1000px;\"></div>            <script type=\"text/javascript\">                require([\"plotly\"], function(Plotly) {                    window.PLOTLYENV=window.PLOTLYENV || {};                                    if (document.getElementById(\"ce21ec61-f225-4abb-9c37-cd9034b0b260\")) {                    Plotly.newPlot(                        \"ce21ec61-f225-4abb-9c37-cd9034b0b260\",                        [{\"alignmentgroup\":\"True\",\"bingroup\":\"x\",\"histfunc\":\"sum\",\"hovertemplate\":\"Women Owned Small Business=NO<br>State of Contract=%{x}<br>sum of Contract Value (in millions of dollars)=%{y}<extra></extra>\",\"legendgroup\":\"NO\",\"marker\":{\"color\":\"#636efa\",\"opacity\":0.5,\"pattern\":{\"shape\":\"\"}},\"name\":\"NO\",\"offsetgroup\":\"NO\",\"orientation\":\"v\",\"showlegend\":true,\"x\":[\"AK\",\"AL\",\"AR\",\"AS\",\"AZ\",\"CA\",\"CO\",\"CT\",\"DC\",\"DE\",\"FL\",\"FM\",\"GA\",\"GU\",\"HI\",\"IA\",\"ID\",\"IL\",\"IN\",\"KS\",\"KY\",\"LA\",\"MA\",\"MD\",\"ME\",\"MI\",\"MN\",\"MO\",\"MP\",\"MS\",\"MT\",\"NC\",\"ND\",\"NE\",\"NH\",\"NJ\",\"NM\",\"NV\",\"NY\",\"OH\",\"OK\",\"OR\",\"PA\",\"PR\",\"RI\",\"SC\",\"SD\",\"TN\",\"TX\",\"UT\",\"VA\",\"VI\",\"VT\",\"WA\",\"WI\",\"WV\",\"WY\"],\"xaxis\":\"x\",\"y\":[7670.1,27074.34,1011.26,0.84,50368.65,58320.52,17903.6,13680.86,50193.77,247.25,27020.97,0.18,11022.45,2265.29,3135.14,2678.07,1215.65,12964.74,5334.51,3237.54,6598.62,5286.05,19424.76,75256.88,2732.74,6464.16,2640.32,17331.47,249.85,5185.16,1287.86,7935.63,688.17,1505.14,1982.78,12479.61,12794.13,3180.64,31580.11,13846.29,7556.47,1902.92,17580.84,768.18,1255.25,6086.23,601.32,36205.76,62395.23,14999.72,111027.19,53.91,432.25,12746.57,5482.58,1483.28,335.09],\"yaxis\":\"y\",\"type\":\"histogram\"},{\"alignmentgroup\":\"True\",\"bingroup\":\"x\",\"histfunc\":\"sum\",\"hovertemplate\":\"Women Owned Small Business=YES<br>State of Contract=%{x}<br>sum of Contract Value (in millions of dollars)=%{y}<extra></extra>\",\"legendgroup\":\"YES\",\"marker\":{\"color\":\"#EF553B\",\"opacity\":0.5,\"pattern\":{\"shape\":\"\"}},\"name\":\"YES\",\"offsetgroup\":\"YES\",\"orientation\":\"v\",\"showlegend\":true,\"x\":[\"AK\",\"AL\",\"AR\",\"AS\",\"AZ\",\"CA\",\"CO\",\"CT\",\"DC\",\"DE\",\"FL\",\"GA\",\"GU\",\"HI\",\"IA\",\"ID\",\"IL\",\"IN\",\"KS\",\"KY\",\"LA\",\"MA\",\"MD\",\"ME\",\"MI\",\"MN\",\"MO\",\"MP\",\"MS\",\"MT\",\"NC\",\"ND\",\"NE\",\"NH\",\"NJ\",\"NM\",\"NV\",\"NY\",\"OH\",\"OK\",\"OR\",\"PA\",\"PR\",\"RI\",\"SC\",\"SD\",\"TN\",\"TX\",\"UT\",\"VA\",\"VI\",\"VT\",\"WA\",\"WI\",\"WV\",\"WY\"],\"xaxis\":\"x\",\"y\":[105.21,743.68,86.05,0.06,214.84,1711.3,899.75,39.74,3063.41,39.0,1147.76,604.92,64.07,201.82,27.16,48.61,486.97,110.24,107.62,255.65,481.87,266.11,5840.22,32.24,1087.62,49.81,225.92,0.24,231.67,110.51,391.94,54.26,80.15,54.7,343.87,266.86,111.03,409.54,654.7,346.03,66.13,355.45,138.53,122.64,267.13,176.18,160.61,1697.03,177.91,6149.65,4.13,29.43,219.55,71.9,61.03,66.44],\"yaxis\":\"y\",\"type\":\"histogram\"}],                        {\"template\":{\"data\":{\"bar\":[{\"error_x\":{\"color\":\"#2a3f5f\"},\"error_y\":{\"color\":\"#2a3f5f\"},\"marker\":{\"line\":{\"color\":\"#E5ECF6\",\"width\":0.5},\"pattern\":{\"fillmode\":\"overlay\",\"size\":10,\"solidity\":0.2}},\"type\":\"bar\"}],\"barpolar\":[{\"marker\":{\"line\":{\"color\":\"#E5ECF6\",\"width\":0.5},\"pattern\":{\"fillmode\":\"overlay\",\"size\":10,\"solidity\":0.2}},\"type\":\"barpolar\"}],\"carpet\":[{\"aaxis\":{\"endlinecolor\":\"#2a3f5f\",\"gridcolor\":\"white\",\"linecolor\":\"white\",\"minorgridcolor\":\"white\",\"startlinecolor\":\"#2a3f5f\"},\"baxis\":{\"endlinecolor\":\"#2a3f5f\",\"gridcolor\":\"white\",\"linecolor\":\"white\",\"minorgridcolor\":\"white\",\"startlinecolor\":\"#2a3f5f\"},\"type\":\"carpet\"}],\"choropleth\":[{\"colorbar\":{\"outlinewidth\":0,\"ticks\":\"\"},\"type\":\"choropleth\"}],\"contour\":[{\"colorbar\":{\"outlinewidth\":0,\"ticks\":\"\"},\"colorscale\":[[0.0,\"#0d0887\"],[0.1111111111111111,\"#46039f\"],[0.2222222222222222,\"#7201a8\"],[0.3333333333333333,\"#9c179e\"],[0.4444444444444444,\"#bd3786\"],[0.5555555555555556,\"#d8576b\"],[0.6666666666666666,\"#ed7953\"],[0.7777777777777778,\"#fb9f3a\"],[0.8888888888888888,\"#fdca26\"],[1.0,\"#f0f921\"]],\"type\":\"contour\"}],\"contourcarpet\":[{\"colorbar\":{\"outlinewidth\":0,\"ticks\":\"\"},\"type\":\"contourcarpet\"}],\"heatmap\":[{\"colorbar\":{\"outlinewidth\":0,\"ticks\":\"\"},\"colorscale\":[[0.0,\"#0d0887\"],[0.1111111111111111,\"#46039f\"],[0.2222222222222222,\"#7201a8\"],[0.3333333333333333,\"#9c179e\"],[0.4444444444444444,\"#bd3786\"],[0.5555555555555556,\"#d8576b\"],[0.6666666666666666,\"#ed7953\"],[0.7777777777777778,\"#fb9f3a\"],[0.8888888888888888,\"#fdca26\"],[1.0,\"#f0f921\"]],\"type\":\"heatmap\"}],\"heatmapgl\":[{\"colorbar\":{\"outlinewidth\":0,\"ticks\":\"\"},\"colorscale\":[[0.0,\"#0d0887\"],[0.1111111111111111,\"#46039f\"],[0.2222222222222222,\"#7201a8\"],[0.3333333333333333,\"#9c179e\"],[0.4444444444444444,\"#bd3786\"],[0.5555555555555556,\"#d8576b\"],[0.6666666666666666,\"#ed7953\"],[0.7777777777777778,\"#fb9f3a\"],[0.8888888888888888,\"#fdca26\"],[1.0,\"#f0f921\"]],\"type\":\"heatmapgl\"}],\"histogram\":[{\"marker\":{\"pattern\":{\"fillmode\":\"overlay\",\"size\":10,\"solidity\":0.2}},\"type\":\"histogram\"}],\"histogram2d\":[{\"colorbar\":{\"outlinewidth\":0,\"ticks\":\"\"},\"colorscale\":[[0.0,\"#0d0887\"],[0.1111111111111111,\"#46039f\"],[0.2222222222222222,\"#7201a8\"],[0.3333333333333333,\"#9c179e\"],[0.4444444444444444,\"#bd3786\"],[0.5555555555555556,\"#d8576b\"],[0.6666666666666666,\"#ed7953\"],[0.7777777777777778,\"#fb9f3a\"],[0.8888888888888888,\"#fdca26\"],[1.0,\"#f0f921\"]],\"type\":\"histogram2d\"}],\"histogram2dcontour\":[{\"colorbar\":{\"outlinewidth\":0,\"ticks\":\"\"},\"colorscale\":[[0.0,\"#0d0887\"],[0.1111111111111111,\"#46039f\"],[0.2222222222222222,\"#7201a8\"],[0.3333333333333333,\"#9c179e\"],[0.4444444444444444,\"#bd3786\"],[0.5555555555555556,\"#d8576b\"],[0.6666666666666666,\"#ed7953\"],[0.7777777777777778,\"#fb9f3a\"],[0.8888888888888888,\"#fdca26\"],[1.0,\"#f0f921\"]],\"type\":\"histogram2dcontour\"}],\"mesh3d\":[{\"colorbar\":{\"outlinewidth\":0,\"ticks\":\"\"},\"type\":\"mesh3d\"}],\"parcoords\":[{\"line\":{\"colorbar\":{\"outlinewidth\":0,\"ticks\":\"\"}},\"type\":\"parcoords\"}],\"pie\":[{\"automargin\":true,\"type\":\"pie\"}],\"scatter\":[{\"marker\":{\"colorbar\":{\"outlinewidth\":0,\"ticks\":\"\"}},\"type\":\"scatter\"}],\"scatter3d\":[{\"line\":{\"colorbar\":{\"outlinewidth\":0,\"ticks\":\"\"}},\"marker\":{\"colorbar\":{\"outlinewidth\":0,\"ticks\":\"\"}},\"type\":\"scatter3d\"}],\"scattercarpet\":[{\"marker\":{\"colorbar\":{\"outlinewidth\":0,\"ticks\":\"\"}},\"type\":\"scattercarpet\"}],\"scattergeo\":[{\"marker\":{\"colorbar\":{\"outlinewidth\":0,\"ticks\":\"\"}},\"type\":\"scattergeo\"}],\"scattergl\":[{\"marker\":{\"colorbar\":{\"outlinewidth\":0,\"ticks\":\"\"}},\"type\":\"scattergl\"}],\"scattermapbox\":[{\"marker\":{\"colorbar\":{\"outlinewidth\":0,\"ticks\":\"\"}},\"type\":\"scattermapbox\"}],\"scatterpolar\":[{\"marker\":{\"colorbar\":{\"outlinewidth\":0,\"ticks\":\"\"}},\"type\":\"scatterpolar\"}],\"scatterpolargl\":[{\"marker\":{\"colorbar\":{\"outlinewidth\":0,\"ticks\":\"\"}},\"type\":\"scatterpolargl\"}],\"scatterternary\":[{\"marker\":{\"colorbar\":{\"outlinewidth\":0,\"ticks\":\"\"}},\"type\":\"scatterternary\"}],\"surface\":[{\"colorbar\":{\"outlinewidth\":0,\"ticks\":\"\"},\"colorscale\":[[0.0,\"#0d0887\"],[0.1111111111111111,\"#46039f\"],[0.2222222222222222,\"#7201a8\"],[0.3333333333333333,\"#9c179e\"],[0.4444444444444444,\"#bd3786\"],[0.5555555555555556,\"#d8576b\"],[0.6666666666666666,\"#ed7953\"],[0.7777777777777778,\"#fb9f3a\"],[0.8888888888888888,\"#fdca26\"],[1.0,\"#f0f921\"]],\"type\":\"surface\"}],\"table\":[{\"cells\":{\"fill\":{\"color\":\"#EBF0F8\"},\"line\":{\"color\":\"white\"}},\"header\":{\"fill\":{\"color\":\"#C8D4E3\"},\"line\":{\"color\":\"white\"}},\"type\":\"table\"}]},\"layout\":{\"annotationdefaults\":{\"arrowcolor\":\"#2a3f5f\",\"arrowhead\":0,\"arrowwidth\":1},\"autotypenumbers\":\"strict\",\"coloraxis\":{\"colorbar\":{\"outlinewidth\":0,\"ticks\":\"\"}},\"colorscale\":{\"diverging\":[[0,\"#8e0152\"],[0.1,\"#c51b7d\"],[0.2,\"#de77ae\"],[0.3,\"#f1b6da\"],[0.4,\"#fde0ef\"],[0.5,\"#f7f7f7\"],[0.6,\"#e6f5d0\"],[0.7,\"#b8e186\"],[0.8,\"#7fbc41\"],[0.9,\"#4d9221\"],[1,\"#276419\"]],\"sequential\":[[0.0,\"#0d0887\"],[0.1111111111111111,\"#46039f\"],[0.2222222222222222,\"#7201a8\"],[0.3333333333333333,\"#9c179e\"],[0.4444444444444444,\"#bd3786\"],[0.5555555555555556,\"#d8576b\"],[0.6666666666666666,\"#ed7953\"],[0.7777777777777778,\"#fb9f3a\"],[0.8888888888888888,\"#fdca26\"],[1.0,\"#f0f921\"]],\"sequentialminus\":[[0.0,\"#0d0887\"],[0.1111111111111111,\"#46039f\"],[0.2222222222222222,\"#7201a8\"],[0.3333333333333333,\"#9c179e\"],[0.4444444444444444,\"#bd3786\"],[0.5555555555555556,\"#d8576b\"],[0.6666666666666666,\"#ed7953\"],[0.7777777777777778,\"#fb9f3a\"],[0.8888888888888888,\"#fdca26\"],[1.0,\"#f0f921\"]]},\"colorway\":[\"#636efa\",\"#EF553B\",\"#00cc96\",\"#ab63fa\",\"#FFA15A\",\"#19d3f3\",\"#FF6692\",\"#B6E880\",\"#FF97FF\",\"#FECB52\"],\"font\":{\"color\":\"#2a3f5f\"},\"geo\":{\"bgcolor\":\"white\",\"lakecolor\":\"white\",\"landcolor\":\"#E5ECF6\",\"showlakes\":true,\"showland\":true,\"subunitcolor\":\"white\"},\"hoverlabel\":{\"align\":\"left\"},\"hovermode\":\"closest\",\"mapbox\":{\"style\":\"light\"},\"paper_bgcolor\":\"white\",\"plot_bgcolor\":\"#E5ECF6\",\"polar\":{\"angularaxis\":{\"gridcolor\":\"white\",\"linecolor\":\"white\",\"ticks\":\"\"},\"bgcolor\":\"#E5ECF6\",\"radialaxis\":{\"gridcolor\":\"white\",\"linecolor\":\"white\",\"ticks\":\"\"}},\"scene\":{\"xaxis\":{\"backgroundcolor\":\"#E5ECF6\",\"gridcolor\":\"white\",\"gridwidth\":2,\"linecolor\":\"white\",\"showbackground\":true,\"ticks\":\"\",\"zerolinecolor\":\"white\"},\"yaxis\":{\"backgroundcolor\":\"#E5ECF6\",\"gridcolor\":\"white\",\"gridwidth\":2,\"linecolor\":\"white\",\"showbackground\":true,\"ticks\":\"\",\"zerolinecolor\":\"white\"},\"zaxis\":{\"backgroundcolor\":\"#E5ECF6\",\"gridcolor\":\"white\",\"gridwidth\":2,\"linecolor\":\"white\",\"showbackground\":true,\"ticks\":\"\",\"zerolinecolor\":\"white\"}},\"shapedefaults\":{\"line\":{\"color\":\"#2a3f5f\"}},\"ternary\":{\"aaxis\":{\"gridcolor\":\"white\",\"linecolor\":\"white\",\"ticks\":\"\"},\"baxis\":{\"gridcolor\":\"white\",\"linecolor\":\"white\",\"ticks\":\"\"},\"bgcolor\":\"#E5ECF6\",\"caxis\":{\"gridcolor\":\"white\",\"linecolor\":\"white\",\"ticks\":\"\"}},\"title\":{\"x\":0.05},\"xaxis\":{\"automargin\":true,\"gridcolor\":\"white\",\"linecolor\":\"white\",\"ticks\":\"\",\"title\":{\"standoff\":15},\"zerolinecolor\":\"white\",\"zerolinewidth\":2},\"yaxis\":{\"automargin\":true,\"gridcolor\":\"white\",\"linecolor\":\"white\",\"ticks\":\"\",\"title\":{\"standoff\":15},\"zerolinecolor\":\"white\",\"zerolinewidth\":2}}},\"xaxis\":{\"anchor\":\"y\",\"domain\":[0.0,1.0],\"title\":{\"text\":\"State of Contract\"}},\"yaxis\":{\"anchor\":\"x\",\"domain\":[0.0,1.0],\"title\":{\"text\":\"sum of Contract Value (in millions of dollars)\"}},\"legend\":{\"title\":{\"text\":\"Women Owned Small Business\"},\"tracegroupgap\":0},\"title\":{\"text\":\"Federal Contract Dollar Amounts for WOSB and Non-WOSB Providers\"},\"barmode\":\"overlay\",\"width\":1000},                        {\"responsive\": true}                    ).then(function(){\n",
       "                            \n",
       "var gd = document.getElementById('ce21ec61-f225-4abb-9c37-cd9034b0b260');\n",
       "var x = new MutationObserver(function (mutations, observer) {{\n",
       "        var display = window.getComputedStyle(gd).display;\n",
       "        if (!display || display === 'none') {{\n",
       "            console.log([gd, 'removed!']);\n",
       "            Plotly.purge(gd);\n",
       "            observer.disconnect();\n",
       "        }}\n",
       "}});\n",
       "\n",
       "// Listen for the removal of the full notebook cells\n",
       "var notebookContainer = gd.closest('#notebook-container');\n",
       "if (notebookContainer) {{\n",
       "    x.observe(notebookContainer, {childList: true});\n",
       "}}\n",
       "\n",
       "// Listen for the clearing of the current output cell\n",
       "var outputEl = gd.closest('.output');\n",
       "if (outputEl) {{\n",
       "    x.observe(outputEl, {childList: true});\n",
       "}}\n",
       "\n",
       "                        })                };                });            </script>        </div>"
      ]
     },
     "metadata": {},
     "output_type": "display_data"
    }
   ],
   "source": [
    "# create double bar graph and save this graph for the dashboard\n",
    "import plotly.express as px\n",
    "\n",
    "fig = px.histogram(per_state, x=\"Principal Place of Performance State Code\", y=\"Base and All Options Value (Total Contract Value)\",\n",
    "             color='Is Vendor Business Type - Women Owned Small Business', barmode='overlay',labels={\n",
    "                     \"Principal Place of Performance State Code\": \"State of Contract\",\n",
    "                     \"Base and All Options Value (Total Contract Value)\": \"Contract Value (in millions of dollars)\",\n",
    "                     \"Is Vendor Business Type - Women Owned Small Business\": \"Women Owned Small Business\"\n",
    "                 },\n",
    "                title=\"Federal Contract Dollar Amounts for WOSB and Non-WOSB Providers\", width = 1000)\n",
    "fig.show()"
   ]
  },
  {
   "cell_type": "code",
   "execution_count": 62,
   "id": "ca1d2227",
   "metadata": {},
   "outputs": [
    {
     "data": {
      "application/vnd.plotly.v1+json": {
       "config": {
        "plotlyServerURL": "https://plot.ly"
       },
       "data": [
        {
         "hovertemplate": "State (Abbr.)=%{x}<br>Contracted Dollars (%)=%{y}<extra></extra>",
         "legendgroup": "",
         "line": {
          "color": "goldenrod",
          "dash": "solid"
         },
         "marker": {
          "symbol": "circle"
         },
         "mode": "markers+lines",
         "name": "",
         "orientation": "v",
         "showlegend": false,
         "type": "scatter",
         "x": [
          "WY",
          "MI",
          "DE",
          "SD",
          "RI",
          "LA",
          "MT",
          "AR",
          "ND",
          "MD"
         ],
         "xaxis": "x",
         "y": [
          16.55,
          14.399999999999999,
          13.62,
          9.46,
          8.9,
          8.35,
          7.9,
          7.84,
          7.31,
          7.199999999999999
         ],
         "yaxis": "y"
        }
       ],
       "layout": {
        "legend": {
         "tracegroupgap": 0
        },
        "template": {
         "data": {
          "bar": [
           {
            "error_x": {
             "color": "#2a3f5f"
            },
            "error_y": {
             "color": "#2a3f5f"
            },
            "marker": {
             "line": {
              "color": "#E5ECF6",
              "width": 0.5
             },
             "pattern": {
              "fillmode": "overlay",
              "size": 10,
              "solidity": 0.2
             }
            },
            "type": "bar"
           }
          ],
          "barpolar": [
           {
            "marker": {
             "line": {
              "color": "#E5ECF6",
              "width": 0.5
             },
             "pattern": {
              "fillmode": "overlay",
              "size": 10,
              "solidity": 0.2
             }
            },
            "type": "barpolar"
           }
          ],
          "carpet": [
           {
            "aaxis": {
             "endlinecolor": "#2a3f5f",
             "gridcolor": "white",
             "linecolor": "white",
             "minorgridcolor": "white",
             "startlinecolor": "#2a3f5f"
            },
            "baxis": {
             "endlinecolor": "#2a3f5f",
             "gridcolor": "white",
             "linecolor": "white",
             "minorgridcolor": "white",
             "startlinecolor": "#2a3f5f"
            },
            "type": "carpet"
           }
          ],
          "choropleth": [
           {
            "colorbar": {
             "outlinewidth": 0,
             "ticks": ""
            },
            "type": "choropleth"
           }
          ],
          "contour": [
           {
            "colorbar": {
             "outlinewidth": 0,
             "ticks": ""
            },
            "colorscale": [
             [
              0,
              "#0d0887"
             ],
             [
              0.1111111111111111,
              "#46039f"
             ],
             [
              0.2222222222222222,
              "#7201a8"
             ],
             [
              0.3333333333333333,
              "#9c179e"
             ],
             [
              0.4444444444444444,
              "#bd3786"
             ],
             [
              0.5555555555555556,
              "#d8576b"
             ],
             [
              0.6666666666666666,
              "#ed7953"
             ],
             [
              0.7777777777777778,
              "#fb9f3a"
             ],
             [
              0.8888888888888888,
              "#fdca26"
             ],
             [
              1,
              "#f0f921"
             ]
            ],
            "type": "contour"
           }
          ],
          "contourcarpet": [
           {
            "colorbar": {
             "outlinewidth": 0,
             "ticks": ""
            },
            "type": "contourcarpet"
           }
          ],
          "heatmap": [
           {
            "colorbar": {
             "outlinewidth": 0,
             "ticks": ""
            },
            "colorscale": [
             [
              0,
              "#0d0887"
             ],
             [
              0.1111111111111111,
              "#46039f"
             ],
             [
              0.2222222222222222,
              "#7201a8"
             ],
             [
              0.3333333333333333,
              "#9c179e"
             ],
             [
              0.4444444444444444,
              "#bd3786"
             ],
             [
              0.5555555555555556,
              "#d8576b"
             ],
             [
              0.6666666666666666,
              "#ed7953"
             ],
             [
              0.7777777777777778,
              "#fb9f3a"
             ],
             [
              0.8888888888888888,
              "#fdca26"
             ],
             [
              1,
              "#f0f921"
             ]
            ],
            "type": "heatmap"
           }
          ],
          "heatmapgl": [
           {
            "colorbar": {
             "outlinewidth": 0,
             "ticks": ""
            },
            "colorscale": [
             [
              0,
              "#0d0887"
             ],
             [
              0.1111111111111111,
              "#46039f"
             ],
             [
              0.2222222222222222,
              "#7201a8"
             ],
             [
              0.3333333333333333,
              "#9c179e"
             ],
             [
              0.4444444444444444,
              "#bd3786"
             ],
             [
              0.5555555555555556,
              "#d8576b"
             ],
             [
              0.6666666666666666,
              "#ed7953"
             ],
             [
              0.7777777777777778,
              "#fb9f3a"
             ],
             [
              0.8888888888888888,
              "#fdca26"
             ],
             [
              1,
              "#f0f921"
             ]
            ],
            "type": "heatmapgl"
           }
          ],
          "histogram": [
           {
            "marker": {
             "pattern": {
              "fillmode": "overlay",
              "size": 10,
              "solidity": 0.2
             }
            },
            "type": "histogram"
           }
          ],
          "histogram2d": [
           {
            "colorbar": {
             "outlinewidth": 0,
             "ticks": ""
            },
            "colorscale": [
             [
              0,
              "#0d0887"
             ],
             [
              0.1111111111111111,
              "#46039f"
             ],
             [
              0.2222222222222222,
              "#7201a8"
             ],
             [
              0.3333333333333333,
              "#9c179e"
             ],
             [
              0.4444444444444444,
              "#bd3786"
             ],
             [
              0.5555555555555556,
              "#d8576b"
             ],
             [
              0.6666666666666666,
              "#ed7953"
             ],
             [
              0.7777777777777778,
              "#fb9f3a"
             ],
             [
              0.8888888888888888,
              "#fdca26"
             ],
             [
              1,
              "#f0f921"
             ]
            ],
            "type": "histogram2d"
           }
          ],
          "histogram2dcontour": [
           {
            "colorbar": {
             "outlinewidth": 0,
             "ticks": ""
            },
            "colorscale": [
             [
              0,
              "#0d0887"
             ],
             [
              0.1111111111111111,
              "#46039f"
             ],
             [
              0.2222222222222222,
              "#7201a8"
             ],
             [
              0.3333333333333333,
              "#9c179e"
             ],
             [
              0.4444444444444444,
              "#bd3786"
             ],
             [
              0.5555555555555556,
              "#d8576b"
             ],
             [
              0.6666666666666666,
              "#ed7953"
             ],
             [
              0.7777777777777778,
              "#fb9f3a"
             ],
             [
              0.8888888888888888,
              "#fdca26"
             ],
             [
              1,
              "#f0f921"
             ]
            ],
            "type": "histogram2dcontour"
           }
          ],
          "mesh3d": [
           {
            "colorbar": {
             "outlinewidth": 0,
             "ticks": ""
            },
            "type": "mesh3d"
           }
          ],
          "parcoords": [
           {
            "line": {
             "colorbar": {
              "outlinewidth": 0,
              "ticks": ""
             }
            },
            "type": "parcoords"
           }
          ],
          "pie": [
           {
            "automargin": true,
            "type": "pie"
           }
          ],
          "scatter": [
           {
            "marker": {
             "colorbar": {
              "outlinewidth": 0,
              "ticks": ""
             }
            },
            "type": "scatter"
           }
          ],
          "scatter3d": [
           {
            "line": {
             "colorbar": {
              "outlinewidth": 0,
              "ticks": ""
             }
            },
            "marker": {
             "colorbar": {
              "outlinewidth": 0,
              "ticks": ""
             }
            },
            "type": "scatter3d"
           }
          ],
          "scattercarpet": [
           {
            "marker": {
             "colorbar": {
              "outlinewidth": 0,
              "ticks": ""
             }
            },
            "type": "scattercarpet"
           }
          ],
          "scattergeo": [
           {
            "marker": {
             "colorbar": {
              "outlinewidth": 0,
              "ticks": ""
             }
            },
            "type": "scattergeo"
           }
          ],
          "scattergl": [
           {
            "marker": {
             "colorbar": {
              "outlinewidth": 0,
              "ticks": ""
             }
            },
            "type": "scattergl"
           }
          ],
          "scattermapbox": [
           {
            "marker": {
             "colorbar": {
              "outlinewidth": 0,
              "ticks": ""
             }
            },
            "type": "scattermapbox"
           }
          ],
          "scatterpolar": [
           {
            "marker": {
             "colorbar": {
              "outlinewidth": 0,
              "ticks": ""
             }
            },
            "type": "scatterpolar"
           }
          ],
          "scatterpolargl": [
           {
            "marker": {
             "colorbar": {
              "outlinewidth": 0,
              "ticks": ""
             }
            },
            "type": "scatterpolargl"
           }
          ],
          "scatterternary": [
           {
            "marker": {
             "colorbar": {
              "outlinewidth": 0,
              "ticks": ""
             }
            },
            "type": "scatterternary"
           }
          ],
          "surface": [
           {
            "colorbar": {
             "outlinewidth": 0,
             "ticks": ""
            },
            "colorscale": [
             [
              0,
              "#0d0887"
             ],
             [
              0.1111111111111111,
              "#46039f"
             ],
             [
              0.2222222222222222,
              "#7201a8"
             ],
             [
              0.3333333333333333,
              "#9c179e"
             ],
             [
              0.4444444444444444,
              "#bd3786"
             ],
             [
              0.5555555555555556,
              "#d8576b"
             ],
             [
              0.6666666666666666,
              "#ed7953"
             ],
             [
              0.7777777777777778,
              "#fb9f3a"
             ],
             [
              0.8888888888888888,
              "#fdca26"
             ],
             [
              1,
              "#f0f921"
             ]
            ],
            "type": "surface"
           }
          ],
          "table": [
           {
            "cells": {
             "fill": {
              "color": "#EBF0F8"
             },
             "line": {
              "color": "white"
             }
            },
            "header": {
             "fill": {
              "color": "#C8D4E3"
             },
             "line": {
              "color": "white"
             }
            },
            "type": "table"
           }
          ]
         },
         "layout": {
          "annotationdefaults": {
           "arrowcolor": "#2a3f5f",
           "arrowhead": 0,
           "arrowwidth": 1
          },
          "autotypenumbers": "strict",
          "coloraxis": {
           "colorbar": {
            "outlinewidth": 0,
            "ticks": ""
           }
          },
          "colorscale": {
           "diverging": [
            [
             0,
             "#8e0152"
            ],
            [
             0.1,
             "#c51b7d"
            ],
            [
             0.2,
             "#de77ae"
            ],
            [
             0.3,
             "#f1b6da"
            ],
            [
             0.4,
             "#fde0ef"
            ],
            [
             0.5,
             "#f7f7f7"
            ],
            [
             0.6,
             "#e6f5d0"
            ],
            [
             0.7,
             "#b8e186"
            ],
            [
             0.8,
             "#7fbc41"
            ],
            [
             0.9,
             "#4d9221"
            ],
            [
             1,
             "#276419"
            ]
           ],
           "sequential": [
            [
             0,
             "#0d0887"
            ],
            [
             0.1111111111111111,
             "#46039f"
            ],
            [
             0.2222222222222222,
             "#7201a8"
            ],
            [
             0.3333333333333333,
             "#9c179e"
            ],
            [
             0.4444444444444444,
             "#bd3786"
            ],
            [
             0.5555555555555556,
             "#d8576b"
            ],
            [
             0.6666666666666666,
             "#ed7953"
            ],
            [
             0.7777777777777778,
             "#fb9f3a"
            ],
            [
             0.8888888888888888,
             "#fdca26"
            ],
            [
             1,
             "#f0f921"
            ]
           ],
           "sequentialminus": [
            [
             0,
             "#0d0887"
            ],
            [
             0.1111111111111111,
             "#46039f"
            ],
            [
             0.2222222222222222,
             "#7201a8"
            ],
            [
             0.3333333333333333,
             "#9c179e"
            ],
            [
             0.4444444444444444,
             "#bd3786"
            ],
            [
             0.5555555555555556,
             "#d8576b"
            ],
            [
             0.6666666666666666,
             "#ed7953"
            ],
            [
             0.7777777777777778,
             "#fb9f3a"
            ],
            [
             0.8888888888888888,
             "#fdca26"
            ],
            [
             1,
             "#f0f921"
            ]
           ]
          },
          "colorway": [
           "#636efa",
           "#EF553B",
           "#00cc96",
           "#ab63fa",
           "#FFA15A",
           "#19d3f3",
           "#FF6692",
           "#B6E880",
           "#FF97FF",
           "#FECB52"
          ],
          "font": {
           "color": "#2a3f5f"
          },
          "geo": {
           "bgcolor": "white",
           "lakecolor": "white",
           "landcolor": "#E5ECF6",
           "showlakes": true,
           "showland": true,
           "subunitcolor": "white"
          },
          "hoverlabel": {
           "align": "left"
          },
          "hovermode": "closest",
          "mapbox": {
           "style": "light"
          },
          "paper_bgcolor": "white",
          "plot_bgcolor": "#E5ECF6",
          "polar": {
           "angularaxis": {
            "gridcolor": "white",
            "linecolor": "white",
            "ticks": ""
           },
           "bgcolor": "#E5ECF6",
           "radialaxis": {
            "gridcolor": "white",
            "linecolor": "white",
            "ticks": ""
           }
          },
          "scene": {
           "xaxis": {
            "backgroundcolor": "#E5ECF6",
            "gridcolor": "white",
            "gridwidth": 2,
            "linecolor": "white",
            "showbackground": true,
            "ticks": "",
            "zerolinecolor": "white"
           },
           "yaxis": {
            "backgroundcolor": "#E5ECF6",
            "gridcolor": "white",
            "gridwidth": 2,
            "linecolor": "white",
            "showbackground": true,
            "ticks": "",
            "zerolinecolor": "white"
           },
           "zaxis": {
            "backgroundcolor": "#E5ECF6",
            "gridcolor": "white",
            "gridwidth": 2,
            "linecolor": "white",
            "showbackground": true,
            "ticks": "",
            "zerolinecolor": "white"
           }
          },
          "shapedefaults": {
           "line": {
            "color": "#2a3f5f"
           }
          },
          "ternary": {
           "aaxis": {
            "gridcolor": "white",
            "linecolor": "white",
            "ticks": ""
           },
           "baxis": {
            "gridcolor": "white",
            "linecolor": "white",
            "ticks": ""
           },
           "bgcolor": "#E5ECF6",
           "caxis": {
            "gridcolor": "white",
            "linecolor": "white",
            "ticks": ""
           }
          },
          "title": {
           "x": 0.05
          },
          "xaxis": {
           "automargin": true,
           "gridcolor": "white",
           "linecolor": "white",
           "ticks": "",
           "title": {
            "standoff": 15
           },
           "zerolinecolor": "white",
           "zerolinewidth": 2
          },
          "yaxis": {
           "automargin": true,
           "gridcolor": "white",
           "linecolor": "white",
           "ticks": "",
           "title": {
            "standoff": 15
           },
           "zerolinecolor": "white",
           "zerolinewidth": 2
          }
         }
        },
        "title": {
         "text": "States with Highest Percentage of WOSB Contracting"
        },
        "xaxis": {
         "anchor": "y",
         "domain": [
          0,
          1
         ],
         "title": {
          "text": "State (Abbr.)"
         }
        },
        "yaxis": {
         "anchor": "x",
         "domain": [
          0,
          1
         ],
         "title": {
          "text": "Contracted Dollars (%)"
         }
        }
       }
      },
      "text/html": [
       "<div>                            <div id=\"044e00c4-1e10-4f59-9bbc-bbe27fe93069\" class=\"plotly-graph-div\" style=\"height:525px; width:100%;\"></div>            <script type=\"text/javascript\">                require([\"plotly\"], function(Plotly) {                    window.PLOTLYENV=window.PLOTLYENV || {};                                    if (document.getElementById(\"044e00c4-1e10-4f59-9bbc-bbe27fe93069\")) {                    Plotly.newPlot(                        \"044e00c4-1e10-4f59-9bbc-bbe27fe93069\",                        [{\"hovertemplate\":\"State (Abbr.)=%{x}<br>Contracted Dollars (%)=%{y}<extra></extra>\",\"legendgroup\":\"\",\"line\":{\"color\":\"goldenrod\",\"dash\":\"solid\"},\"marker\":{\"symbol\":\"circle\"},\"mode\":\"markers+lines\",\"name\":\"\",\"orientation\":\"v\",\"showlegend\":false,\"x\":[\"WY\",\"MI\",\"DE\",\"SD\",\"RI\",\"LA\",\"MT\",\"AR\",\"ND\",\"MD\"],\"xaxis\":\"x\",\"y\":[16.55,14.399999999999999,13.62,9.46,8.9,8.35,7.9,7.84,7.31,7.199999999999999],\"yaxis\":\"y\",\"type\":\"scatter\"}],                        {\"template\":{\"data\":{\"bar\":[{\"error_x\":{\"color\":\"#2a3f5f\"},\"error_y\":{\"color\":\"#2a3f5f\"},\"marker\":{\"line\":{\"color\":\"#E5ECF6\",\"width\":0.5},\"pattern\":{\"fillmode\":\"overlay\",\"size\":10,\"solidity\":0.2}},\"type\":\"bar\"}],\"barpolar\":[{\"marker\":{\"line\":{\"color\":\"#E5ECF6\",\"width\":0.5},\"pattern\":{\"fillmode\":\"overlay\",\"size\":10,\"solidity\":0.2}},\"type\":\"barpolar\"}],\"carpet\":[{\"aaxis\":{\"endlinecolor\":\"#2a3f5f\",\"gridcolor\":\"white\",\"linecolor\":\"white\",\"minorgridcolor\":\"white\",\"startlinecolor\":\"#2a3f5f\"},\"baxis\":{\"endlinecolor\":\"#2a3f5f\",\"gridcolor\":\"white\",\"linecolor\":\"white\",\"minorgridcolor\":\"white\",\"startlinecolor\":\"#2a3f5f\"},\"type\":\"carpet\"}],\"choropleth\":[{\"colorbar\":{\"outlinewidth\":0,\"ticks\":\"\"},\"type\":\"choropleth\"}],\"contour\":[{\"colorbar\":{\"outlinewidth\":0,\"ticks\":\"\"},\"colorscale\":[[0.0,\"#0d0887\"],[0.1111111111111111,\"#46039f\"],[0.2222222222222222,\"#7201a8\"],[0.3333333333333333,\"#9c179e\"],[0.4444444444444444,\"#bd3786\"],[0.5555555555555556,\"#d8576b\"],[0.6666666666666666,\"#ed7953\"],[0.7777777777777778,\"#fb9f3a\"],[0.8888888888888888,\"#fdca26\"],[1.0,\"#f0f921\"]],\"type\":\"contour\"}],\"contourcarpet\":[{\"colorbar\":{\"outlinewidth\":0,\"ticks\":\"\"},\"type\":\"contourcarpet\"}],\"heatmap\":[{\"colorbar\":{\"outlinewidth\":0,\"ticks\":\"\"},\"colorscale\":[[0.0,\"#0d0887\"],[0.1111111111111111,\"#46039f\"],[0.2222222222222222,\"#7201a8\"],[0.3333333333333333,\"#9c179e\"],[0.4444444444444444,\"#bd3786\"],[0.5555555555555556,\"#d8576b\"],[0.6666666666666666,\"#ed7953\"],[0.7777777777777778,\"#fb9f3a\"],[0.8888888888888888,\"#fdca26\"],[1.0,\"#f0f921\"]],\"type\":\"heatmap\"}],\"heatmapgl\":[{\"colorbar\":{\"outlinewidth\":0,\"ticks\":\"\"},\"colorscale\":[[0.0,\"#0d0887\"],[0.1111111111111111,\"#46039f\"],[0.2222222222222222,\"#7201a8\"],[0.3333333333333333,\"#9c179e\"],[0.4444444444444444,\"#bd3786\"],[0.5555555555555556,\"#d8576b\"],[0.6666666666666666,\"#ed7953\"],[0.7777777777777778,\"#fb9f3a\"],[0.8888888888888888,\"#fdca26\"],[1.0,\"#f0f921\"]],\"type\":\"heatmapgl\"}],\"histogram\":[{\"marker\":{\"pattern\":{\"fillmode\":\"overlay\",\"size\":10,\"solidity\":0.2}},\"type\":\"histogram\"}],\"histogram2d\":[{\"colorbar\":{\"outlinewidth\":0,\"ticks\":\"\"},\"colorscale\":[[0.0,\"#0d0887\"],[0.1111111111111111,\"#46039f\"],[0.2222222222222222,\"#7201a8\"],[0.3333333333333333,\"#9c179e\"],[0.4444444444444444,\"#bd3786\"],[0.5555555555555556,\"#d8576b\"],[0.6666666666666666,\"#ed7953\"],[0.7777777777777778,\"#fb9f3a\"],[0.8888888888888888,\"#fdca26\"],[1.0,\"#f0f921\"]],\"type\":\"histogram2d\"}],\"histogram2dcontour\":[{\"colorbar\":{\"outlinewidth\":0,\"ticks\":\"\"},\"colorscale\":[[0.0,\"#0d0887\"],[0.1111111111111111,\"#46039f\"],[0.2222222222222222,\"#7201a8\"],[0.3333333333333333,\"#9c179e\"],[0.4444444444444444,\"#bd3786\"],[0.5555555555555556,\"#d8576b\"],[0.6666666666666666,\"#ed7953\"],[0.7777777777777778,\"#fb9f3a\"],[0.8888888888888888,\"#fdca26\"],[1.0,\"#f0f921\"]],\"type\":\"histogram2dcontour\"}],\"mesh3d\":[{\"colorbar\":{\"outlinewidth\":0,\"ticks\":\"\"},\"type\":\"mesh3d\"}],\"parcoords\":[{\"line\":{\"colorbar\":{\"outlinewidth\":0,\"ticks\":\"\"}},\"type\":\"parcoords\"}],\"pie\":[{\"automargin\":true,\"type\":\"pie\"}],\"scatter\":[{\"marker\":{\"colorbar\":{\"outlinewidth\":0,\"ticks\":\"\"}},\"type\":\"scatter\"}],\"scatter3d\":[{\"line\":{\"colorbar\":{\"outlinewidth\":0,\"ticks\":\"\"}},\"marker\":{\"colorbar\":{\"outlinewidth\":0,\"ticks\":\"\"}},\"type\":\"scatter3d\"}],\"scattercarpet\":[{\"marker\":{\"colorbar\":{\"outlinewidth\":0,\"ticks\":\"\"}},\"type\":\"scattercarpet\"}],\"scattergeo\":[{\"marker\":{\"colorbar\":{\"outlinewidth\":0,\"ticks\":\"\"}},\"type\":\"scattergeo\"}],\"scattergl\":[{\"marker\":{\"colorbar\":{\"outlinewidth\":0,\"ticks\":\"\"}},\"type\":\"scattergl\"}],\"scattermapbox\":[{\"marker\":{\"colorbar\":{\"outlinewidth\":0,\"ticks\":\"\"}},\"type\":\"scattermapbox\"}],\"scatterpolar\":[{\"marker\":{\"colorbar\":{\"outlinewidth\":0,\"ticks\":\"\"}},\"type\":\"scatterpolar\"}],\"scatterpolargl\":[{\"marker\":{\"colorbar\":{\"outlinewidth\":0,\"ticks\":\"\"}},\"type\":\"scatterpolargl\"}],\"scatterternary\":[{\"marker\":{\"colorbar\":{\"outlinewidth\":0,\"ticks\":\"\"}},\"type\":\"scatterternary\"}],\"surface\":[{\"colorbar\":{\"outlinewidth\":0,\"ticks\":\"\"},\"colorscale\":[[0.0,\"#0d0887\"],[0.1111111111111111,\"#46039f\"],[0.2222222222222222,\"#7201a8\"],[0.3333333333333333,\"#9c179e\"],[0.4444444444444444,\"#bd3786\"],[0.5555555555555556,\"#d8576b\"],[0.6666666666666666,\"#ed7953\"],[0.7777777777777778,\"#fb9f3a\"],[0.8888888888888888,\"#fdca26\"],[1.0,\"#f0f921\"]],\"type\":\"surface\"}],\"table\":[{\"cells\":{\"fill\":{\"color\":\"#EBF0F8\"},\"line\":{\"color\":\"white\"}},\"header\":{\"fill\":{\"color\":\"#C8D4E3\"},\"line\":{\"color\":\"white\"}},\"type\":\"table\"}]},\"layout\":{\"annotationdefaults\":{\"arrowcolor\":\"#2a3f5f\",\"arrowhead\":0,\"arrowwidth\":1},\"autotypenumbers\":\"strict\",\"coloraxis\":{\"colorbar\":{\"outlinewidth\":0,\"ticks\":\"\"}},\"colorscale\":{\"diverging\":[[0,\"#8e0152\"],[0.1,\"#c51b7d\"],[0.2,\"#de77ae\"],[0.3,\"#f1b6da\"],[0.4,\"#fde0ef\"],[0.5,\"#f7f7f7\"],[0.6,\"#e6f5d0\"],[0.7,\"#b8e186\"],[0.8,\"#7fbc41\"],[0.9,\"#4d9221\"],[1,\"#276419\"]],\"sequential\":[[0.0,\"#0d0887\"],[0.1111111111111111,\"#46039f\"],[0.2222222222222222,\"#7201a8\"],[0.3333333333333333,\"#9c179e\"],[0.4444444444444444,\"#bd3786\"],[0.5555555555555556,\"#d8576b\"],[0.6666666666666666,\"#ed7953\"],[0.7777777777777778,\"#fb9f3a\"],[0.8888888888888888,\"#fdca26\"],[1.0,\"#f0f921\"]],\"sequentialminus\":[[0.0,\"#0d0887\"],[0.1111111111111111,\"#46039f\"],[0.2222222222222222,\"#7201a8\"],[0.3333333333333333,\"#9c179e\"],[0.4444444444444444,\"#bd3786\"],[0.5555555555555556,\"#d8576b\"],[0.6666666666666666,\"#ed7953\"],[0.7777777777777778,\"#fb9f3a\"],[0.8888888888888888,\"#fdca26\"],[1.0,\"#f0f921\"]]},\"colorway\":[\"#636efa\",\"#EF553B\",\"#00cc96\",\"#ab63fa\",\"#FFA15A\",\"#19d3f3\",\"#FF6692\",\"#B6E880\",\"#FF97FF\",\"#FECB52\"],\"font\":{\"color\":\"#2a3f5f\"},\"geo\":{\"bgcolor\":\"white\",\"lakecolor\":\"white\",\"landcolor\":\"#E5ECF6\",\"showlakes\":true,\"showland\":true,\"subunitcolor\":\"white\"},\"hoverlabel\":{\"align\":\"left\"},\"hovermode\":\"closest\",\"mapbox\":{\"style\":\"light\"},\"paper_bgcolor\":\"white\",\"plot_bgcolor\":\"#E5ECF6\",\"polar\":{\"angularaxis\":{\"gridcolor\":\"white\",\"linecolor\":\"white\",\"ticks\":\"\"},\"bgcolor\":\"#E5ECF6\",\"radialaxis\":{\"gridcolor\":\"white\",\"linecolor\":\"white\",\"ticks\":\"\"}},\"scene\":{\"xaxis\":{\"backgroundcolor\":\"#E5ECF6\",\"gridcolor\":\"white\",\"gridwidth\":2,\"linecolor\":\"white\",\"showbackground\":true,\"ticks\":\"\",\"zerolinecolor\":\"white\"},\"yaxis\":{\"backgroundcolor\":\"#E5ECF6\",\"gridcolor\":\"white\",\"gridwidth\":2,\"linecolor\":\"white\",\"showbackground\":true,\"ticks\":\"\",\"zerolinecolor\":\"white\"},\"zaxis\":{\"backgroundcolor\":\"#E5ECF6\",\"gridcolor\":\"white\",\"gridwidth\":2,\"linecolor\":\"white\",\"showbackground\":true,\"ticks\":\"\",\"zerolinecolor\":\"white\"}},\"shapedefaults\":{\"line\":{\"color\":\"#2a3f5f\"}},\"ternary\":{\"aaxis\":{\"gridcolor\":\"white\",\"linecolor\":\"white\",\"ticks\":\"\"},\"baxis\":{\"gridcolor\":\"white\",\"linecolor\":\"white\",\"ticks\":\"\"},\"bgcolor\":\"#E5ECF6\",\"caxis\":{\"gridcolor\":\"white\",\"linecolor\":\"white\",\"ticks\":\"\"}},\"title\":{\"x\":0.05},\"xaxis\":{\"automargin\":true,\"gridcolor\":\"white\",\"linecolor\":\"white\",\"ticks\":\"\",\"title\":{\"standoff\":15},\"zerolinecolor\":\"white\",\"zerolinewidth\":2},\"yaxis\":{\"automargin\":true,\"gridcolor\":\"white\",\"linecolor\":\"white\",\"ticks\":\"\",\"title\":{\"standoff\":15},\"zerolinecolor\":\"white\",\"zerolinewidth\":2}}},\"xaxis\":{\"anchor\":\"y\",\"domain\":[0.0,1.0],\"title\":{\"text\":\"State (Abbr.)\"}},\"yaxis\":{\"anchor\":\"x\",\"domain\":[0.0,1.0],\"title\":{\"text\":\"Contracted Dollars (%)\"}},\"legend\":{\"tracegroupgap\":0},\"title\":{\"text\":\"States with Highest Percentage of WOSB Contracting\"}},                        {\"responsive\": true}                    ).then(function(){\n",
       "                            \n",
       "var gd = document.getElementById('044e00c4-1e10-4f59-9bbc-bbe27fe93069');\n",
       "var x = new MutationObserver(function (mutations, observer) {{\n",
       "        var display = window.getComputedStyle(gd).display;\n",
       "        if (!display || display === 'none') {{\n",
       "            console.log([gd, 'removed!']);\n",
       "            Plotly.purge(gd);\n",
       "            observer.disconnect();\n",
       "        }}\n",
       "}});\n",
       "\n",
       "// Listen for the removal of the full notebook cells\n",
       "var notebookContainer = gd.closest('#notebook-container');\n",
       "if (notebookContainer) {{\n",
       "    x.observe(notebookContainer, {childList: true});\n",
       "}}\n",
       "\n",
       "// Listen for the clearing of the current output cell\n",
       "var outputEl = gd.closest('.output');\n",
       "if (outputEl) {{\n",
       "    x.observe(outputEl, {childList: true});\n",
       "}}\n",
       "\n",
       "                        })                };                });            </script>        </div>"
      ]
     },
     "metadata": {},
     "output_type": "display_data"
    },
    {
     "data": {
      "text/plain": [
       "(None,)"
      ]
     },
     "execution_count": 62,
     "metadata": {},
     "output_type": "execute_result"
    }
   ],
   "source": [
    "\n",
    "fig = px.line(highest_percentage_wosb, x=highest_percentage_wosb.index, y=\"Statewide Percentage of Total Contracted Dollars\", \\\n",
    "              title='States with Highest Percentage of WOSB Contracting',\\\n",
    "              labels = {\"Principal Place of Performance State Code\":\"State (Abbr.)\",\"Statewide Percentage of Total Contracted Dollars\":\"Contracted Dollars (%)\"}, \\\n",
    "             markers = True,color_discrete_sequence=['goldenrod'])\n",
    "fig.show(),"
   ]
  },
  {
   "cell_type": "markdown",
   "id": "24bfc0cf",
   "metadata": {},
   "source": [
    "# HIGHEST NOT TAKING ADVANTAGE ( RATIO OF SET ASIDE BUT NOT ACTUALLY ) THEN ONE MORE ABOUT EDWSOB"
   ]
  },
  {
   "cell_type": "code",
   "execution_count": 24,
   "id": "fa8c0e3c",
   "metadata": {},
   "outputs": [
    {
     "ename": "ImportError",
     "evalue": "cannot import name 'dcc' from 'dash' (/Users/Daniel/opt/anaconda3/lib/python3.9/site-packages/dash/__init__.py)",
     "output_type": "error",
     "traceback": [
      "\u001b[0;31m---------------------------------------------------------------------------\u001b[0m",
      "\u001b[0;31mImportError\u001b[0m                               Traceback (most recent call last)",
      "\u001b[0;32m/var/folders/7t/p8sb13rj56vgpg9wvfj5ph5c0000gn/T/ipykernel_73695/1273502960.py\u001b[0m in \u001b[0;36m<module>\u001b[0;34m\u001b[0m\n\u001b[0;32m----> 1\u001b[0;31m \u001b[0;32mfrom\u001b[0m \u001b[0mdash\u001b[0m \u001b[0;32mimport\u001b[0m \u001b[0mDash\u001b[0m\u001b[0;34m,\u001b[0m \u001b[0mdcc\u001b[0m\u001b[0;34m,\u001b[0m \u001b[0mhtml\u001b[0m\u001b[0;34m,\u001b[0m \u001b[0mInput\u001b[0m\u001b[0;34m,\u001b[0m \u001b[0mOutput\u001b[0m\u001b[0;34m,\u001b[0m\u001b[0mcallback\u001b[0m\u001b[0;34m\u001b[0m\u001b[0;34m\u001b[0m\u001b[0m\n\u001b[0m\u001b[1;32m      2\u001b[0m \u001b[0;34m\u001b[0m\u001b[0m\n\u001b[1;32m      3\u001b[0m \u001b[0mapp\u001b[0m \u001b[0;34m=\u001b[0m \u001b[0mdash\u001b[0m\u001b[0;34m.\u001b[0m\u001b[0mDash\u001b[0m\u001b[0;34m(\u001b[0m\u001b[0m__name__\u001b[0m\u001b[0;34m)\u001b[0m\u001b[0;34m\u001b[0m\u001b[0;34m\u001b[0m\u001b[0m\n\u001b[1;32m      4\u001b[0m app.layout = html.Div([\n\u001b[1;32m      5\u001b[0m     \u001b[0mdcc\u001b[0m\u001b[0;34m.\u001b[0m\u001b[0mDropdown\u001b[0m\u001b[0;34m(\u001b[0m\u001b[0mchildren\u001b[0m \u001b[0;34m=\u001b[0m \u001b[0mper_state\u001b[0m\u001b[0;34m[\u001b[0m\u001b[0;34m\"Principal Place of Performance State Code\"\u001b[0m\u001b[0;34m]\u001b[0m\u001b[0;34m,\u001b[0m \u001b[0mid\u001b[0m\u001b[0;34m=\u001b[0m\u001b[0;34m'demo-dropdown'\u001b[0m\u001b[0;34m)\u001b[0m\u001b[0;34m,\u001b[0m\u001b[0;34m\u001b[0m\u001b[0;34m\u001b[0m\u001b[0m\n",
      "\u001b[0;31mImportError\u001b[0m: cannot import name 'dcc' from 'dash' (/Users/Daniel/opt/anaconda3/lib/python3.9/site-packages/dash/__init__.py)"
     ]
    }
   ],
   "source": [
    "from dash import Dash, dcc, html, Input, Output,callback\n",
    "\n",
    "app = dash.Dash(__name__)\n",
    "app.layout = html.Div([\n",
    "    dcc.Dropdown(children = per_state[\"Principal Place of Performance State Code\"], id='demo-dropdown'),\n",
    "     html.Div(id='dd-output-container')\n",
    "])\n",
    "\n",
    "\n",
    "@callback(\n",
    "    Output('dd-output-container', 'children'),\n",
    "    Input('demo-dropdown', 'value')\n",
    ")\n",
    "def update_output(value):\n",
    "    return f'You have selected {value}'\n",
    "\n",
    "\n",
    "if __name__ == '__main__':\n",
    "    app.run(debug=True)"
   ]
  },
  {
   "cell_type": "code",
   "execution_count": null,
   "id": "e65c3d55",
   "metadata": {},
   "outputs": [],
   "source": []
  },
  {
   "cell_type": "code",
   "execution_count": null,
   "id": "120971ac",
   "metadata": {},
   "outputs": [],
   "source": [
    "\n",
    "\n",
    "app = Dash(__name__)\n",
    "\n",
    "\n",
    "graph1 = dcc.Graph(\n",
    "        id='graph1',\n",
    "        figure=chart1,\n",
    "        className=\"four columns\" \n",
    "    )graph2 = dcc.Graph(\n",
    "        id='graph2',\n",
    "        figure=chart2,\n",
    "        className=\"four columns\"\n",
    "    )graph3 = dcc.Graph(\n",
    "        id='graph3',\n",
    "        figure=chart3,\n",
    "        className=\"four columns\"\n",
    "    )graph4 = dcc.Graph(\n",
    "        id='graph4',\n",
    "        figure=chart4,\n",
    "        className=\"twelve columns\"\n",
    "    )\n",
    "\n",
    "After defining the style of each chart, we define where those charts sit in the dashboard. As you can probably tell from the above codes, we are going to put graph1, 2, and 3 in one row and the graph4 in the other row:\n",
    "\n",
    "# setup the header\n",
    "header = html.H2(children=\"SerieA Dataset Analysis\")# setup to rows, graph 1-3 in the first row, and graph4 in the second:\n",
    "row1 = html.Div(children=[graph1, graph2, graph3],)\n",
    "row2 = html.Div(children=[graph4])# setup & apply the layout\n",
    "layout = html.Div(children=[header, row1, row2], style={\"text-align\": \"center\"})\n",
    "app.layout = layout"
   ]
  }
 ],
 "metadata": {
  "kernelspec": {
   "display_name": "Python 3 (ipykernel)",
   "language": "python",
   "name": "python3"
  },
  "language_info": {
   "codemirror_mode": {
    "name": "ipython",
    "version": 3
   },
   "file_extension": ".py",
   "mimetype": "text/x-python",
   "name": "python",
   "nbconvert_exporter": "python",
   "pygments_lexer": "ipython3",
   "version": "3.9.7"
  }
 },
 "nbformat": 4,
 "nbformat_minor": 5
}
