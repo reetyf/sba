{
 "cells": [
  {
   "cell_type": "markdown",
   "id": "66eb8562",
   "metadata": {},
   "source": [
    "# Hailey Weinschenk - Dashboard Creation and Logic"
   ]
  },
  {
   "cell_type": "code",
   "execution_count": 1,
   "id": "63169ed0",
   "metadata": {},
   "outputs": [],
   "source": [
    "import pandas as pd"
   ]
  },
  {
   "cell_type": "markdown",
   "id": "8ce3596b",
   "metadata": {},
   "source": [
    "The following datasets were procured in two ways for the year of 2022:\n",
    "- the former displays all contracts broken down by state. In addition, the quantifiers of the relevant North American Industry Classification System (NAICS) codes, vendor business type, as well as the total dollar amount of each contract are included. This was obtained through a custom search on [sam.gov ad hoc data bank](https://sam.gov/reports/awards/adhoc).\n",
    "- the latter concerns the eligibility of each NAICS for Woman Owned Small Business (WOSB) and/or Economically Disadvantaged Woman Owned Small Business (EDWOSB) Federal Contracting Program. This is hosted by the Small Business Administration [here](https://www.sba.gov/document/support-eligible-naics-women-owned-small-business-federal-contracting-program)."
   ]
  },
  {
   "cell_type": "markdown",
   "id": "bc8c9f40",
   "metadata": {},
   "source": [
    "To begin the preprocessing for dashboard creation, the data is read into DataFrames."
   ]
  },
  {
   "cell_type": "code",
   "execution_count": 2,
   "id": "820100c5",
   "metadata": {},
   "outputs": [],
   "source": [
    "# read into pandas dataframe\n",
    "contract_df = pd.read_csv('Report Builder.csv')\n",
    "naics_df = pd.read_csv('wosb_naics_2022.csv')"
   ]
  },
  {
   "cell_type": "code",
   "execution_count": 3,
   "id": "e5326670",
   "metadata": {},
   "outputs": [
    {
     "data": {
      "text/html": [
       "<div>\n",
       "<style scoped>\n",
       "    .dataframe tbody tr th:only-of-type {\n",
       "        vertical-align: middle;\n",
       "    }\n",
       "\n",
       "    .dataframe tbody tr th {\n",
       "        vertical-align: top;\n",
       "    }\n",
       "\n",
       "    .dataframe thead th {\n",
       "        text-align: right;\n",
       "    }\n",
       "</style>\n",
       "<table border=\"1\" class=\"dataframe\">\n",
       "  <thead>\n",
       "    <tr style=\"text-align: right;\">\n",
       "      <th></th>\n",
       "      <th></th>\n",
       "      <th></th>\n",
       "      <th></th>\n",
       "      <th></th>\n",
       "      <th>Report Builder</th>\n",
       "    </tr>\n",
       "  </thead>\n",
       "  <tbody>\n",
       "    <tr>\n",
       "      <th>Principal Place of Performance State Code</th>\n",
       "      <th>Is Vendor Business Type - Economically Disadvantaged Women Owned Small Business</th>\n",
       "      <th>Is Vendor Business Type - Women Owned Small Business</th>\n",
       "      <th>NAICS Code</th>\n",
       "      <th>NAICS Description</th>\n",
       "      <td>Base and All Options Value (Total Contract Value)</td>\n",
       "    </tr>\n",
       "    <tr>\n",
       "      <th rowspan=\"9\" valign=\"top\">AK</th>\n",
       "      <th rowspan=\"9\" valign=\"top\">NO</th>\n",
       "      <th rowspan=\"9\" valign=\"top\">NO</th>\n",
       "      <th>112519</th>\n",
       "      <th>OTHER AQUACULTURE (2007), OTHER ANIMAL AQUACULTURE (2002)</th>\n",
       "      <td>$15,899.80</td>\n",
       "    </tr>\n",
       "    <tr>\n",
       "      <th>114119</th>\n",
       "      <th>OTHER MARINE FISHING</th>\n",
       "      <td>$15,630.21</td>\n",
       "    </tr>\n",
       "    <tr>\n",
       "      <th>115310</th>\n",
       "      <th>SUPPORT ACTIVITIES FOR FORESTRY</th>\n",
       "      <td>$1,218,689.41</td>\n",
       "    </tr>\n",
       "    <tr>\n",
       "      <th>212112</th>\n",
       "      <th>BITUMINOUS COAL UNDERGROUND MINING</th>\n",
       "      <td>$34,976,520.00</td>\n",
       "    </tr>\n",
       "    <tr>\n",
       "      <th>212319</th>\n",
       "      <th>OTHER CRUSHED AND BROKEN STONE MINING AND QUARRYING</th>\n",
       "      <td>$1,106,156.20</td>\n",
       "    </tr>\n",
       "    <tr>\n",
       "      <th>212321</th>\n",
       "      <th>CONSTRUCTION SAND AND GRAVEL MINING</th>\n",
       "      <td>$448,563.00</td>\n",
       "    </tr>\n",
       "    <tr>\n",
       "      <th>213112</th>\n",
       "      <th>SUPPORT ACTIVITIES FOR OIL AND GAS OPERATIONS</th>\n",
       "      <td>$55,060,711.00</td>\n",
       "    </tr>\n",
       "    <tr>\n",
       "      <th>221112</th>\n",
       "      <th>FOSSIL FUEL ELECTRIC POWER GENERATION</th>\n",
       "      <td>$294,288,986.32</td>\n",
       "    </tr>\n",
       "    <tr>\n",
       "      <th>221114</th>\n",
       "      <th>SOLAR ELECTRIC POWER GENERATION</th>\n",
       "      <td>$578,000.00</td>\n",
       "    </tr>\n",
       "  </tbody>\n",
       "</table>\n",
       "</div>"
      ],
      "text/plain": [
       "                                                                                                                                                                                                                                                  Report Builder\n",
       "Principal Place of Performance State Code Is Vendor Business Type - Economically Disadvan... Is Vendor Business Type - Women Owned Small Bus... NAICS Code NAICS Description                                   Base and All Options Value (Total Contract Value)\n",
       "AK                                        NO                                                 NO                                                 112519     OTHER AQUACULTURE (2007), OTHER ANIMAL AQUACULT...                                         $15,899.80\n",
       "                                                                                                                                                114119     OTHER MARINE FISHING                                                                       $15,630.21\n",
       "                                                                                                                                                115310     SUPPORT ACTIVITIES FOR FORESTRY                                                         $1,218,689.41\n",
       "                                                                                                                                                212112     BITUMINOUS COAL UNDERGROUND MINING                                                     $34,976,520.00\n",
       "                                                                                                                                                212319     OTHER CRUSHED AND BROKEN STONE MINING AND QUARR...                                      $1,106,156.20\n",
       "                                                                                                                                                212321     CONSTRUCTION SAND AND GRAVEL MINING                                                       $448,563.00\n",
       "                                                                                                                                                213112     SUPPORT ACTIVITIES FOR OIL AND GAS OPERATIONS                                          $55,060,711.00\n",
       "                                                                                                                                                221112     FOSSIL FUEL ELECTRIC POWER GENERATION                                                 $294,288,986.32\n",
       "                                                                                                                                                221114     SOLAR ELECTRIC POWER GENERATION                                                           $578,000.00"
      ]
     },
     "execution_count": 3,
     "metadata": {},
     "output_type": "execute_result"
    }
   ],
   "source": [
    "# and view\n",
    "contract_df.head(10)"
   ]
  },
  {
   "cell_type": "markdown",
   "id": "b8092e3d",
   "metadata": {},
   "source": [
    "There is a problem with the column hierarchy. The .csv file was incorrectly read, as the indexing needs to be adjusted. This can simply be done by declaring the `header` parameter as the first row when reading in using `pd.read_csv()`."
   ]
  },
  {
   "cell_type": "code",
   "execution_count": 4,
   "id": "7f147233",
   "metadata": {
    "scrolled": false
   },
   "outputs": [],
   "source": [
    "contract_df = pd.read_csv('Report Builder.csv', header = 1)"
   ]
  },
  {
   "cell_type": "code",
   "execution_count": 5,
   "id": "05745f08",
   "metadata": {
    "scrolled": true
   },
   "outputs": [
    {
     "data": {
      "text/html": [
       "<div>\n",
       "<style scoped>\n",
       "    .dataframe tbody tr th:only-of-type {\n",
       "        vertical-align: middle;\n",
       "    }\n",
       "\n",
       "    .dataframe tbody tr th {\n",
       "        vertical-align: top;\n",
       "    }\n",
       "\n",
       "    .dataframe thead th {\n",
       "        text-align: right;\n",
       "    }\n",
       "</style>\n",
       "<table border=\"1\" class=\"dataframe\">\n",
       "  <thead>\n",
       "    <tr style=\"text-align: right;\">\n",
       "      <th></th>\n",
       "      <th>Principal Place of Performance State Code</th>\n",
       "      <th>Is Vendor Business Type - Economically Disadvantaged Women Owned Small Business</th>\n",
       "      <th>Is Vendor Business Type - Women Owned Small Business</th>\n",
       "      <th>NAICS Code</th>\n",
       "      <th>NAICS Description</th>\n",
       "      <th>Base and All Options Value (Total Contract Value)</th>\n",
       "    </tr>\n",
       "  </thead>\n",
       "  <tbody>\n",
       "    <tr>\n",
       "      <th>0</th>\n",
       "      <td>AK</td>\n",
       "      <td>NO</td>\n",
       "      <td>NO</td>\n",
       "      <td>112519</td>\n",
       "      <td>OTHER AQUACULTURE (2007), OTHER ANIMAL AQUACUL...</td>\n",
       "      <td>$15,899.80</td>\n",
       "    </tr>\n",
       "    <tr>\n",
       "      <th>1</th>\n",
       "      <td>AK</td>\n",
       "      <td>NO</td>\n",
       "      <td>NO</td>\n",
       "      <td>114119</td>\n",
       "      <td>OTHER MARINE FISHING</td>\n",
       "      <td>$15,630.21</td>\n",
       "    </tr>\n",
       "    <tr>\n",
       "      <th>2</th>\n",
       "      <td>AK</td>\n",
       "      <td>NO</td>\n",
       "      <td>NO</td>\n",
       "      <td>115310</td>\n",
       "      <td>SUPPORT ACTIVITIES FOR FORESTRY</td>\n",
       "      <td>$1,218,689.41</td>\n",
       "    </tr>\n",
       "    <tr>\n",
       "      <th>3</th>\n",
       "      <td>AK</td>\n",
       "      <td>NO</td>\n",
       "      <td>NO</td>\n",
       "      <td>212112</td>\n",
       "      <td>BITUMINOUS COAL UNDERGROUND MINING</td>\n",
       "      <td>$34,976,520.00</td>\n",
       "    </tr>\n",
       "    <tr>\n",
       "      <th>4</th>\n",
       "      <td>AK</td>\n",
       "      <td>NO</td>\n",
       "      <td>NO</td>\n",
       "      <td>212319</td>\n",
       "      <td>OTHER CRUSHED AND BROKEN STONE MINING AND QUAR...</td>\n",
       "      <td>$1,106,156.20</td>\n",
       "    </tr>\n",
       "  </tbody>\n",
       "</table>\n",
       "</div>"
      ],
      "text/plain": [
       "  Principal Place of Performance State Code  \\\n",
       "0                                        AK   \n",
       "1                                        AK   \n",
       "2                                        AK   \n",
       "3                                        AK   \n",
       "4                                        AK   \n",
       "\n",
       "  Is Vendor Business Type - Economically Disadvantaged Women Owned Small Business  \\\n",
       "0                                                 NO                                \n",
       "1                                                 NO                                \n",
       "2                                                 NO                                \n",
       "3                                                 NO                                \n",
       "4                                                 NO                                \n",
       "\n",
       "  Is Vendor Business Type - Women Owned Small Business  NAICS Code  \\\n",
       "0                                                 NO        112519   \n",
       "1                                                 NO        114119   \n",
       "2                                                 NO        115310   \n",
       "3                                                 NO        212112   \n",
       "4                                                 NO        212319   \n",
       "\n",
       "                                   NAICS Description  \\\n",
       "0  OTHER AQUACULTURE (2007), OTHER ANIMAL AQUACUL...   \n",
       "1                               OTHER MARINE FISHING   \n",
       "2                    SUPPORT ACTIVITIES FOR FORESTRY   \n",
       "3                 BITUMINOUS COAL UNDERGROUND MINING   \n",
       "4  OTHER CRUSHED AND BROKEN STONE MINING AND QUAR...   \n",
       "\n",
       "  Base and All Options Value (Total Contract Value)  \n",
       "0                                        $15,899.80  \n",
       "1                                        $15,630.21  \n",
       "2                                     $1,218,689.41  \n",
       "3                                    $34,976,520.00  \n",
       "4                                     $1,106,156.20  "
      ]
     },
     "execution_count": 5,
     "metadata": {},
     "output_type": "execute_result"
    }
   ],
   "source": [
    "contract_df.head()"
   ]
  },
  {
   "cell_type": "markdown",
   "id": "5ea79997",
   "metadata": {},
   "source": [
    "Now, the data looks correct. It can be discerned that each entry of this table is equivalent to one contract, each containing the aforementioned info. Even though it passes the eye test, there is multiple problems that appear when viewing column"
   ]
  },
  {
   "cell_type": "code",
   "execution_count": 6,
   "id": "299ad02a",
   "metadata": {},
   "outputs": [
    {
     "name": "stdout",
     "output_type": "stream",
     "text": [
      "<class 'pandas.core.frame.DataFrame'>\n",
      "RangeIndex: 36957 entries, 0 to 36956\n",
      "Data columns (total 6 columns):\n",
      " #   Column                                                                           Non-Null Count  Dtype \n",
      "---  ------                                                                           --------------  ----- \n",
      " 0   Principal Place of Performance State Code                                        36957 non-null  object\n",
      " 1   Is Vendor Business Type - Economically Disadvantaged Women Owned Small Business  36957 non-null  object\n",
      " 2   Is Vendor Business Type - Women Owned Small Business                             36957 non-null  object\n",
      " 3   NAICS Code                                                                       36957 non-null  int64 \n",
      " 4   NAICS Description                                                                36957 non-null  object\n",
      " 5   Base and All Options Value (Total Contract Value)                                36957 non-null  object\n",
      "dtypes: int64(1), object(5)\n",
      "memory usage: 1.7+ MB\n"
     ]
    }
   ],
   "source": [
    "contract_df.info()"
   ]
  },
  {
   "cell_type": "markdown",
   "id": "2cb7285c",
   "metadata": {},
   "source": [
    "`NAICS Code` is numeric, but just a label representing an industry. Therefore, this should be converted to a string (object). Similarly, the dollar amounts for the `Base and All Options Value (Total Contract Value)` column should be converted into `double`.         "
   ]
  },
  {
   "cell_type": "code",
   "execution_count": 7,
   "id": "4282b84d",
   "metadata": {
    "scrolled": true
   },
   "outputs": [
    {
     "name": "stderr",
     "output_type": "stream",
     "text": [
      "/var/folders/7t/p8sb13rj56vgpg9wvfj5ph5c0000gn/T/ipykernel_68402/1331884965.py:6: FutureWarning: The default value of regex will change from True to False in a future version. In addition, single character regular expressions will *not* be treated as literal strings when regex=True.\n",
      "  contract_df[\"Base and All Options Value (Total Contract Value)\"]= contract_df[\"Base and All Options Value (Total Contract Value)\"].str.replace('$','')\n"
     ]
    }
   ],
   "source": [
    "# code to string\n",
    "contract_df['NAICS Code'] = contract_df['NAICS Code'].astype('object')\n",
    "\n",
    "# currency to float\n",
    "# get rid of $ and ,\n",
    "contract_df[\"Base and All Options Value (Total Contract Value)\"]= contract_df[\"Base and All Options Value (Total Contract Value)\"].str.replace('$','')\n",
    "contract_df[\"Base and All Options Value (Total Contract Value)\"]= contract_df[\"Base and All Options Value (Total Contract Value)\"].str.replace(',','')\n",
    "\n",
    "# to float\n",
    "contract_df[\"Base and All Options Value (Total Contract Value)\"] = contract_df['Base and All Options Value (Total Contract Value)'].astype('float64')"
   ]
  },
  {
   "cell_type": "code",
   "execution_count": 8,
   "id": "60d3833e",
   "metadata": {},
   "outputs": [
    {
     "name": "stdout",
     "output_type": "stream",
     "text": [
      "<class 'pandas.core.frame.DataFrame'>\n",
      "RangeIndex: 36957 entries, 0 to 36956\n",
      "Data columns (total 6 columns):\n",
      " #   Column                                                                           Non-Null Count  Dtype  \n",
      "---  ------                                                                           --------------  -----  \n",
      " 0   Principal Place of Performance State Code                                        36957 non-null  object \n",
      " 1   Is Vendor Business Type - Economically Disadvantaged Women Owned Small Business  36957 non-null  object \n",
      " 2   Is Vendor Business Type - Women Owned Small Business                             36957 non-null  object \n",
      " 3   NAICS Code                                                                       36957 non-null  object \n",
      " 4   NAICS Description                                                                36957 non-null  object \n",
      " 5   Base and All Options Value (Total Contract Value)                                36957 non-null  float64\n",
      "dtypes: float64(1), object(5)\n",
      "memory usage: 1.7+ MB\n"
     ]
    }
   ],
   "source": [
    "contract_df.info()"
   ]
  },
  {
   "cell_type": "code",
   "execution_count": 9,
   "id": "5d4acf57",
   "metadata": {
    "scrolled": true
   },
   "outputs": [
    {
     "data": {
      "text/html": [
       "<div>\n",
       "<style scoped>\n",
       "    .dataframe tbody tr th:only-of-type {\n",
       "        vertical-align: middle;\n",
       "    }\n",
       "\n",
       "    .dataframe tbody tr th {\n",
       "        vertical-align: top;\n",
       "    }\n",
       "\n",
       "    .dataframe thead th {\n",
       "        text-align: right;\n",
       "    }\n",
       "</style>\n",
       "<table border=\"1\" class=\"dataframe\">\n",
       "  <thead>\n",
       "    <tr style=\"text-align: right;\">\n",
       "      <th></th>\n",
       "      <th>NAICS</th>\n",
       "      <th>Description of NAICS</th>\n",
       "      <th>Set-Aside</th>\n",
       "    </tr>\n",
       "  </thead>\n",
       "  <tbody>\n",
       "    <tr>\n",
       "      <th>0</th>\n",
       "      <td>111110</td>\n",
       "      <td>Soybean Farming</td>\n",
       "      <td>WOSB</td>\n",
       "    </tr>\n",
       "    <tr>\n",
       "      <th>1</th>\n",
       "      <td>111120</td>\n",
       "      <td>Oilseed (except Soybean) Farming</td>\n",
       "      <td>WOSB</td>\n",
       "    </tr>\n",
       "    <tr>\n",
       "      <th>2</th>\n",
       "      <td>111130</td>\n",
       "      <td>Dry Pea and Bean Farming</td>\n",
       "      <td>WOSB</td>\n",
       "    </tr>\n",
       "    <tr>\n",
       "      <th>3</th>\n",
       "      <td>111140</td>\n",
       "      <td>Wheat Farming</td>\n",
       "      <td>WOSB</td>\n",
       "    </tr>\n",
       "    <tr>\n",
       "      <th>4</th>\n",
       "      <td>111150</td>\n",
       "      <td>Corn Farming</td>\n",
       "      <td>WOSB</td>\n",
       "    </tr>\n",
       "  </tbody>\n",
       "</table>\n",
       "</div>"
      ],
      "text/plain": [
       "    NAICS              Description of NAICS Set-Aside\n",
       "0  111110                   Soybean Farming      WOSB\n",
       "1  111120  Oilseed (except Soybean) Farming      WOSB\n",
       "2  111130          Dry Pea and Bean Farming      WOSB\n",
       "3  111140                     Wheat Farming      WOSB\n",
       "4  111150                      Corn Farming      WOSB"
      ]
     },
     "execution_count": 9,
     "metadata": {},
     "output_type": "execute_result"
    }
   ],
   "source": [
    "# view other table\n",
    "naics_df.head()"
   ]
  },
  {
   "cell_type": "markdown",
   "id": "f6da319d",
   "metadata": {},
   "source": [
    "This simple table defines the NAICS for which these set-aside contracts exist for WOSB and EDWOSB."
   ]
  },
  {
   "cell_type": "code",
   "execution_count": 10,
   "id": "1daa5f8b",
   "metadata": {},
   "outputs": [
    {
     "name": "stdout",
     "output_type": "stream",
     "text": [
      "<class 'pandas.core.frame.DataFrame'>\n",
      "RangeIndex: 759 entries, 0 to 758\n",
      "Data columns (total 3 columns):\n",
      " #   Column                Non-Null Count  Dtype \n",
      "---  ------                --------------  ----- \n",
      " 0   NAICS                 759 non-null    int64 \n",
      " 1   Description of NAICS  759 non-null    object\n",
      " 2   Set-Aside             759 non-null    object\n",
      "dtypes: int64(1), object(2)\n",
      "memory usage: 17.9+ KB\n"
     ]
    }
   ],
   "source": [
    "naics_df.info()"
   ]
  },
  {
   "cell_type": "markdown",
   "id": "fd4d99d4",
   "metadata": {},
   "source": [
    "There needs to be a similar change for the `NAICS` field which is functionally equivalent to the `NAICS Code` field above."
   ]
  },
  {
   "cell_type": "code",
   "execution_count": 11,
   "id": "b9e148ee",
   "metadata": {},
   "outputs": [],
   "source": [
    "# code to string\n",
    "naics_df['NAICS'] = naics_df['NAICS'].astype('object')"
   ]
  },
  {
   "cell_type": "markdown",
   "id": "50ea68e3",
   "metadata": {},
   "source": [
    "By involving this table, we can observe the differential of businesses fulfilling contracts who are eligible for the WOBS or EDWOBS programs, who haven't registered. This can be done by preserving the original `Is Vendor Business Type` columns. This will be done later as the third graph.\n",
    "\n",
    "To do this, the data will be left joined on the NAICS code. This matches every NACIS id's for every contract in the left table, while indicating the (ED)WOSB or Non-WOSB status of the NAICS."
   ]
  },
  {
   "cell_type": "code",
   "execution_count": 12,
   "id": "112566c5",
   "metadata": {},
   "outputs": [],
   "source": [
    "df = pd.merge(left = contract_df, right = naics_df, how = 'left', left_on = 'NAICS Code', right_on = 'NAICS')"
   ]
  },
  {
   "cell_type": "code",
   "execution_count": 13,
   "id": "33d148d5",
   "metadata": {},
   "outputs": [
    {
     "data": {
      "text/html": [
       "<div>\n",
       "<style scoped>\n",
       "    .dataframe tbody tr th:only-of-type {\n",
       "        vertical-align: middle;\n",
       "    }\n",
       "\n",
       "    .dataframe tbody tr th {\n",
       "        vertical-align: top;\n",
       "    }\n",
       "\n",
       "    .dataframe thead th {\n",
       "        text-align: right;\n",
       "    }\n",
       "</style>\n",
       "<table border=\"1\" class=\"dataframe\">\n",
       "  <thead>\n",
       "    <tr style=\"text-align: right;\">\n",
       "      <th></th>\n",
       "      <th>Principal Place of Performance State Code</th>\n",
       "      <th>Is Vendor Business Type - Economically Disadvantaged Women Owned Small Business</th>\n",
       "      <th>Is Vendor Business Type - Women Owned Small Business</th>\n",
       "      <th>NAICS Code</th>\n",
       "      <th>NAICS Description</th>\n",
       "      <th>Base and All Options Value (Total Contract Value)</th>\n",
       "      <th>NAICS</th>\n",
       "      <th>Description of NAICS</th>\n",
       "      <th>Set-Aside</th>\n",
       "    </tr>\n",
       "  </thead>\n",
       "  <tbody>\n",
       "    <tr>\n",
       "      <th>0</th>\n",
       "      <td>AK</td>\n",
       "      <td>NO</td>\n",
       "      <td>NO</td>\n",
       "      <td>112519</td>\n",
       "      <td>OTHER AQUACULTURE (2007), OTHER ANIMAL AQUACUL...</td>\n",
       "      <td>15899.80</td>\n",
       "      <td>NaN</td>\n",
       "      <td>NaN</td>\n",
       "      <td>NaN</td>\n",
       "    </tr>\n",
       "    <tr>\n",
       "      <th>1</th>\n",
       "      <td>AK</td>\n",
       "      <td>NO</td>\n",
       "      <td>NO</td>\n",
       "      <td>114119</td>\n",
       "      <td>OTHER MARINE FISHING</td>\n",
       "      <td>15630.21</td>\n",
       "      <td>NaN</td>\n",
       "      <td>NaN</td>\n",
       "      <td>NaN</td>\n",
       "    </tr>\n",
       "    <tr>\n",
       "      <th>2</th>\n",
       "      <td>AK</td>\n",
       "      <td>NO</td>\n",
       "      <td>NO</td>\n",
       "      <td>115310</td>\n",
       "      <td>SUPPORT ACTIVITIES FOR FORESTRY</td>\n",
       "      <td>1218689.41</td>\n",
       "      <td>115310</td>\n",
       "      <td>Support Activities for Forestry</td>\n",
       "      <td>EDWOSB</td>\n",
       "    </tr>\n",
       "    <tr>\n",
       "      <th>3</th>\n",
       "      <td>AK</td>\n",
       "      <td>NO</td>\n",
       "      <td>NO</td>\n",
       "      <td>212112</td>\n",
       "      <td>BITUMINOUS COAL UNDERGROUND MINING</td>\n",
       "      <td>34976520.00</td>\n",
       "      <td>NaN</td>\n",
       "      <td>NaN</td>\n",
       "      <td>NaN</td>\n",
       "    </tr>\n",
       "    <tr>\n",
       "      <th>4</th>\n",
       "      <td>AK</td>\n",
       "      <td>NO</td>\n",
       "      <td>NO</td>\n",
       "      <td>212319</td>\n",
       "      <td>OTHER CRUSHED AND BROKEN STONE MINING AND QUAR...</td>\n",
       "      <td>1106156.20</td>\n",
       "      <td>212319</td>\n",
       "      <td>Other Crushed and Broken Stone Mining and Quar...</td>\n",
       "      <td>EDWOSB</td>\n",
       "    </tr>\n",
       "  </tbody>\n",
       "</table>\n",
       "</div>"
      ],
      "text/plain": [
       "  Principal Place of Performance State Code  \\\n",
       "0                                        AK   \n",
       "1                                        AK   \n",
       "2                                        AK   \n",
       "3                                        AK   \n",
       "4                                        AK   \n",
       "\n",
       "  Is Vendor Business Type - Economically Disadvantaged Women Owned Small Business  \\\n",
       "0                                                 NO                                \n",
       "1                                                 NO                                \n",
       "2                                                 NO                                \n",
       "3                                                 NO                                \n",
       "4                                                 NO                                \n",
       "\n",
       "  Is Vendor Business Type - Women Owned Small Business NAICS Code  \\\n",
       "0                                                 NO       112519   \n",
       "1                                                 NO       114119   \n",
       "2                                                 NO       115310   \n",
       "3                                                 NO       212112   \n",
       "4                                                 NO       212319   \n",
       "\n",
       "                                   NAICS Description  \\\n",
       "0  OTHER AQUACULTURE (2007), OTHER ANIMAL AQUACUL...   \n",
       "1                               OTHER MARINE FISHING   \n",
       "2                    SUPPORT ACTIVITIES FOR FORESTRY   \n",
       "3                 BITUMINOUS COAL UNDERGROUND MINING   \n",
       "4  OTHER CRUSHED AND BROKEN STONE MINING AND QUAR...   \n",
       "\n",
       "   Base and All Options Value (Total Contract Value)   NAICS  \\\n",
       "0                                           15899.80     NaN   \n",
       "1                                           15630.21     NaN   \n",
       "2                                         1218689.41  115310   \n",
       "3                                        34976520.00     NaN   \n",
       "4                                         1106156.20  212319   \n",
       "\n",
       "                                Description of NAICS Set-Aside  \n",
       "0                                                NaN       NaN  \n",
       "1                                                NaN       NaN  \n",
       "2                    Support Activities for Forestry    EDWOSB  \n",
       "3                                                NaN       NaN  \n",
       "4  Other Crushed and Broken Stone Mining and Quar...    EDWOSB  "
      ]
     },
     "execution_count": 13,
     "metadata": {},
     "output_type": "execute_result"
    }
   ],
   "source": [
    "df.head()"
   ]
  },
  {
   "cell_type": "code",
   "execution_count": 14,
   "id": "b2e79e50",
   "metadata": {
    "scrolled": true
   },
   "outputs": [
    {
     "data": {
      "text/html": [
       "<div>\n",
       "<style scoped>\n",
       "    .dataframe tbody tr th:only-of-type {\n",
       "        vertical-align: middle;\n",
       "    }\n",
       "\n",
       "    .dataframe tbody tr th {\n",
       "        vertical-align: top;\n",
       "    }\n",
       "\n",
       "    .dataframe thead th {\n",
       "        text-align: right;\n",
       "    }\n",
       "</style>\n",
       "<table border=\"1\" class=\"dataframe\">\n",
       "  <thead>\n",
       "    <tr style=\"text-align: right;\">\n",
       "      <th></th>\n",
       "      <th></th>\n",
       "      <th>Base and All Options Value (Total Contract Value)</th>\n",
       "    </tr>\n",
       "    <tr>\n",
       "      <th>Principal Place of Performance State Code</th>\n",
       "      <th>Is Vendor Business Type - Women Owned Small Business</th>\n",
       "      <th></th>\n",
       "    </tr>\n",
       "  </thead>\n",
       "  <tbody>\n",
       "    <tr>\n",
       "      <th rowspan=\"2\" valign=\"top\">AK</th>\n",
       "      <th>NO</th>\n",
       "      <td>7.670099e+09</td>\n",
       "    </tr>\n",
       "    <tr>\n",
       "      <th>YES</th>\n",
       "      <td>1.052060e+08</td>\n",
       "    </tr>\n",
       "    <tr>\n",
       "      <th rowspan=\"2\" valign=\"top\">AL</th>\n",
       "      <th>NO</th>\n",
       "      <td>2.707434e+10</td>\n",
       "    </tr>\n",
       "    <tr>\n",
       "      <th>YES</th>\n",
       "      <td>7.436778e+08</td>\n",
       "    </tr>\n",
       "    <tr>\n",
       "      <th>AR</th>\n",
       "      <th>NO</th>\n",
       "      <td>1.011262e+09</td>\n",
       "    </tr>\n",
       "  </tbody>\n",
       "</table>\n",
       "</div>"
      ],
      "text/plain": [
       "                                                                                              Base and All Options Value (Total Contract Value)\n",
       "Principal Place of Performance State Code Is Vendor Business Type - Women Owned Small Bus...                                                   \n",
       "AK                                        NO                                                                                       7.670099e+09\n",
       "                                          YES                                                                                      1.052060e+08\n",
       "AL                                        NO                                                                                       2.707434e+10\n",
       "                                          YES                                                                                      7.436778e+08\n",
       "AR                                        NO                                                                                       1.011262e+09"
      ]
     },
     "execution_count": 14,
     "metadata": {},
     "output_type": "execute_result"
    }
   ],
   "source": [
    "# group for each state, and add sum of numerical values (contract value) \n",
    "per_state = df.groupby(['Principal Place of Performance State Code','Is Vendor Business Type - Women Owned Small Business']).sum()\n",
    "per_state.head()"
   ]
  },
  {
   "cell_type": "code",
   "execution_count": 15,
   "id": "b507e776",
   "metadata": {},
   "outputs": [],
   "source": [
    "# reset to obtain values from index hierarchy\n",
    "per_state.reset_index(inplace = True)"
   ]
  },
  {
   "cell_type": "code",
   "execution_count": 16,
   "id": "ce59b46a",
   "metadata": {},
   "outputs": [
    {
     "data": {
      "text/html": [
       "<div>\n",
       "<style scoped>\n",
       "    .dataframe tbody tr th:only-of-type {\n",
       "        vertical-align: middle;\n",
       "    }\n",
       "\n",
       "    .dataframe tbody tr th {\n",
       "        vertical-align: top;\n",
       "    }\n",
       "\n",
       "    .dataframe thead th {\n",
       "        text-align: right;\n",
       "    }\n",
       "</style>\n",
       "<table border=\"1\" class=\"dataframe\">\n",
       "  <thead>\n",
       "    <tr style=\"text-align: right;\">\n",
       "      <th></th>\n",
       "      <th>Principal Place of Performance State Code</th>\n",
       "      <th>Is Vendor Business Type - Women Owned Small Business</th>\n",
       "      <th>Base and All Options Value (Total Contract Value)</th>\n",
       "    </tr>\n",
       "  </thead>\n",
       "  <tbody>\n",
       "    <tr>\n",
       "      <th>0</th>\n",
       "      <td>AK</td>\n",
       "      <td>NO</td>\n",
       "      <td>7.670099e+09</td>\n",
       "    </tr>\n",
       "    <tr>\n",
       "      <th>1</th>\n",
       "      <td>AK</td>\n",
       "      <td>YES</td>\n",
       "      <td>1.052060e+08</td>\n",
       "    </tr>\n",
       "    <tr>\n",
       "      <th>2</th>\n",
       "      <td>AL</td>\n",
       "      <td>NO</td>\n",
       "      <td>2.707434e+10</td>\n",
       "    </tr>\n",
       "    <tr>\n",
       "      <th>3</th>\n",
       "      <td>AL</td>\n",
       "      <td>YES</td>\n",
       "      <td>7.436778e+08</td>\n",
       "    </tr>\n",
       "    <tr>\n",
       "      <th>4</th>\n",
       "      <td>AR</td>\n",
       "      <td>NO</td>\n",
       "      <td>1.011262e+09</td>\n",
       "    </tr>\n",
       "    <tr>\n",
       "      <th>5</th>\n",
       "      <td>AR</td>\n",
       "      <td>YES</td>\n",
       "      <td>8.605145e+07</td>\n",
       "    </tr>\n",
       "    <tr>\n",
       "      <th>6</th>\n",
       "      <td>AS</td>\n",
       "      <td>NO</td>\n",
       "      <td>8.416502e+05</td>\n",
       "    </tr>\n",
       "    <tr>\n",
       "      <th>7</th>\n",
       "      <td>AS</td>\n",
       "      <td>YES</td>\n",
       "      <td>6.348615e+04</td>\n",
       "    </tr>\n",
       "    <tr>\n",
       "      <th>8</th>\n",
       "      <td>AZ</td>\n",
       "      <td>NO</td>\n",
       "      <td>5.036865e+10</td>\n",
       "    </tr>\n",
       "    <tr>\n",
       "      <th>9</th>\n",
       "      <td>AZ</td>\n",
       "      <td>YES</td>\n",
       "      <td>2.148350e+08</td>\n",
       "    </tr>\n",
       "  </tbody>\n",
       "</table>\n",
       "</div>"
      ],
      "text/plain": [
       "  Principal Place of Performance State Code  \\\n",
       "0                                        AK   \n",
       "1                                        AK   \n",
       "2                                        AL   \n",
       "3                                        AL   \n",
       "4                                        AR   \n",
       "5                                        AR   \n",
       "6                                        AS   \n",
       "7                                        AS   \n",
       "8                                        AZ   \n",
       "9                                        AZ   \n",
       "\n",
       "  Is Vendor Business Type - Women Owned Small Business  \\\n",
       "0                                                 NO     \n",
       "1                                                YES     \n",
       "2                                                 NO     \n",
       "3                                                YES     \n",
       "4                                                 NO     \n",
       "5                                                YES     \n",
       "6                                                 NO     \n",
       "7                                                YES     \n",
       "8                                                 NO     \n",
       "9                                                YES     \n",
       "\n",
       "   Base and All Options Value (Total Contract Value)  \n",
       "0                                       7.670099e+09  \n",
       "1                                       1.052060e+08  \n",
       "2                                       2.707434e+10  \n",
       "3                                       7.436778e+08  \n",
       "4                                       1.011262e+09  \n",
       "5                                       8.605145e+07  \n",
       "6                                       8.416502e+05  \n",
       "7                                       6.348615e+04  \n",
       "8                                       5.036865e+10  \n",
       "9                                       2.148350e+08  "
      ]
     },
     "execution_count": 16,
     "metadata": {},
     "output_type": "execute_result"
    }
   ],
   "source": [
    "per_state.head(10)"
   ]
  },
  {
   "cell_type": "code",
   "execution_count": 17,
   "id": "11ad9147",
   "metadata": {},
   "outputs": [],
   "source": [
    "# round to millions for more reader comprehension\n",
    "per_state['Base and All Options Value (Total Contract Value)'] = round(per_state['Base and All Options Value (Total Contract Value)']/1000000,2)"
   ]
  },
  {
   "cell_type": "code",
   "execution_count": 18,
   "id": "c939cca4",
   "metadata": {
    "scrolled": true
   },
   "outputs": [
    {
     "data": {
      "text/html": [
       "<div>\n",
       "<style scoped>\n",
       "    .dataframe tbody tr th:only-of-type {\n",
       "        vertical-align: middle;\n",
       "    }\n",
       "\n",
       "    .dataframe tbody tr th {\n",
       "        vertical-align: top;\n",
       "    }\n",
       "\n",
       "    .dataframe thead th {\n",
       "        text-align: right;\n",
       "    }\n",
       "</style>\n",
       "<table border=\"1\" class=\"dataframe\">\n",
       "  <thead>\n",
       "    <tr style=\"text-align: right;\">\n",
       "      <th></th>\n",
       "      <th>Principal Place of Performance State Code</th>\n",
       "      <th>Is Vendor Business Type - Women Owned Small Business</th>\n",
       "      <th>Base and All Options Value (Total Contract Value)</th>\n",
       "    </tr>\n",
       "  </thead>\n",
       "  <tbody>\n",
       "    <tr>\n",
       "      <th>0</th>\n",
       "      <td>AK</td>\n",
       "      <td>NO</td>\n",
       "      <td>7670.10</td>\n",
       "    </tr>\n",
       "    <tr>\n",
       "      <th>1</th>\n",
       "      <td>AK</td>\n",
       "      <td>YES</td>\n",
       "      <td>105.21</td>\n",
       "    </tr>\n",
       "    <tr>\n",
       "      <th>2</th>\n",
       "      <td>AL</td>\n",
       "      <td>NO</td>\n",
       "      <td>27074.34</td>\n",
       "    </tr>\n",
       "    <tr>\n",
       "      <th>3</th>\n",
       "      <td>AL</td>\n",
       "      <td>YES</td>\n",
       "      <td>743.68</td>\n",
       "    </tr>\n",
       "    <tr>\n",
       "      <th>4</th>\n",
       "      <td>AR</td>\n",
       "      <td>NO</td>\n",
       "      <td>1011.26</td>\n",
       "    </tr>\n",
       "  </tbody>\n",
       "</table>\n",
       "</div>"
      ],
      "text/plain": [
       "  Principal Place of Performance State Code  \\\n",
       "0                                        AK   \n",
       "1                                        AK   \n",
       "2                                        AL   \n",
       "3                                        AL   \n",
       "4                                        AR   \n",
       "\n",
       "  Is Vendor Business Type - Women Owned Small Business  \\\n",
       "0                                                 NO     \n",
       "1                                                YES     \n",
       "2                                                 NO     \n",
       "3                                                YES     \n",
       "4                                                 NO     \n",
       "\n",
       "   Base and All Options Value (Total Contract Value)  \n",
       "0                                            7670.10  \n",
       "1                                             105.21  \n",
       "2                                           27074.34  \n",
       "3                                             743.68  \n",
       "4                                            1011.26  "
      ]
     },
     "execution_count": 18,
     "metadata": {},
     "output_type": "execute_result"
    }
   ],
   "source": [
    "per_state.head()"
   ]
  },
  {
   "cell_type": "code",
   "execution_count": null,
   "id": "21b3b1f6",
   "metadata": {},
   "outputs": [],
   "source": [
    "# create double bar graph and save this graph for the dashboard\n",
    "import plotly.express as px\n",
    "\n",
    "fig1 = px.histogram(per_state, x=\"Principal Place of Performance State Code\", y=\"Base and All Options Value (Total Contract Value)\",\n",
    "             color='Is Vendor Business Type - Women Owned Small Business', barmode='group',labels={\n",
    "                     \"Principal Place of Performance State Code\": \"State of Contract\",\n",
    "                     \"Base and All Options Value (Total Contract Value)\": \"Contract Value (in millions of dollars)\",\n",
    "                     \"Is Vendor Business Type - Women Owned Small Business\": \"Women Owned Small Business\"\n",
    "                 },\n",
    "                title=\"Federal Contract Dollar Amounts for WOSB and Non-WOSB Providers\", width = 1000,log_y = True)\n",
    "fig1.show()"
   ]
  },
  {
   "cell_type": "code",
   "execution_count": null,
   "id": "b40adfe0",
   "metadata": {
    "scrolled": true
   },
   "outputs": [],
   "source": [
    "import numpy as np\n",
    "\n",
    "# obtain the total value of contracts for each state\n",
    "total  = per_state.groupby('Principal Place of Performance State Code').sum()\n",
    "partial = per_state['Base and All Options Value (Total Contract Value)']\n",
    "\n",
    "# duplicate each row\n",
    "total= pd.Series(np.repeat(total.values,2))\n",
    "\n",
    "# and add a new column representing the % of total contract money awarded for WOSB and non-WOSB contractors.\n",
    "per_state['Statewide Percentage of Total Contracted Dollars'] = round(partial/total,4)*100"
   ]
  },
  {
   "cell_type": "code",
   "execution_count": null,
   "id": "78a9ea9a",
   "metadata": {
    "scrolled": true
   },
   "outputs": [
    {
     "data": {
      "text/plain": [
       "Principal Place of Performance State Code\n",
       "FM    100.00\n",
       "WY     16.55\n",
       "MI     14.40\n",
       "DE     13.62\n",
       "SD      9.46\n",
       "RI      8.90\n",
       "LA      8.35\n",
       "MT      7.90\n",
       "AR      7.84\n",
       "ND      7.31\n",
       "MD      7.20\n",
       "Name: Statewide Percentage of Total Contracted Dollars, dtype: float64"
      ]
     },
     "execution_count": 21,
     "metadata": {},
     "output_type": "execute_result"
    }
   ],
   "source": [
    "# obtain highest ratio of WOSB to non WOSB dollars per state\n",
    "highest_percentage_wosb = per_state.groupby('Principal Place of Performance State Code').min('Statewide Percentage of Total Contracted Dollars')\\\n",
    "['Statewide Percentage of Total Contracted Dollars'].sort_values(ascending = False).iloc[:11]\n",
    "\n",
    "highest_percentage_wosb"
   ]
  },
  {
   "cell_type": "markdown",
   "id": "2aca9b1a",
   "metadata": {},
   "source": [
    "FM is Federated States of Micronesia in US code; this outlier can be disregarded. We are left with the 10 highest percentages of WOSB contract dollars. "
   ]
  },
  {
   "cell_type": "code",
   "execution_count": null,
   "id": "e7991631",
   "metadata": {},
   "outputs": [
    {
     "data": {
      "text/plain": [
       "Principal Place of Performance State Code\n",
       "WY    16.55\n",
       "MI    14.40\n",
       "DE    13.62\n",
       "SD     9.46\n",
       "RI     8.90\n",
       "LA     8.35\n",
       "MT     7.90\n",
       "AR     7.84\n",
       "ND     7.31\n",
       "MD     7.20\n",
       "Name: Statewide Percentage of Total Contracted Dollars, dtype: float64"
      ]
     },
     "execution_count": 22,
     "metadata": {},
     "output_type": "execute_result"
    }
   ],
   "source": [
    "highest_percentage_wosb = highest_percentage_wosb[1:]\n",
    "\n",
    "highest_percentage_wosb"
   ]
  },
  {
   "cell_type": "code",
   "execution_count": 23,
   "id": "b671cbea",
   "metadata": {},
   "outputs": [
    {
     "data": {
      "application/vnd.plotly.v1+json": {
       "config": {
        "plotlyServerURL": "https://plot.ly"
       },
       "data": [
        {
         "hovertemplate": "State (Abbr.)=%{x}<br>Contracted Dollars (%)=%{y}<extra></extra>",
         "legendgroup": "",
         "marker": {
          "color": "goldenrod",
          "symbol": "circle"
         },
         "mode": "markers",
         "name": "",
         "orientation": "v",
         "showlegend": false,
         "type": "scatter",
         "x": [
          "WY",
          "MI",
          "DE",
          "SD",
          "RI",
          "LA",
          "MT",
          "AR",
          "ND",
          "MD"
         ],
         "xaxis": "x",
         "y": [
          16.55,
          14.399999999999999,
          13.62,
          9.46,
          8.9,
          8.35,
          7.9,
          7.84,
          7.31,
          7.199999999999999
         ],
         "yaxis": "y"
        }
       ],
       "layout": {
        "legend": {
         "tracegroupgap": 0
        },
        "template": {
         "data": {
          "bar": [
           {
            "error_x": {
             "color": "#2a3f5f"
            },
            "error_y": {
             "color": "#2a3f5f"
            },
            "marker": {
             "line": {
              "color": "#E5ECF6",
              "width": 0.5
             },
             "pattern": {
              "fillmode": "overlay",
              "size": 10,
              "solidity": 0.2
             }
            },
            "type": "bar"
           }
          ],
          "barpolar": [
           {
            "marker": {
             "line": {
              "color": "#E5ECF6",
              "width": 0.5
             },
             "pattern": {
              "fillmode": "overlay",
              "size": 10,
              "solidity": 0.2
             }
            },
            "type": "barpolar"
           }
          ],
          "carpet": [
           {
            "aaxis": {
             "endlinecolor": "#2a3f5f",
             "gridcolor": "white",
             "linecolor": "white",
             "minorgridcolor": "white",
             "startlinecolor": "#2a3f5f"
            },
            "baxis": {
             "endlinecolor": "#2a3f5f",
             "gridcolor": "white",
             "linecolor": "white",
             "minorgridcolor": "white",
             "startlinecolor": "#2a3f5f"
            },
            "type": "carpet"
           }
          ],
          "choropleth": [
           {
            "colorbar": {
             "outlinewidth": 0,
             "ticks": ""
            },
            "type": "choropleth"
           }
          ],
          "contour": [
           {
            "colorbar": {
             "outlinewidth": 0,
             "ticks": ""
            },
            "colorscale": [
             [
              0,
              "#0d0887"
             ],
             [
              0.1111111111111111,
              "#46039f"
             ],
             [
              0.2222222222222222,
              "#7201a8"
             ],
             [
              0.3333333333333333,
              "#9c179e"
             ],
             [
              0.4444444444444444,
              "#bd3786"
             ],
             [
              0.5555555555555556,
              "#d8576b"
             ],
             [
              0.6666666666666666,
              "#ed7953"
             ],
             [
              0.7777777777777778,
              "#fb9f3a"
             ],
             [
              0.8888888888888888,
              "#fdca26"
             ],
             [
              1,
              "#f0f921"
             ]
            ],
            "type": "contour"
           }
          ],
          "contourcarpet": [
           {
            "colorbar": {
             "outlinewidth": 0,
             "ticks": ""
            },
            "type": "contourcarpet"
           }
          ],
          "heatmap": [
           {
            "colorbar": {
             "outlinewidth": 0,
             "ticks": ""
            },
            "colorscale": [
             [
              0,
              "#0d0887"
             ],
             [
              0.1111111111111111,
              "#46039f"
             ],
             [
              0.2222222222222222,
              "#7201a8"
             ],
             [
              0.3333333333333333,
              "#9c179e"
             ],
             [
              0.4444444444444444,
              "#bd3786"
             ],
             [
              0.5555555555555556,
              "#d8576b"
             ],
             [
              0.6666666666666666,
              "#ed7953"
             ],
             [
              0.7777777777777778,
              "#fb9f3a"
             ],
             [
              0.8888888888888888,
              "#fdca26"
             ],
             [
              1,
              "#f0f921"
             ]
            ],
            "type": "heatmap"
           }
          ],
          "heatmapgl": [
           {
            "colorbar": {
             "outlinewidth": 0,
             "ticks": ""
            },
            "colorscale": [
             [
              0,
              "#0d0887"
             ],
             [
              0.1111111111111111,
              "#46039f"
             ],
             [
              0.2222222222222222,
              "#7201a8"
             ],
             [
              0.3333333333333333,
              "#9c179e"
             ],
             [
              0.4444444444444444,
              "#bd3786"
             ],
             [
              0.5555555555555556,
              "#d8576b"
             ],
             [
              0.6666666666666666,
              "#ed7953"
             ],
             [
              0.7777777777777778,
              "#fb9f3a"
             ],
             [
              0.8888888888888888,
              "#fdca26"
             ],
             [
              1,
              "#f0f921"
             ]
            ],
            "type": "heatmapgl"
           }
          ],
          "histogram": [
           {
            "marker": {
             "pattern": {
              "fillmode": "overlay",
              "size": 10,
              "solidity": 0.2
             }
            },
            "type": "histogram"
           }
          ],
          "histogram2d": [
           {
            "colorbar": {
             "outlinewidth": 0,
             "ticks": ""
            },
            "colorscale": [
             [
              0,
              "#0d0887"
             ],
             [
              0.1111111111111111,
              "#46039f"
             ],
             [
              0.2222222222222222,
              "#7201a8"
             ],
             [
              0.3333333333333333,
              "#9c179e"
             ],
             [
              0.4444444444444444,
              "#bd3786"
             ],
             [
              0.5555555555555556,
              "#d8576b"
             ],
             [
              0.6666666666666666,
              "#ed7953"
             ],
             [
              0.7777777777777778,
              "#fb9f3a"
             ],
             [
              0.8888888888888888,
              "#fdca26"
             ],
             [
              1,
              "#f0f921"
             ]
            ],
            "type": "histogram2d"
           }
          ],
          "histogram2dcontour": [
           {
            "colorbar": {
             "outlinewidth": 0,
             "ticks": ""
            },
            "colorscale": [
             [
              0,
              "#0d0887"
             ],
             [
              0.1111111111111111,
              "#46039f"
             ],
             [
              0.2222222222222222,
              "#7201a8"
             ],
             [
              0.3333333333333333,
              "#9c179e"
             ],
             [
              0.4444444444444444,
              "#bd3786"
             ],
             [
              0.5555555555555556,
              "#d8576b"
             ],
             [
              0.6666666666666666,
              "#ed7953"
             ],
             [
              0.7777777777777778,
              "#fb9f3a"
             ],
             [
              0.8888888888888888,
              "#fdca26"
             ],
             [
              1,
              "#f0f921"
             ]
            ],
            "type": "histogram2dcontour"
           }
          ],
          "mesh3d": [
           {
            "colorbar": {
             "outlinewidth": 0,
             "ticks": ""
            },
            "type": "mesh3d"
           }
          ],
          "parcoords": [
           {
            "line": {
             "colorbar": {
              "outlinewidth": 0,
              "ticks": ""
             }
            },
            "type": "parcoords"
           }
          ],
          "pie": [
           {
            "automargin": true,
            "type": "pie"
           }
          ],
          "scatter": [
           {
            "fillpattern": {
             "fillmode": "overlay",
             "size": 10,
             "solidity": 0.2
            },
            "type": "scatter"
           }
          ],
          "scatter3d": [
           {
            "line": {
             "colorbar": {
              "outlinewidth": 0,
              "ticks": ""
             }
            },
            "marker": {
             "colorbar": {
              "outlinewidth": 0,
              "ticks": ""
             }
            },
            "type": "scatter3d"
           }
          ],
          "scattercarpet": [
           {
            "marker": {
             "colorbar": {
              "outlinewidth": 0,
              "ticks": ""
             }
            },
            "type": "scattercarpet"
           }
          ],
          "scattergeo": [
           {
            "marker": {
             "colorbar": {
              "outlinewidth": 0,
              "ticks": ""
             }
            },
            "type": "scattergeo"
           }
          ],
          "scattergl": [
           {
            "marker": {
             "colorbar": {
              "outlinewidth": 0,
              "ticks": ""
             }
            },
            "type": "scattergl"
           }
          ],
          "scattermapbox": [
           {
            "marker": {
             "colorbar": {
              "outlinewidth": 0,
              "ticks": ""
             }
            },
            "type": "scattermapbox"
           }
          ],
          "scatterpolar": [
           {
            "marker": {
             "colorbar": {
              "outlinewidth": 0,
              "ticks": ""
             }
            },
            "type": "scatterpolar"
           }
          ],
          "scatterpolargl": [
           {
            "marker": {
             "colorbar": {
              "outlinewidth": 0,
              "ticks": ""
             }
            },
            "type": "scatterpolargl"
           }
          ],
          "scatterternary": [
           {
            "marker": {
             "colorbar": {
              "outlinewidth": 0,
              "ticks": ""
             }
            },
            "type": "scatterternary"
           }
          ],
          "surface": [
           {
            "colorbar": {
             "outlinewidth": 0,
             "ticks": ""
            },
            "colorscale": [
             [
              0,
              "#0d0887"
             ],
             [
              0.1111111111111111,
              "#46039f"
             ],
             [
              0.2222222222222222,
              "#7201a8"
             ],
             [
              0.3333333333333333,
              "#9c179e"
             ],
             [
              0.4444444444444444,
              "#bd3786"
             ],
             [
              0.5555555555555556,
              "#d8576b"
             ],
             [
              0.6666666666666666,
              "#ed7953"
             ],
             [
              0.7777777777777778,
              "#fb9f3a"
             ],
             [
              0.8888888888888888,
              "#fdca26"
             ],
             [
              1,
              "#f0f921"
             ]
            ],
            "type": "surface"
           }
          ],
          "table": [
           {
            "cells": {
             "fill": {
              "color": "#EBF0F8"
             },
             "line": {
              "color": "white"
             }
            },
            "header": {
             "fill": {
              "color": "#C8D4E3"
             },
             "line": {
              "color": "white"
             }
            },
            "type": "table"
           }
          ]
         },
         "layout": {
          "annotationdefaults": {
           "arrowcolor": "#2a3f5f",
           "arrowhead": 0,
           "arrowwidth": 1
          },
          "autotypenumbers": "strict",
          "coloraxis": {
           "colorbar": {
            "outlinewidth": 0,
            "ticks": ""
           }
          },
          "colorscale": {
           "diverging": [
            [
             0,
             "#8e0152"
            ],
            [
             0.1,
             "#c51b7d"
            ],
            [
             0.2,
             "#de77ae"
            ],
            [
             0.3,
             "#f1b6da"
            ],
            [
             0.4,
             "#fde0ef"
            ],
            [
             0.5,
             "#f7f7f7"
            ],
            [
             0.6,
             "#e6f5d0"
            ],
            [
             0.7,
             "#b8e186"
            ],
            [
             0.8,
             "#7fbc41"
            ],
            [
             0.9,
             "#4d9221"
            ],
            [
             1,
             "#276419"
            ]
           ],
           "sequential": [
            [
             0,
             "#0d0887"
            ],
            [
             0.1111111111111111,
             "#46039f"
            ],
            [
             0.2222222222222222,
             "#7201a8"
            ],
            [
             0.3333333333333333,
             "#9c179e"
            ],
            [
             0.4444444444444444,
             "#bd3786"
            ],
            [
             0.5555555555555556,
             "#d8576b"
            ],
            [
             0.6666666666666666,
             "#ed7953"
            ],
            [
             0.7777777777777778,
             "#fb9f3a"
            ],
            [
             0.8888888888888888,
             "#fdca26"
            ],
            [
             1,
             "#f0f921"
            ]
           ],
           "sequentialminus": [
            [
             0,
             "#0d0887"
            ],
            [
             0.1111111111111111,
             "#46039f"
            ],
            [
             0.2222222222222222,
             "#7201a8"
            ],
            [
             0.3333333333333333,
             "#9c179e"
            ],
            [
             0.4444444444444444,
             "#bd3786"
            ],
            [
             0.5555555555555556,
             "#d8576b"
            ],
            [
             0.6666666666666666,
             "#ed7953"
            ],
            [
             0.7777777777777778,
             "#fb9f3a"
            ],
            [
             0.8888888888888888,
             "#fdca26"
            ],
            [
             1,
             "#f0f921"
            ]
           ]
          },
          "colorway": [
           "#636efa",
           "#EF553B",
           "#00cc96",
           "#ab63fa",
           "#FFA15A",
           "#19d3f3",
           "#FF6692",
           "#B6E880",
           "#FF97FF",
           "#FECB52"
          ],
          "font": {
           "color": "#2a3f5f"
          },
          "geo": {
           "bgcolor": "white",
           "lakecolor": "white",
           "landcolor": "#E5ECF6",
           "showlakes": true,
           "showland": true,
           "subunitcolor": "white"
          },
          "hoverlabel": {
           "align": "left"
          },
          "hovermode": "closest",
          "mapbox": {
           "style": "light"
          },
          "paper_bgcolor": "white",
          "plot_bgcolor": "#E5ECF6",
          "polar": {
           "angularaxis": {
            "gridcolor": "white",
            "linecolor": "white",
            "ticks": ""
           },
           "bgcolor": "#E5ECF6",
           "radialaxis": {
            "gridcolor": "white",
            "linecolor": "white",
            "ticks": ""
           }
          },
          "scene": {
           "xaxis": {
            "backgroundcolor": "#E5ECF6",
            "gridcolor": "white",
            "gridwidth": 2,
            "linecolor": "white",
            "showbackground": true,
            "ticks": "",
            "zerolinecolor": "white"
           },
           "yaxis": {
            "backgroundcolor": "#E5ECF6",
            "gridcolor": "white",
            "gridwidth": 2,
            "linecolor": "white",
            "showbackground": true,
            "ticks": "",
            "zerolinecolor": "white"
           },
           "zaxis": {
            "backgroundcolor": "#E5ECF6",
            "gridcolor": "white",
            "gridwidth": 2,
            "linecolor": "white",
            "showbackground": true,
            "ticks": "",
            "zerolinecolor": "white"
           }
          },
          "shapedefaults": {
           "line": {
            "color": "#2a3f5f"
           }
          },
          "ternary": {
           "aaxis": {
            "gridcolor": "white",
            "linecolor": "white",
            "ticks": ""
           },
           "baxis": {
            "gridcolor": "white",
            "linecolor": "white",
            "ticks": ""
           },
           "bgcolor": "#E5ECF6",
           "caxis": {
            "gridcolor": "white",
            "linecolor": "white",
            "ticks": ""
           }
          },
          "title": {
           "x": 0.05
          },
          "xaxis": {
           "automargin": true,
           "gridcolor": "white",
           "linecolor": "white",
           "ticks": "",
           "title": {
            "standoff": 15
           },
           "zerolinecolor": "white",
           "zerolinewidth": 2
          },
          "yaxis": {
           "automargin": true,
           "gridcolor": "white",
           "linecolor": "white",
           "ticks": "",
           "title": {
            "standoff": 15
           },
           "zerolinecolor": "white",
           "zerolinewidth": 2
          }
         }
        },
        "title": {
         "text": "States with Highest Percentage of WOSB Contracting"
        },
        "xaxis": {
         "anchor": "y",
         "domain": [
          0,
          1
         ],
         "title": {
          "text": "State (Abbr.)"
         }
        },
        "yaxis": {
         "anchor": "x",
         "domain": [
          0,
          1
         ],
         "title": {
          "text": "Contracted Dollars (%)"
         }
        }
       }
      },
      "text/html": [
       "<div>                            <div id=\"75cff690-fdaf-4e69-9851-282afc76677f\" class=\"plotly-graph-div\" style=\"height:525px; width:100%;\"></div>            <script type=\"text/javascript\">                require([\"plotly\"], function(Plotly) {                    window.PLOTLYENV=window.PLOTLYENV || {};                                    if (document.getElementById(\"75cff690-fdaf-4e69-9851-282afc76677f\")) {                    Plotly.newPlot(                        \"75cff690-fdaf-4e69-9851-282afc76677f\",                        [{\"hovertemplate\":\"State (Abbr.)=%{x}<br>Contracted Dollars (%)=%{y}<extra></extra>\",\"legendgroup\":\"\",\"marker\":{\"color\":\"goldenrod\",\"symbol\":\"circle\"},\"mode\":\"markers\",\"name\":\"\",\"orientation\":\"v\",\"showlegend\":false,\"x\":[\"WY\",\"MI\",\"DE\",\"SD\",\"RI\",\"LA\",\"MT\",\"AR\",\"ND\",\"MD\"],\"xaxis\":\"x\",\"y\":[16.55,14.399999999999999,13.62,9.46,8.9,8.35,7.9,7.84,7.31,7.199999999999999],\"yaxis\":\"y\",\"type\":\"scatter\"}],                        {\"template\":{\"data\":{\"histogram2dcontour\":[{\"type\":\"histogram2dcontour\",\"colorbar\":{\"outlinewidth\":0,\"ticks\":\"\"},\"colorscale\":[[0.0,\"#0d0887\"],[0.1111111111111111,\"#46039f\"],[0.2222222222222222,\"#7201a8\"],[0.3333333333333333,\"#9c179e\"],[0.4444444444444444,\"#bd3786\"],[0.5555555555555556,\"#d8576b\"],[0.6666666666666666,\"#ed7953\"],[0.7777777777777778,\"#fb9f3a\"],[0.8888888888888888,\"#fdca26\"],[1.0,\"#f0f921\"]]}],\"choropleth\":[{\"type\":\"choropleth\",\"colorbar\":{\"outlinewidth\":0,\"ticks\":\"\"}}],\"histogram2d\":[{\"type\":\"histogram2d\",\"colorbar\":{\"outlinewidth\":0,\"ticks\":\"\"},\"colorscale\":[[0.0,\"#0d0887\"],[0.1111111111111111,\"#46039f\"],[0.2222222222222222,\"#7201a8\"],[0.3333333333333333,\"#9c179e\"],[0.4444444444444444,\"#bd3786\"],[0.5555555555555556,\"#d8576b\"],[0.6666666666666666,\"#ed7953\"],[0.7777777777777778,\"#fb9f3a\"],[0.8888888888888888,\"#fdca26\"],[1.0,\"#f0f921\"]]}],\"heatmap\":[{\"type\":\"heatmap\",\"colorbar\":{\"outlinewidth\":0,\"ticks\":\"\"},\"colorscale\":[[0.0,\"#0d0887\"],[0.1111111111111111,\"#46039f\"],[0.2222222222222222,\"#7201a8\"],[0.3333333333333333,\"#9c179e\"],[0.4444444444444444,\"#bd3786\"],[0.5555555555555556,\"#d8576b\"],[0.6666666666666666,\"#ed7953\"],[0.7777777777777778,\"#fb9f3a\"],[0.8888888888888888,\"#fdca26\"],[1.0,\"#f0f921\"]]}],\"heatmapgl\":[{\"type\":\"heatmapgl\",\"colorbar\":{\"outlinewidth\":0,\"ticks\":\"\"},\"colorscale\":[[0.0,\"#0d0887\"],[0.1111111111111111,\"#46039f\"],[0.2222222222222222,\"#7201a8\"],[0.3333333333333333,\"#9c179e\"],[0.4444444444444444,\"#bd3786\"],[0.5555555555555556,\"#d8576b\"],[0.6666666666666666,\"#ed7953\"],[0.7777777777777778,\"#fb9f3a\"],[0.8888888888888888,\"#fdca26\"],[1.0,\"#f0f921\"]]}],\"contourcarpet\":[{\"type\":\"contourcarpet\",\"colorbar\":{\"outlinewidth\":0,\"ticks\":\"\"}}],\"contour\":[{\"type\":\"contour\",\"colorbar\":{\"outlinewidth\":0,\"ticks\":\"\"},\"colorscale\":[[0.0,\"#0d0887\"],[0.1111111111111111,\"#46039f\"],[0.2222222222222222,\"#7201a8\"],[0.3333333333333333,\"#9c179e\"],[0.4444444444444444,\"#bd3786\"],[0.5555555555555556,\"#d8576b\"],[0.6666666666666666,\"#ed7953\"],[0.7777777777777778,\"#fb9f3a\"],[0.8888888888888888,\"#fdca26\"],[1.0,\"#f0f921\"]]}],\"surface\":[{\"type\":\"surface\",\"colorbar\":{\"outlinewidth\":0,\"ticks\":\"\"},\"colorscale\":[[0.0,\"#0d0887\"],[0.1111111111111111,\"#46039f\"],[0.2222222222222222,\"#7201a8\"],[0.3333333333333333,\"#9c179e\"],[0.4444444444444444,\"#bd3786\"],[0.5555555555555556,\"#d8576b\"],[0.6666666666666666,\"#ed7953\"],[0.7777777777777778,\"#fb9f3a\"],[0.8888888888888888,\"#fdca26\"],[1.0,\"#f0f921\"]]}],\"mesh3d\":[{\"type\":\"mesh3d\",\"colorbar\":{\"outlinewidth\":0,\"ticks\":\"\"}}],\"scatter\":[{\"fillpattern\":{\"fillmode\":\"overlay\",\"size\":10,\"solidity\":0.2},\"type\":\"scatter\"}],\"parcoords\":[{\"type\":\"parcoords\",\"line\":{\"colorbar\":{\"outlinewidth\":0,\"ticks\":\"\"}}}],\"scatterpolargl\":[{\"type\":\"scatterpolargl\",\"marker\":{\"colorbar\":{\"outlinewidth\":0,\"ticks\":\"\"}}}],\"bar\":[{\"error_x\":{\"color\":\"#2a3f5f\"},\"error_y\":{\"color\":\"#2a3f5f\"},\"marker\":{\"line\":{\"color\":\"#E5ECF6\",\"width\":0.5},\"pattern\":{\"fillmode\":\"overlay\",\"size\":10,\"solidity\":0.2}},\"type\":\"bar\"}],\"scattergeo\":[{\"type\":\"scattergeo\",\"marker\":{\"colorbar\":{\"outlinewidth\":0,\"ticks\":\"\"}}}],\"scatterpolar\":[{\"type\":\"scatterpolar\",\"marker\":{\"colorbar\":{\"outlinewidth\":0,\"ticks\":\"\"}}}],\"histogram\":[{\"marker\":{\"pattern\":{\"fillmode\":\"overlay\",\"size\":10,\"solidity\":0.2}},\"type\":\"histogram\"}],\"scattergl\":[{\"type\":\"scattergl\",\"marker\":{\"colorbar\":{\"outlinewidth\":0,\"ticks\":\"\"}}}],\"scatter3d\":[{\"type\":\"scatter3d\",\"line\":{\"colorbar\":{\"outlinewidth\":0,\"ticks\":\"\"}},\"marker\":{\"colorbar\":{\"outlinewidth\":0,\"ticks\":\"\"}}}],\"scattermapbox\":[{\"type\":\"scattermapbox\",\"marker\":{\"colorbar\":{\"outlinewidth\":0,\"ticks\":\"\"}}}],\"scatterternary\":[{\"type\":\"scatterternary\",\"marker\":{\"colorbar\":{\"outlinewidth\":0,\"ticks\":\"\"}}}],\"scattercarpet\":[{\"type\":\"scattercarpet\",\"marker\":{\"colorbar\":{\"outlinewidth\":0,\"ticks\":\"\"}}}],\"carpet\":[{\"aaxis\":{\"endlinecolor\":\"#2a3f5f\",\"gridcolor\":\"white\",\"linecolor\":\"white\",\"minorgridcolor\":\"white\",\"startlinecolor\":\"#2a3f5f\"},\"baxis\":{\"endlinecolor\":\"#2a3f5f\",\"gridcolor\":\"white\",\"linecolor\":\"white\",\"minorgridcolor\":\"white\",\"startlinecolor\":\"#2a3f5f\"},\"type\":\"carpet\"}],\"table\":[{\"cells\":{\"fill\":{\"color\":\"#EBF0F8\"},\"line\":{\"color\":\"white\"}},\"header\":{\"fill\":{\"color\":\"#C8D4E3\"},\"line\":{\"color\":\"white\"}},\"type\":\"table\"}],\"barpolar\":[{\"marker\":{\"line\":{\"color\":\"#E5ECF6\",\"width\":0.5},\"pattern\":{\"fillmode\":\"overlay\",\"size\":10,\"solidity\":0.2}},\"type\":\"barpolar\"}],\"pie\":[{\"automargin\":true,\"type\":\"pie\"}]},\"layout\":{\"autotypenumbers\":\"strict\",\"colorway\":[\"#636efa\",\"#EF553B\",\"#00cc96\",\"#ab63fa\",\"#FFA15A\",\"#19d3f3\",\"#FF6692\",\"#B6E880\",\"#FF97FF\",\"#FECB52\"],\"font\":{\"color\":\"#2a3f5f\"},\"hovermode\":\"closest\",\"hoverlabel\":{\"align\":\"left\"},\"paper_bgcolor\":\"white\",\"plot_bgcolor\":\"#E5ECF6\",\"polar\":{\"bgcolor\":\"#E5ECF6\",\"angularaxis\":{\"gridcolor\":\"white\",\"linecolor\":\"white\",\"ticks\":\"\"},\"radialaxis\":{\"gridcolor\":\"white\",\"linecolor\":\"white\",\"ticks\":\"\"}},\"ternary\":{\"bgcolor\":\"#E5ECF6\",\"aaxis\":{\"gridcolor\":\"white\",\"linecolor\":\"white\",\"ticks\":\"\"},\"baxis\":{\"gridcolor\":\"white\",\"linecolor\":\"white\",\"ticks\":\"\"},\"caxis\":{\"gridcolor\":\"white\",\"linecolor\":\"white\",\"ticks\":\"\"}},\"coloraxis\":{\"colorbar\":{\"outlinewidth\":0,\"ticks\":\"\"}},\"colorscale\":{\"sequential\":[[0.0,\"#0d0887\"],[0.1111111111111111,\"#46039f\"],[0.2222222222222222,\"#7201a8\"],[0.3333333333333333,\"#9c179e\"],[0.4444444444444444,\"#bd3786\"],[0.5555555555555556,\"#d8576b\"],[0.6666666666666666,\"#ed7953\"],[0.7777777777777778,\"#fb9f3a\"],[0.8888888888888888,\"#fdca26\"],[1.0,\"#f0f921\"]],\"sequentialminus\":[[0.0,\"#0d0887\"],[0.1111111111111111,\"#46039f\"],[0.2222222222222222,\"#7201a8\"],[0.3333333333333333,\"#9c179e\"],[0.4444444444444444,\"#bd3786\"],[0.5555555555555556,\"#d8576b\"],[0.6666666666666666,\"#ed7953\"],[0.7777777777777778,\"#fb9f3a\"],[0.8888888888888888,\"#fdca26\"],[1.0,\"#f0f921\"]],\"diverging\":[[0,\"#8e0152\"],[0.1,\"#c51b7d\"],[0.2,\"#de77ae\"],[0.3,\"#f1b6da\"],[0.4,\"#fde0ef\"],[0.5,\"#f7f7f7\"],[0.6,\"#e6f5d0\"],[0.7,\"#b8e186\"],[0.8,\"#7fbc41\"],[0.9,\"#4d9221\"],[1,\"#276419\"]]},\"xaxis\":{\"gridcolor\":\"white\",\"linecolor\":\"white\",\"ticks\":\"\",\"title\":{\"standoff\":15},\"zerolinecolor\":\"white\",\"automargin\":true,\"zerolinewidth\":2},\"yaxis\":{\"gridcolor\":\"white\",\"linecolor\":\"white\",\"ticks\":\"\",\"title\":{\"standoff\":15},\"zerolinecolor\":\"white\",\"automargin\":true,\"zerolinewidth\":2},\"scene\":{\"xaxis\":{\"backgroundcolor\":\"#E5ECF6\",\"gridcolor\":\"white\",\"linecolor\":\"white\",\"showbackground\":true,\"ticks\":\"\",\"zerolinecolor\":\"white\",\"gridwidth\":2},\"yaxis\":{\"backgroundcolor\":\"#E5ECF6\",\"gridcolor\":\"white\",\"linecolor\":\"white\",\"showbackground\":true,\"ticks\":\"\",\"zerolinecolor\":\"white\",\"gridwidth\":2},\"zaxis\":{\"backgroundcolor\":\"#E5ECF6\",\"gridcolor\":\"white\",\"linecolor\":\"white\",\"showbackground\":true,\"ticks\":\"\",\"zerolinecolor\":\"white\",\"gridwidth\":2}},\"shapedefaults\":{\"line\":{\"color\":\"#2a3f5f\"}},\"annotationdefaults\":{\"arrowcolor\":\"#2a3f5f\",\"arrowhead\":0,\"arrowwidth\":1},\"geo\":{\"bgcolor\":\"white\",\"landcolor\":\"#E5ECF6\",\"subunitcolor\":\"white\",\"showland\":true,\"showlakes\":true,\"lakecolor\":\"white\"},\"title\":{\"x\":0.05},\"mapbox\":{\"style\":\"light\"}}},\"xaxis\":{\"anchor\":\"y\",\"domain\":[0.0,1.0],\"title\":{\"text\":\"State (Abbr.)\"}},\"yaxis\":{\"anchor\":\"x\",\"domain\":[0.0,1.0],\"title\":{\"text\":\"Contracted Dollars (%)\"}},\"legend\":{\"tracegroupgap\":0},\"title\":{\"text\":\"States with Highest Percentage of WOSB Contracting\"}},                        {\"responsive\": true}                    ).then(function(){\n",
       "                            \n",
       "var gd = document.getElementById('75cff690-fdaf-4e69-9851-282afc76677f');\n",
       "var x = new MutationObserver(function (mutations, observer) {{\n",
       "        var display = window.getComputedStyle(gd).display;\n",
       "        if (!display || display === 'none') {{\n",
       "            console.log([gd, 'removed!']);\n",
       "            Plotly.purge(gd);\n",
       "            observer.disconnect();\n",
       "        }}\n",
       "}});\n",
       "\n",
       "// Listen for the removal of the full notebook cells\n",
       "var notebookContainer = gd.closest('#notebook-container');\n",
       "if (notebookContainer) {{\n",
       "    x.observe(notebookContainer, {childList: true});\n",
       "}}\n",
       "\n",
       "// Listen for the clearing of the current output cell\n",
       "var outputEl = gd.closest('.output');\n",
       "if (outputEl) {{\n",
       "    x.observe(outputEl, {childList: true});\n",
       "}}\n",
       "\n",
       "                        })                };                });            </script>        </div>"
      ]
     },
     "metadata": {},
     "output_type": "display_data"
    }
   ],
   "source": [
    "# plot on a line graph for the dashboard\n",
    "fig2 = px.scatter(highest_percentage_wosb, x=highest_percentage_wosb.index, y=\"Statewide Percentage of Total Contracted Dollars\", \\\n",
    "              title='States with Highest Percentage of WOSB Contracting',\\\n",
    "              labels = {\"Principal Place of Performance State Code\":\"State (Abbr.)\",\"Statewide Percentage of Total Contracted Dollars\":\"Contracted Dollars (%)\"}, color_discrete_sequence=['goldenrod'])\n",
    "fig2.show()"
   ]
  },
  {
   "cell_type": "markdown",
   "id": "b0d7c610",
   "metadata": {},
   "source": [
    "Next, the percentage of WSOB contracts will be explored for each eligible NAICS. This will highlight the industries eligible for WSOB or EDWSOB program contracts that are not being granted in practice. Policy adjustments could be recommended to raise these ratios."
   ]
  },
  {
   "cell_type": "code",
   "execution_count": 24,
   "id": "e402a475",
   "metadata": {},
   "outputs": [
    {
     "data": {
      "text/html": [
       "<div>\n",
       "<style scoped>\n",
       "    .dataframe tbody tr th:only-of-type {\n",
       "        vertical-align: middle;\n",
       "    }\n",
       "\n",
       "    .dataframe tbody tr th {\n",
       "        vertical-align: top;\n",
       "    }\n",
       "\n",
       "    .dataframe thead th {\n",
       "        text-align: right;\n",
       "    }\n",
       "</style>\n",
       "<table border=\"1\" class=\"dataframe\">\n",
       "  <thead>\n",
       "    <tr style=\"text-align: right;\">\n",
       "      <th></th>\n",
       "      <th>Principal Place of Performance State Code</th>\n",
       "      <th>Is Vendor Business Type - Economically Disadvantaged Women Owned Small Business</th>\n",
       "      <th>Is Vendor Business Type - Women Owned Small Business</th>\n",
       "      <th>NAICS Code</th>\n",
       "      <th>NAICS Description</th>\n",
       "      <th>Base and All Options Value (Total Contract Value)</th>\n",
       "      <th>NAICS</th>\n",
       "      <th>Description of NAICS</th>\n",
       "      <th>Set-Aside</th>\n",
       "    </tr>\n",
       "  </thead>\n",
       "  <tbody>\n",
       "    <tr>\n",
       "      <th>0</th>\n",
       "      <td>AK</td>\n",
       "      <td>NO</td>\n",
       "      <td>NO</td>\n",
       "      <td>112519</td>\n",
       "      <td>OTHER AQUACULTURE (2007), OTHER ANIMAL AQUACUL...</td>\n",
       "      <td>15899.80</td>\n",
       "      <td>NaN</td>\n",
       "      <td>NaN</td>\n",
       "      <td>NaN</td>\n",
       "    </tr>\n",
       "    <tr>\n",
       "      <th>1</th>\n",
       "      <td>AK</td>\n",
       "      <td>NO</td>\n",
       "      <td>NO</td>\n",
       "      <td>114119</td>\n",
       "      <td>OTHER MARINE FISHING</td>\n",
       "      <td>15630.21</td>\n",
       "      <td>NaN</td>\n",
       "      <td>NaN</td>\n",
       "      <td>NaN</td>\n",
       "    </tr>\n",
       "    <tr>\n",
       "      <th>2</th>\n",
       "      <td>AK</td>\n",
       "      <td>NO</td>\n",
       "      <td>NO</td>\n",
       "      <td>115310</td>\n",
       "      <td>SUPPORT ACTIVITIES FOR FORESTRY</td>\n",
       "      <td>1218689.41</td>\n",
       "      <td>115310</td>\n",
       "      <td>Support Activities for Forestry</td>\n",
       "      <td>EDWOSB</td>\n",
       "    </tr>\n",
       "    <tr>\n",
       "      <th>3</th>\n",
       "      <td>AK</td>\n",
       "      <td>NO</td>\n",
       "      <td>NO</td>\n",
       "      <td>212112</td>\n",
       "      <td>BITUMINOUS COAL UNDERGROUND MINING</td>\n",
       "      <td>34976520.00</td>\n",
       "      <td>NaN</td>\n",
       "      <td>NaN</td>\n",
       "      <td>NaN</td>\n",
       "    </tr>\n",
       "    <tr>\n",
       "      <th>4</th>\n",
       "      <td>AK</td>\n",
       "      <td>NO</td>\n",
       "      <td>NO</td>\n",
       "      <td>212319</td>\n",
       "      <td>OTHER CRUSHED AND BROKEN STONE MINING AND QUAR...</td>\n",
       "      <td>1106156.20</td>\n",
       "      <td>212319</td>\n",
       "      <td>Other Crushed and Broken Stone Mining and Quar...</td>\n",
       "      <td>EDWOSB</td>\n",
       "    </tr>\n",
       "  </tbody>\n",
       "</table>\n",
       "</div>"
      ],
      "text/plain": [
       "  Principal Place of Performance State Code  \\\n",
       "0                                        AK   \n",
       "1                                        AK   \n",
       "2                                        AK   \n",
       "3                                        AK   \n",
       "4                                        AK   \n",
       "\n",
       "  Is Vendor Business Type - Economically Disadvantaged Women Owned Small Business  \\\n",
       "0                                                 NO                                \n",
       "1                                                 NO                                \n",
       "2                                                 NO                                \n",
       "3                                                 NO                                \n",
       "4                                                 NO                                \n",
       "\n",
       "  Is Vendor Business Type - Women Owned Small Business NAICS Code  \\\n",
       "0                                                 NO       112519   \n",
       "1                                                 NO       114119   \n",
       "2                                                 NO       115310   \n",
       "3                                                 NO       212112   \n",
       "4                                                 NO       212319   \n",
       "\n",
       "                                   NAICS Description  \\\n",
       "0  OTHER AQUACULTURE (2007), OTHER ANIMAL AQUACUL...   \n",
       "1                               OTHER MARINE FISHING   \n",
       "2                    SUPPORT ACTIVITIES FOR FORESTRY   \n",
       "3                 BITUMINOUS COAL UNDERGROUND MINING   \n",
       "4  OTHER CRUSHED AND BROKEN STONE MINING AND QUAR...   \n",
       "\n",
       "   Base and All Options Value (Total Contract Value)   NAICS  \\\n",
       "0                                           15899.80     NaN   \n",
       "1                                           15630.21     NaN   \n",
       "2                                         1218689.41  115310   \n",
       "3                                        34976520.00     NaN   \n",
       "4                                         1106156.20  212319   \n",
       "\n",
       "                                Description of NAICS Set-Aside  \n",
       "0                                                NaN       NaN  \n",
       "1                                                NaN       NaN  \n",
       "2                    Support Activities for Forestry    EDWOSB  \n",
       "3                                                NaN       NaN  \n",
       "4  Other Crushed and Broken Stone Mining and Quar...    EDWOSB  "
      ]
     },
     "execution_count": 24,
     "metadata": {},
     "output_type": "execute_result"
    }
   ],
   "source": [
    "# review original df\n",
    "df.head()"
   ]
  },
  {
   "cell_type": "code",
   "execution_count": 25,
   "id": "2df947b3",
   "metadata": {},
   "outputs": [
    {
     "data": {
      "text/html": [
       "<div>\n",
       "<style scoped>\n",
       "    .dataframe tbody tr th:only-of-type {\n",
       "        vertical-align: middle;\n",
       "    }\n",
       "\n",
       "    .dataframe tbody tr th {\n",
       "        vertical-align: top;\n",
       "    }\n",
       "\n",
       "    .dataframe thead th {\n",
       "        text-align: right;\n",
       "    }\n",
       "</style>\n",
       "<table border=\"1\" class=\"dataframe\">\n",
       "  <thead>\n",
       "    <tr style=\"text-align: right;\">\n",
       "      <th></th>\n",
       "      <th></th>\n",
       "      <th></th>\n",
       "      <th></th>\n",
       "      <th>Base and All Options Value (Total Contract Value)</th>\n",
       "    </tr>\n",
       "    <tr>\n",
       "      <th>NAICS</th>\n",
       "      <th>Description of NAICS</th>\n",
       "      <th>Set-Aside</th>\n",
       "      <th>Is Vendor Business Type - Women Owned Small Business</th>\n",
       "      <th></th>\n",
       "    </tr>\n",
       "  </thead>\n",
       "  <tbody>\n",
       "    <tr>\n",
       "      <th>111110</th>\n",
       "      <th>Soybean Farming</th>\n",
       "      <th>WOSB</th>\n",
       "      <th>NO</th>\n",
       "      <td>466323.61</td>\n",
       "    </tr>\n",
       "    <tr>\n",
       "      <th>111120</th>\n",
       "      <th>Oilseed (except Soybean) Farming</th>\n",
       "      <th>WOSB</th>\n",
       "      <th>NO</th>\n",
       "      <td>471797.00</td>\n",
       "    </tr>\n",
       "    <tr>\n",
       "      <th>111130</th>\n",
       "      <th>Dry Pea and Bean Farming</th>\n",
       "      <th>WOSB</th>\n",
       "      <th>NO</th>\n",
       "      <td>24978.87</td>\n",
       "    </tr>\n",
       "    <tr>\n",
       "      <th>111140</th>\n",
       "      <th>Wheat Farming</th>\n",
       "      <th>WOSB</th>\n",
       "      <th>NO</th>\n",
       "      <td>13070.34</td>\n",
       "    </tr>\n",
       "    <tr>\n",
       "      <th>111150</th>\n",
       "      <th>Corn Farming</th>\n",
       "      <th>WOSB</th>\n",
       "      <th>NO</th>\n",
       "      <td>774924.09</td>\n",
       "    </tr>\n",
       "    <tr>\n",
       "      <th>111199</th>\n",
       "      <th>All Other Grain Farming</th>\n",
       "      <th>WOSB</th>\n",
       "      <th>NO</th>\n",
       "      <td>148360.00</td>\n",
       "    </tr>\n",
       "    <tr>\n",
       "      <th>111419</th>\n",
       "      <th>Other Food Crops Grown Under Cover</th>\n",
       "      <th>EDWOSB</th>\n",
       "      <th>NO</th>\n",
       "      <td>54490.00</td>\n",
       "    </tr>\n",
       "    <tr>\n",
       "      <th rowspan=\"2\" valign=\"top\">111421</th>\n",
       "      <th rowspan=\"2\" valign=\"top\">Nursery and Tree Production</th>\n",
       "      <th rowspan=\"2\" valign=\"top\">EDWOSB</th>\n",
       "      <th>NO</th>\n",
       "      <td>2381513.55</td>\n",
       "    </tr>\n",
       "    <tr>\n",
       "      <th>YES</th>\n",
       "      <td>282861.00</td>\n",
       "    </tr>\n",
       "    <tr>\n",
       "      <th>111422</th>\n",
       "      <th>Floriculture Production</th>\n",
       "      <th>EDWOSB</th>\n",
       "      <th>NO</th>\n",
       "      <td>180982.07</td>\n",
       "    </tr>\n",
       "    <tr>\n",
       "      <th>111920</th>\n",
       "      <th>Cotton Farming</th>\n",
       "      <th>WOSB</th>\n",
       "      <th>NO</th>\n",
       "      <td>14516.99</td>\n",
       "    </tr>\n",
       "    <tr>\n",
       "      <th rowspan=\"2\" valign=\"top\">111940</th>\n",
       "      <th rowspan=\"2\" valign=\"top\">Hay Farming</th>\n",
       "      <th rowspan=\"2\" valign=\"top\">WOSB</th>\n",
       "      <th>NO</th>\n",
       "      <td>4349506.35</td>\n",
       "    </tr>\n",
       "    <tr>\n",
       "      <th>YES</th>\n",
       "      <td>2735650.80</td>\n",
       "    </tr>\n",
       "    <tr>\n",
       "      <th rowspan=\"2\" valign=\"top\">111991</th>\n",
       "      <th rowspan=\"2\" valign=\"top\">Sugar Beet Farming</th>\n",
       "      <th rowspan=\"2\" valign=\"top\">WOSB</th>\n",
       "      <th>NO</th>\n",
       "      <td>20829.20</td>\n",
       "    </tr>\n",
       "    <tr>\n",
       "      <th>YES</th>\n",
       "      <td>14160.00</td>\n",
       "    </tr>\n",
       "  </tbody>\n",
       "</table>\n",
       "</div>"
      ],
      "text/plain": [
       "                                                                                                        Base and All Options Value (Total Contract Value)\n",
       "NAICS  Description of NAICS               Set-Aside Is Vendor Business Type - Women Owned Small Bus...                                                   \n",
       "111110 Soybean Farming                    WOSB      NO                                                                                          466323.61\n",
       "111120 Oilseed (except Soybean) Farming   WOSB      NO                                                                                          471797.00\n",
       "111130 Dry Pea and Bean Farming           WOSB      NO                                                                                           24978.87\n",
       "111140 Wheat Farming                      WOSB      NO                                                                                           13070.34\n",
       "111150 Corn Farming                       WOSB      NO                                                                                          774924.09\n",
       "111199 All Other Grain Farming            WOSB      NO                                                                                          148360.00\n",
       "111419 Other Food Crops Grown Under Cover EDWOSB    NO                                                                                           54490.00\n",
       "111421 Nursery and Tree Production        EDWOSB    NO                                                                                         2381513.55\n",
       "                                                    YES                                                                                         282861.00\n",
       "111422 Floriculture Production            EDWOSB    NO                                                                                          180982.07\n",
       "111920 Cotton Farming                     WOSB      NO                                                                                           14516.99\n",
       "111940 Hay Farming                        WOSB      NO                                                                                         4349506.35\n",
       "                                                    YES                                                                                        2735650.80\n",
       "111991 Sugar Beet Farming                 WOSB      NO                                                                                           20829.20\n",
       "                                                    YES                                                                                          14160.00"
      ]
     },
     "execution_count": 25,
     "metadata": {},
     "output_type": "execute_result"
    }
   ],
   "source": [
    "# preserve original\n",
    "naics_wise_df = df.copy()\n",
    "\n",
    "#only concerned with WOSB NAICS's (drop non WOSB NAICS contracts)\n",
    "naics_wise_df.dropna(inplace = True)\n",
    "\n",
    "# group by the industry, whether the industry is WOSB set-aside, and whether the contractor is WOSB\n",
    "naics_explorer_df = naics_wise_df.groupby(['NAICS','Description of NAICS','Set-Aside','Is Vendor Business Type - Women Owned Small Business']).agg('sum')\n",
    "naics_explorer_df.head(15)"
   ]
  },
  {
   "cell_type": "code",
   "execution_count": 26,
   "id": "73665761",
   "metadata": {},
   "outputs": [],
   "source": [
    "# again round to millions for more reader comprehension\n",
    "naics_explorer_df['Base and All Options Value (Total Contract Value)'] = round(naics_explorer_df['Base and All Options Value (Total Contract Value)']/1000000,4)"
   ]
  },
  {
   "cell_type": "code",
   "execution_count": 27,
   "id": "8c3972af",
   "metadata": {
    "scrolled": true
   },
   "outputs": [
    {
     "data": {
      "text/html": [
       "<div>\n",
       "<style scoped>\n",
       "    .dataframe tbody tr th:only-of-type {\n",
       "        vertical-align: middle;\n",
       "    }\n",
       "\n",
       "    .dataframe tbody tr th {\n",
       "        vertical-align: top;\n",
       "    }\n",
       "\n",
       "    .dataframe thead th {\n",
       "        text-align: right;\n",
       "    }\n",
       "</style>\n",
       "<table border=\"1\" class=\"dataframe\">\n",
       "  <thead>\n",
       "    <tr style=\"text-align: right;\">\n",
       "      <th></th>\n",
       "      <th></th>\n",
       "      <th></th>\n",
       "      <th></th>\n",
       "      <th>Base and All Options Value (Total Contract Value)</th>\n",
       "    </tr>\n",
       "    <tr>\n",
       "      <th>NAICS</th>\n",
       "      <th>Description of NAICS</th>\n",
       "      <th>Set-Aside</th>\n",
       "      <th>Is Vendor Business Type - Women Owned Small Business</th>\n",
       "      <th></th>\n",
       "    </tr>\n",
       "  </thead>\n",
       "  <tbody>\n",
       "    <tr>\n",
       "      <th>111110</th>\n",
       "      <th>Soybean Farming</th>\n",
       "      <th>WOSB</th>\n",
       "      <th>NO</th>\n",
       "      <td>0.4663</td>\n",
       "    </tr>\n",
       "    <tr>\n",
       "      <th>111120</th>\n",
       "      <th>Oilseed (except Soybean) Farming</th>\n",
       "      <th>WOSB</th>\n",
       "      <th>NO</th>\n",
       "      <td>0.4718</td>\n",
       "    </tr>\n",
       "    <tr>\n",
       "      <th>111130</th>\n",
       "      <th>Dry Pea and Bean Farming</th>\n",
       "      <th>WOSB</th>\n",
       "      <th>NO</th>\n",
       "      <td>0.0250</td>\n",
       "    </tr>\n",
       "    <tr>\n",
       "      <th>111140</th>\n",
       "      <th>Wheat Farming</th>\n",
       "      <th>WOSB</th>\n",
       "      <th>NO</th>\n",
       "      <td>0.0131</td>\n",
       "    </tr>\n",
       "    <tr>\n",
       "      <th>111150</th>\n",
       "      <th>Corn Farming</th>\n",
       "      <th>WOSB</th>\n",
       "      <th>NO</th>\n",
       "      <td>0.7749</td>\n",
       "    </tr>\n",
       "    <tr>\n",
       "      <th>111199</th>\n",
       "      <th>All Other Grain Farming</th>\n",
       "      <th>WOSB</th>\n",
       "      <th>NO</th>\n",
       "      <td>0.1484</td>\n",
       "    </tr>\n",
       "    <tr>\n",
       "      <th>111419</th>\n",
       "      <th>Other Food Crops Grown Under Cover</th>\n",
       "      <th>EDWOSB</th>\n",
       "      <th>NO</th>\n",
       "      <td>0.0545</td>\n",
       "    </tr>\n",
       "    <tr>\n",
       "      <th rowspan=\"2\" valign=\"top\">111421</th>\n",
       "      <th rowspan=\"2\" valign=\"top\">Nursery and Tree Production</th>\n",
       "      <th rowspan=\"2\" valign=\"top\">EDWOSB</th>\n",
       "      <th>NO</th>\n",
       "      <td>2.3815</td>\n",
       "    </tr>\n",
       "    <tr>\n",
       "      <th>YES</th>\n",
       "      <td>0.2829</td>\n",
       "    </tr>\n",
       "    <tr>\n",
       "      <th>111422</th>\n",
       "      <th>Floriculture Production</th>\n",
       "      <th>EDWOSB</th>\n",
       "      <th>NO</th>\n",
       "      <td>0.1810</td>\n",
       "    </tr>\n",
       "    <tr>\n",
       "      <th>111920</th>\n",
       "      <th>Cotton Farming</th>\n",
       "      <th>WOSB</th>\n",
       "      <th>NO</th>\n",
       "      <td>0.0145</td>\n",
       "    </tr>\n",
       "    <tr>\n",
       "      <th rowspan=\"2\" valign=\"top\">111940</th>\n",
       "      <th rowspan=\"2\" valign=\"top\">Hay Farming</th>\n",
       "      <th rowspan=\"2\" valign=\"top\">WOSB</th>\n",
       "      <th>NO</th>\n",
       "      <td>4.3495</td>\n",
       "    </tr>\n",
       "    <tr>\n",
       "      <th>YES</th>\n",
       "      <td>2.7357</td>\n",
       "    </tr>\n",
       "    <tr>\n",
       "      <th rowspan=\"2\" valign=\"top\">111991</th>\n",
       "      <th rowspan=\"2\" valign=\"top\">Sugar Beet Farming</th>\n",
       "      <th rowspan=\"2\" valign=\"top\">WOSB</th>\n",
       "      <th>NO</th>\n",
       "      <td>0.0208</td>\n",
       "    </tr>\n",
       "    <tr>\n",
       "      <th>YES</th>\n",
       "      <td>0.0142</td>\n",
       "    </tr>\n",
       "    <tr>\n",
       "      <th>111998</th>\n",
       "      <th>All Other Miscellaneous Crop Farming</th>\n",
       "      <th>WOSB</th>\n",
       "      <th>NO</th>\n",
       "      <td>3.6859</td>\n",
       "    </tr>\n",
       "    <tr>\n",
       "      <th rowspan=\"2\" valign=\"top\">112210</th>\n",
       "      <th rowspan=\"2\" valign=\"top\">Hog and Pig Farming</th>\n",
       "      <th rowspan=\"2\" valign=\"top\">WOSB</th>\n",
       "      <th>NO</th>\n",
       "      <td>0.4741</td>\n",
       "    </tr>\n",
       "    <tr>\n",
       "      <th>YES</th>\n",
       "      <td>0.0200</td>\n",
       "    </tr>\n",
       "    <tr>\n",
       "      <th rowspan=\"2\" valign=\"top\">112310</th>\n",
       "      <th rowspan=\"2\" valign=\"top\">Chicken Egg Production</th>\n",
       "      <th rowspan=\"2\" valign=\"top\">EDWOSB</th>\n",
       "      <th>NO</th>\n",
       "      <td>1.0947</td>\n",
       "    </tr>\n",
       "    <tr>\n",
       "      <th>YES</th>\n",
       "      <td>0.1039</td>\n",
       "    </tr>\n",
       "    <tr>\n",
       "      <th>112320</th>\n",
       "      <th>Broilers and Other Meat Type Chicken Production</th>\n",
       "      <th>EDWOSB</th>\n",
       "      <th>NO</th>\n",
       "      <td>0.0425</td>\n",
       "    </tr>\n",
       "    <tr>\n",
       "      <th>112340</th>\n",
       "      <th>Poultry Hatcheries</th>\n",
       "      <th>EDWOSB</th>\n",
       "      <th>NO</th>\n",
       "      <td>0.0208</td>\n",
       "    </tr>\n",
       "    <tr>\n",
       "      <th>112910</th>\n",
       "      <th>Apiculture</th>\n",
       "      <th>WOSB</th>\n",
       "      <th>NO</th>\n",
       "      <td>0.2690</td>\n",
       "    </tr>\n",
       "    <tr>\n",
       "      <th rowspan=\"2\" valign=\"top\">112920</th>\n",
       "      <th rowspan=\"2\" valign=\"top\">Horses and Other Equine Production</th>\n",
       "      <th rowspan=\"2\" valign=\"top\">WOSB</th>\n",
       "      <th>NO</th>\n",
       "      <td>0.2912</td>\n",
       "    </tr>\n",
       "    <tr>\n",
       "      <th>YES</th>\n",
       "      <td>0.0952</td>\n",
       "    </tr>\n",
       "    <tr>\n",
       "      <th>112930</th>\n",
       "      <th>Fur-Bearing Animal and Rabbit Production</th>\n",
       "      <th>WOSB</th>\n",
       "      <th>NO</th>\n",
       "      <td>0.2278</td>\n",
       "    </tr>\n",
       "    <tr>\n",
       "      <th rowspan=\"2\" valign=\"top\">112990</th>\n",
       "      <th rowspan=\"2\" valign=\"top\">All Other Animal Production</th>\n",
       "      <th rowspan=\"2\" valign=\"top\">WOSB</th>\n",
       "      <th>NO</th>\n",
       "      <td>42.1063</td>\n",
       "    </tr>\n",
       "    <tr>\n",
       "      <th>YES</th>\n",
       "      <td>0.5043</td>\n",
       "    </tr>\n",
       "    <tr>\n",
       "      <th rowspan=\"2\" valign=\"top\">113210</th>\n",
       "      <th rowspan=\"2\" valign=\"top\">Forest Nurseries and Gathering of Forest Products</th>\n",
       "      <th rowspan=\"2\" valign=\"top\">WOSB</th>\n",
       "      <th>NO</th>\n",
       "      <td>20.1183</td>\n",
       "    </tr>\n",
       "    <tr>\n",
       "      <th>YES</th>\n",
       "      <td>0.1109</td>\n",
       "    </tr>\n",
       "    <tr>\n",
       "      <th rowspan=\"2\" valign=\"top\">114210</th>\n",
       "      <th rowspan=\"2\" valign=\"top\">Hunting and Trapping</th>\n",
       "      <th rowspan=\"2\" valign=\"top\">WOSB</th>\n",
       "      <th>NO</th>\n",
       "      <td>0.8966</td>\n",
       "    </tr>\n",
       "    <tr>\n",
       "      <th>YES</th>\n",
       "      <td>0.3378</td>\n",
       "    </tr>\n",
       "    <tr>\n",
       "      <th>115111</th>\n",
       "      <th>Cotton Ginning</th>\n",
       "      <th>WOSB</th>\n",
       "      <th>NO</th>\n",
       "      <td>0.0166</td>\n",
       "    </tr>\n",
       "    <tr>\n",
       "      <th rowspan=\"2\" valign=\"top\">115112</th>\n",
       "      <th rowspan=\"2\" valign=\"top\">Soil Preparation, Planting, and Cultivating</th>\n",
       "      <th rowspan=\"2\" valign=\"top\">WOSB</th>\n",
       "      <th>NO</th>\n",
       "      <td>17.8203</td>\n",
       "    </tr>\n",
       "    <tr>\n",
       "      <th>YES</th>\n",
       "      <td>1.1572</td>\n",
       "    </tr>\n",
       "    <tr>\n",
       "      <th>115113</th>\n",
       "      <th>Crop Harvesting, Primarily by Machine</th>\n",
       "      <th>WOSB</th>\n",
       "      <th>NO</th>\n",
       "      <td>0.2547</td>\n",
       "    </tr>\n",
       "    <tr>\n",
       "      <th>115115</th>\n",
       "      <th>Farm Labor Contractors and Crew Leaders</th>\n",
       "      <th>WOSB</th>\n",
       "      <th>NO</th>\n",
       "      <td>0.1447</td>\n",
       "    </tr>\n",
       "    <tr>\n",
       "      <th rowspan=\"2\" valign=\"top\">115210</th>\n",
       "      <th rowspan=\"2\" valign=\"top\">Support Activities for Animal Production</th>\n",
       "      <th rowspan=\"2\" valign=\"top\">WOSB</th>\n",
       "      <th>NO</th>\n",
       "      <td>71.8844</td>\n",
       "    </tr>\n",
       "    <tr>\n",
       "      <th>YES</th>\n",
       "      <td>3.8597</td>\n",
       "    </tr>\n",
       "    <tr>\n",
       "      <th rowspan=\"2\" valign=\"top\">115310</th>\n",
       "      <th rowspan=\"2\" valign=\"top\">Support Activities for Forestry</th>\n",
       "      <th rowspan=\"2\" valign=\"top\">EDWOSB</th>\n",
       "      <th>NO</th>\n",
       "      <td>696.3337</td>\n",
       "    </tr>\n",
       "    <tr>\n",
       "      <th>YES</th>\n",
       "      <td>72.8665</td>\n",
       "    </tr>\n",
       "    <tr>\n",
       "      <th rowspan=\"2\" valign=\"top\">211120</th>\n",
       "      <th rowspan=\"2\" valign=\"top\">Crude Petroleum Extraction</th>\n",
       "      <th rowspan=\"2\" valign=\"top\">WOSB</th>\n",
       "      <th>NO</th>\n",
       "      <td>0.5164</td>\n",
       "    </tr>\n",
       "    <tr>\n",
       "      <th>YES</th>\n",
       "      <td>0.0535</td>\n",
       "    </tr>\n",
       "    <tr>\n",
       "      <th rowspan=\"2\" valign=\"top\">211130</th>\n",
       "      <th rowspan=\"2\" valign=\"top\">Natural Gas Extraction</th>\n",
       "      <th rowspan=\"2\" valign=\"top\">WOSB</th>\n",
       "      <th>NO</th>\n",
       "      <td>28.4319</td>\n",
       "    </tr>\n",
       "    <tr>\n",
       "      <th>YES</th>\n",
       "      <td>6.5264</td>\n",
       "    </tr>\n",
       "    <tr>\n",
       "      <th rowspan=\"2\" valign=\"top\">212311</th>\n",
       "      <th rowspan=\"2\" valign=\"top\">Dimension Stone Mining and Quarrying</th>\n",
       "      <th rowspan=\"2\" valign=\"top\">EDWOSB</th>\n",
       "      <th>NO</th>\n",
       "      <td>0.6556</td>\n",
       "    </tr>\n",
       "    <tr>\n",
       "      <th>YES</th>\n",
       "      <td>0.1526</td>\n",
       "    </tr>\n",
       "    <tr>\n",
       "      <th rowspan=\"2\" valign=\"top\">212312</th>\n",
       "      <th rowspan=\"2\" valign=\"top\">Crushed and Broken Limestone Mining and Quarrying</th>\n",
       "      <th rowspan=\"2\" valign=\"top\">EDWOSB</th>\n",
       "      <th>NO</th>\n",
       "      <td>11.0336</td>\n",
       "    </tr>\n",
       "    <tr>\n",
       "      <th>YES</th>\n",
       "      <td>0.8846</td>\n",
       "    </tr>\n",
       "    <tr>\n",
       "      <th>212313</th>\n",
       "      <th>Crushed and Broken Granite Mining and Quarrying</th>\n",
       "      <th>EDWOSB</th>\n",
       "      <th>NO</th>\n",
       "      <td>0.2729</td>\n",
       "    </tr>\n",
       "  </tbody>\n",
       "</table>\n",
       "</div>"
      ],
      "text/plain": [
       "                                                                                                                       Base and All Options Value (Total Contract Value)\n",
       "NAICS  Description of NAICS                              Set-Aside Is Vendor Business Type - Women Owned Small Bus...                                                   \n",
       "111110 Soybean Farming                                   WOSB      NO                                                                                             0.4663\n",
       "111120 Oilseed (except Soybean) Farming                  WOSB      NO                                                                                             0.4718\n",
       "111130 Dry Pea and Bean Farming                          WOSB      NO                                                                                             0.0250\n",
       "111140 Wheat Farming                                     WOSB      NO                                                                                             0.0131\n",
       "111150 Corn Farming                                      WOSB      NO                                                                                             0.7749\n",
       "111199 All Other Grain Farming                           WOSB      NO                                                                                             0.1484\n",
       "111419 Other Food Crops Grown Under Cover                EDWOSB    NO                                                                                             0.0545\n",
       "111421 Nursery and Tree Production                       EDWOSB    NO                                                                                             2.3815\n",
       "                                                                   YES                                                                                            0.2829\n",
       "111422 Floriculture Production                           EDWOSB    NO                                                                                             0.1810\n",
       "111920 Cotton Farming                                    WOSB      NO                                                                                             0.0145\n",
       "111940 Hay Farming                                       WOSB      NO                                                                                             4.3495\n",
       "                                                                   YES                                                                                            2.7357\n",
       "111991 Sugar Beet Farming                                WOSB      NO                                                                                             0.0208\n",
       "                                                                   YES                                                                                            0.0142\n",
       "111998 All Other Miscellaneous Crop Farming              WOSB      NO                                                                                             3.6859\n",
       "112210 Hog and Pig Farming                               WOSB      NO                                                                                             0.4741\n",
       "                                                                   YES                                                                                            0.0200\n",
       "112310 Chicken Egg Production                            EDWOSB    NO                                                                                             1.0947\n",
       "                                                                   YES                                                                                            0.1039\n",
       "112320 Broilers and Other Meat Type Chicken Production   EDWOSB    NO                                                                                             0.0425\n",
       "112340 Poultry Hatcheries                                EDWOSB    NO                                                                                             0.0208\n",
       "112910 Apiculture                                        WOSB      NO                                                                                             0.2690\n",
       "112920 Horses and Other Equine Production                WOSB      NO                                                                                             0.2912\n",
       "                                                                   YES                                                                                            0.0952\n",
       "112930 Fur-Bearing Animal and Rabbit Production          WOSB      NO                                                                                             0.2278\n",
       "112990 All Other Animal Production                       WOSB      NO                                                                                            42.1063\n",
       "                                                                   YES                                                                                            0.5043\n",
       "113210 Forest Nurseries and Gathering of Forest Products WOSB      NO                                                                                            20.1183\n",
       "                                                                   YES                                                                                            0.1109\n",
       "114210 Hunting and Trapping                              WOSB      NO                                                                                             0.8966\n",
       "                                                                   YES                                                                                            0.3378\n",
       "115111 Cotton Ginning                                    WOSB      NO                                                                                             0.0166\n",
       "115112 Soil Preparation, Planting, and Cultivating       WOSB      NO                                                                                            17.8203\n",
       "                                                                   YES                                                                                            1.1572\n",
       "115113 Crop Harvesting, Primarily by Machine             WOSB      NO                                                                                             0.2547\n",
       "115115 Farm Labor Contractors and Crew Leaders           WOSB      NO                                                                                             0.1447\n",
       "115210 Support Activities for Animal Production          WOSB      NO                                                                                            71.8844\n",
       "                                                                   YES                                                                                            3.8597\n",
       "115310 Support Activities for Forestry                   EDWOSB    NO                                                                                           696.3337\n",
       "                                                                   YES                                                                                           72.8665\n",
       "211120 Crude Petroleum Extraction                        WOSB      NO                                                                                             0.5164\n",
       "                                                                   YES                                                                                            0.0535\n",
       "211130 Natural Gas Extraction                            WOSB      NO                                                                                            28.4319\n",
       "                                                                   YES                                                                                            6.5264\n",
       "212311 Dimension Stone Mining and Quarrying              EDWOSB    NO                                                                                             0.6556\n",
       "                                                                   YES                                                                                            0.1526\n",
       "212312 Crushed and Broken Limestone Mining and Quarrying EDWOSB    NO                                                                                            11.0336\n",
       "                                                                   YES                                                                                            0.8846\n",
       "212313 Crushed and Broken Granite Mining and Quarrying   EDWOSB    NO                                                                                             0.2729"
      ]
     },
     "execution_count": 27,
     "metadata": {},
     "output_type": "execute_result"
    }
   ],
   "source": [
    "# now contract value unit is in millions of dollars. WOSB with YES and NO have \n",
    "naics_explorer_df.head(50)"
   ]
  },
  {
   "cell_type": "markdown",
   "id": "c9a2b88a",
   "metadata": {},
   "source": [
    "For each WOSB set-aside NAICS, this displays the reality of how these contracts were fulfilled (by WOSB or non-WOSB). "
   ]
  },
  {
   "cell_type": "code",
   "execution_count": 28,
   "id": "2783804d",
   "metadata": {
    "scrolled": true
   },
   "outputs": [],
   "source": [
    "# reset index to easily gain access to grouped data\n",
    "naics_explorer_df.reset_index(inplace = True)"
   ]
  },
  {
   "cell_type": "markdown",
   "id": "4c73719e",
   "metadata": {},
   "source": [
    "If there is only `NO` entries, then no WOSB fulfilled contracts within the industry, despite these being set asides. This is a problem, and less than ideal. "
   ]
  },
  {
   "cell_type": "code",
   "execution_count": 29,
   "id": "277cd6f4",
   "metadata": {
    "scrolled": true
   },
   "outputs": [],
   "source": [
    "# obtain appearances for each NAICS id (if value count is two, then YES and NO appear, else then only NO)\n",
    "yes_or_no_naics = naics_explorer_df['Description of NAICS'].value_counts()\n",
    "\n",
    "one = len(yes_or_no_naics[yes_or_no_naics.values == 1])\n",
    "two = len(yes_or_no_naics[yes_or_no_naics.values != 1])\n",
    "\n",
    "counts=[one,two]\n",
    "names = ['NAICS w/o WOSB Contractors','NAICS with WOSB Contractors']"
   ]
  },
  {
   "cell_type": "code",
   "execution_count": 30,
   "id": "65234959",
   "metadata": {},
   "outputs": [
    {
     "data": {
      "application/vnd.plotly.v1+json": {
       "config": {
        "plotlyServerURL": "https://plot.ly"
       },
       "data": [
        {
         "domain": {
          "x": [
           0,
           1
          ],
          "y": [
           0,
           1
          ]
         },
         "hovertemplate": "label=%{label}<br>value=%{value}<extra></extra>",
         "labels": [
          "NAICS w/o WOSB Contractors",
          "NAICS with WOSB Contractors"
         ],
         "legendgroup": "",
         "name": "",
         "showlegend": true,
         "type": "pie",
         "values": [
          114,
          613
         ]
        }
       ],
       "layout": {
        "legend": {
         "tracegroupgap": 0
        },
        "template": {
         "data": {
          "bar": [
           {
            "error_x": {
             "color": "#2a3f5f"
            },
            "error_y": {
             "color": "#2a3f5f"
            },
            "marker": {
             "line": {
              "color": "#E5ECF6",
              "width": 0.5
             },
             "pattern": {
              "fillmode": "overlay",
              "size": 10,
              "solidity": 0.2
             }
            },
            "type": "bar"
           }
          ],
          "barpolar": [
           {
            "marker": {
             "line": {
              "color": "#E5ECF6",
              "width": 0.5
             },
             "pattern": {
              "fillmode": "overlay",
              "size": 10,
              "solidity": 0.2
             }
            },
            "type": "barpolar"
           }
          ],
          "carpet": [
           {
            "aaxis": {
             "endlinecolor": "#2a3f5f",
             "gridcolor": "white",
             "linecolor": "white",
             "minorgridcolor": "white",
             "startlinecolor": "#2a3f5f"
            },
            "baxis": {
             "endlinecolor": "#2a3f5f",
             "gridcolor": "white",
             "linecolor": "white",
             "minorgridcolor": "white",
             "startlinecolor": "#2a3f5f"
            },
            "type": "carpet"
           }
          ],
          "choropleth": [
           {
            "colorbar": {
             "outlinewidth": 0,
             "ticks": ""
            },
            "type": "choropleth"
           }
          ],
          "contour": [
           {
            "colorbar": {
             "outlinewidth": 0,
             "ticks": ""
            },
            "colorscale": [
             [
              0,
              "#0d0887"
             ],
             [
              0.1111111111111111,
              "#46039f"
             ],
             [
              0.2222222222222222,
              "#7201a8"
             ],
             [
              0.3333333333333333,
              "#9c179e"
             ],
             [
              0.4444444444444444,
              "#bd3786"
             ],
             [
              0.5555555555555556,
              "#d8576b"
             ],
             [
              0.6666666666666666,
              "#ed7953"
             ],
             [
              0.7777777777777778,
              "#fb9f3a"
             ],
             [
              0.8888888888888888,
              "#fdca26"
             ],
             [
              1,
              "#f0f921"
             ]
            ],
            "type": "contour"
           }
          ],
          "contourcarpet": [
           {
            "colorbar": {
             "outlinewidth": 0,
             "ticks": ""
            },
            "type": "contourcarpet"
           }
          ],
          "heatmap": [
           {
            "colorbar": {
             "outlinewidth": 0,
             "ticks": ""
            },
            "colorscale": [
             [
              0,
              "#0d0887"
             ],
             [
              0.1111111111111111,
              "#46039f"
             ],
             [
              0.2222222222222222,
              "#7201a8"
             ],
             [
              0.3333333333333333,
              "#9c179e"
             ],
             [
              0.4444444444444444,
              "#bd3786"
             ],
             [
              0.5555555555555556,
              "#d8576b"
             ],
             [
              0.6666666666666666,
              "#ed7953"
             ],
             [
              0.7777777777777778,
              "#fb9f3a"
             ],
             [
              0.8888888888888888,
              "#fdca26"
             ],
             [
              1,
              "#f0f921"
             ]
            ],
            "type": "heatmap"
           }
          ],
          "heatmapgl": [
           {
            "colorbar": {
             "outlinewidth": 0,
             "ticks": ""
            },
            "colorscale": [
             [
              0,
              "#0d0887"
             ],
             [
              0.1111111111111111,
              "#46039f"
             ],
             [
              0.2222222222222222,
              "#7201a8"
             ],
             [
              0.3333333333333333,
              "#9c179e"
             ],
             [
              0.4444444444444444,
              "#bd3786"
             ],
             [
              0.5555555555555556,
              "#d8576b"
             ],
             [
              0.6666666666666666,
              "#ed7953"
             ],
             [
              0.7777777777777778,
              "#fb9f3a"
             ],
             [
              0.8888888888888888,
              "#fdca26"
             ],
             [
              1,
              "#f0f921"
             ]
            ],
            "type": "heatmapgl"
           }
          ],
          "histogram": [
           {
            "marker": {
             "pattern": {
              "fillmode": "overlay",
              "size": 10,
              "solidity": 0.2
             }
            },
            "type": "histogram"
           }
          ],
          "histogram2d": [
           {
            "colorbar": {
             "outlinewidth": 0,
             "ticks": ""
            },
            "colorscale": [
             [
              0,
              "#0d0887"
             ],
             [
              0.1111111111111111,
              "#46039f"
             ],
             [
              0.2222222222222222,
              "#7201a8"
             ],
             [
              0.3333333333333333,
              "#9c179e"
             ],
             [
              0.4444444444444444,
              "#bd3786"
             ],
             [
              0.5555555555555556,
              "#d8576b"
             ],
             [
              0.6666666666666666,
              "#ed7953"
             ],
             [
              0.7777777777777778,
              "#fb9f3a"
             ],
             [
              0.8888888888888888,
              "#fdca26"
             ],
             [
              1,
              "#f0f921"
             ]
            ],
            "type": "histogram2d"
           }
          ],
          "histogram2dcontour": [
           {
            "colorbar": {
             "outlinewidth": 0,
             "ticks": ""
            },
            "colorscale": [
             [
              0,
              "#0d0887"
             ],
             [
              0.1111111111111111,
              "#46039f"
             ],
             [
              0.2222222222222222,
              "#7201a8"
             ],
             [
              0.3333333333333333,
              "#9c179e"
             ],
             [
              0.4444444444444444,
              "#bd3786"
             ],
             [
              0.5555555555555556,
              "#d8576b"
             ],
             [
              0.6666666666666666,
              "#ed7953"
             ],
             [
              0.7777777777777778,
              "#fb9f3a"
             ],
             [
              0.8888888888888888,
              "#fdca26"
             ],
             [
              1,
              "#f0f921"
             ]
            ],
            "type": "histogram2dcontour"
           }
          ],
          "mesh3d": [
           {
            "colorbar": {
             "outlinewidth": 0,
             "ticks": ""
            },
            "type": "mesh3d"
           }
          ],
          "parcoords": [
           {
            "line": {
             "colorbar": {
              "outlinewidth": 0,
              "ticks": ""
             }
            },
            "type": "parcoords"
           }
          ],
          "pie": [
           {
            "automargin": true,
            "type": "pie"
           }
          ],
          "scatter": [
           {
            "fillpattern": {
             "fillmode": "overlay",
             "size": 10,
             "solidity": 0.2
            },
            "type": "scatter"
           }
          ],
          "scatter3d": [
           {
            "line": {
             "colorbar": {
              "outlinewidth": 0,
              "ticks": ""
             }
            },
            "marker": {
             "colorbar": {
              "outlinewidth": 0,
              "ticks": ""
             }
            },
            "type": "scatter3d"
           }
          ],
          "scattercarpet": [
           {
            "marker": {
             "colorbar": {
              "outlinewidth": 0,
              "ticks": ""
             }
            },
            "type": "scattercarpet"
           }
          ],
          "scattergeo": [
           {
            "marker": {
             "colorbar": {
              "outlinewidth": 0,
              "ticks": ""
             }
            },
            "type": "scattergeo"
           }
          ],
          "scattergl": [
           {
            "marker": {
             "colorbar": {
              "outlinewidth": 0,
              "ticks": ""
             }
            },
            "type": "scattergl"
           }
          ],
          "scattermapbox": [
           {
            "marker": {
             "colorbar": {
              "outlinewidth": 0,
              "ticks": ""
             }
            },
            "type": "scattermapbox"
           }
          ],
          "scatterpolar": [
           {
            "marker": {
             "colorbar": {
              "outlinewidth": 0,
              "ticks": ""
             }
            },
            "type": "scatterpolar"
           }
          ],
          "scatterpolargl": [
           {
            "marker": {
             "colorbar": {
              "outlinewidth": 0,
              "ticks": ""
             }
            },
            "type": "scatterpolargl"
           }
          ],
          "scatterternary": [
           {
            "marker": {
             "colorbar": {
              "outlinewidth": 0,
              "ticks": ""
             }
            },
            "type": "scatterternary"
           }
          ],
          "surface": [
           {
            "colorbar": {
             "outlinewidth": 0,
             "ticks": ""
            },
            "colorscale": [
             [
              0,
              "#0d0887"
             ],
             [
              0.1111111111111111,
              "#46039f"
             ],
             [
              0.2222222222222222,
              "#7201a8"
             ],
             [
              0.3333333333333333,
              "#9c179e"
             ],
             [
              0.4444444444444444,
              "#bd3786"
             ],
             [
              0.5555555555555556,
              "#d8576b"
             ],
             [
              0.6666666666666666,
              "#ed7953"
             ],
             [
              0.7777777777777778,
              "#fb9f3a"
             ],
             [
              0.8888888888888888,
              "#fdca26"
             ],
             [
              1,
              "#f0f921"
             ]
            ],
            "type": "surface"
           }
          ],
          "table": [
           {
            "cells": {
             "fill": {
              "color": "#EBF0F8"
             },
             "line": {
              "color": "white"
             }
            },
            "header": {
             "fill": {
              "color": "#C8D4E3"
             },
             "line": {
              "color": "white"
             }
            },
            "type": "table"
           }
          ]
         },
         "layout": {
          "annotationdefaults": {
           "arrowcolor": "#2a3f5f",
           "arrowhead": 0,
           "arrowwidth": 1
          },
          "autotypenumbers": "strict",
          "coloraxis": {
           "colorbar": {
            "outlinewidth": 0,
            "ticks": ""
           }
          },
          "colorscale": {
           "diverging": [
            [
             0,
             "#8e0152"
            ],
            [
             0.1,
             "#c51b7d"
            ],
            [
             0.2,
             "#de77ae"
            ],
            [
             0.3,
             "#f1b6da"
            ],
            [
             0.4,
             "#fde0ef"
            ],
            [
             0.5,
             "#f7f7f7"
            ],
            [
             0.6,
             "#e6f5d0"
            ],
            [
             0.7,
             "#b8e186"
            ],
            [
             0.8,
             "#7fbc41"
            ],
            [
             0.9,
             "#4d9221"
            ],
            [
             1,
             "#276419"
            ]
           ],
           "sequential": [
            [
             0,
             "#0d0887"
            ],
            [
             0.1111111111111111,
             "#46039f"
            ],
            [
             0.2222222222222222,
             "#7201a8"
            ],
            [
             0.3333333333333333,
             "#9c179e"
            ],
            [
             0.4444444444444444,
             "#bd3786"
            ],
            [
             0.5555555555555556,
             "#d8576b"
            ],
            [
             0.6666666666666666,
             "#ed7953"
            ],
            [
             0.7777777777777778,
             "#fb9f3a"
            ],
            [
             0.8888888888888888,
             "#fdca26"
            ],
            [
             1,
             "#f0f921"
            ]
           ],
           "sequentialminus": [
            [
             0,
             "#0d0887"
            ],
            [
             0.1111111111111111,
             "#46039f"
            ],
            [
             0.2222222222222222,
             "#7201a8"
            ],
            [
             0.3333333333333333,
             "#9c179e"
            ],
            [
             0.4444444444444444,
             "#bd3786"
            ],
            [
             0.5555555555555556,
             "#d8576b"
            ],
            [
             0.6666666666666666,
             "#ed7953"
            ],
            [
             0.7777777777777778,
             "#fb9f3a"
            ],
            [
             0.8888888888888888,
             "#fdca26"
            ],
            [
             1,
             "#f0f921"
            ]
           ]
          },
          "colorway": [
           "#636efa",
           "#EF553B",
           "#00cc96",
           "#ab63fa",
           "#FFA15A",
           "#19d3f3",
           "#FF6692",
           "#B6E880",
           "#FF97FF",
           "#FECB52"
          ],
          "font": {
           "color": "#2a3f5f"
          },
          "geo": {
           "bgcolor": "white",
           "lakecolor": "white",
           "landcolor": "#E5ECF6",
           "showlakes": true,
           "showland": true,
           "subunitcolor": "white"
          },
          "hoverlabel": {
           "align": "left"
          },
          "hovermode": "closest",
          "mapbox": {
           "style": "light"
          },
          "paper_bgcolor": "white",
          "plot_bgcolor": "#E5ECF6",
          "polar": {
           "angularaxis": {
            "gridcolor": "white",
            "linecolor": "white",
            "ticks": ""
           },
           "bgcolor": "#E5ECF6",
           "radialaxis": {
            "gridcolor": "white",
            "linecolor": "white",
            "ticks": ""
           }
          },
          "scene": {
           "xaxis": {
            "backgroundcolor": "#E5ECF6",
            "gridcolor": "white",
            "gridwidth": 2,
            "linecolor": "white",
            "showbackground": true,
            "ticks": "",
            "zerolinecolor": "white"
           },
           "yaxis": {
            "backgroundcolor": "#E5ECF6",
            "gridcolor": "white",
            "gridwidth": 2,
            "linecolor": "white",
            "showbackground": true,
            "ticks": "",
            "zerolinecolor": "white"
           },
           "zaxis": {
            "backgroundcolor": "#E5ECF6",
            "gridcolor": "white",
            "gridwidth": 2,
            "linecolor": "white",
            "showbackground": true,
            "ticks": "",
            "zerolinecolor": "white"
           }
          },
          "shapedefaults": {
           "line": {
            "color": "#2a3f5f"
           }
          },
          "ternary": {
           "aaxis": {
            "gridcolor": "white",
            "linecolor": "white",
            "ticks": ""
           },
           "baxis": {
            "gridcolor": "white",
            "linecolor": "white",
            "ticks": ""
           },
           "bgcolor": "#E5ECF6",
           "caxis": {
            "gridcolor": "white",
            "linecolor": "white",
            "ticks": ""
           }
          },
          "title": {
           "x": 0.05
          },
          "xaxis": {
           "automargin": true,
           "gridcolor": "white",
           "linecolor": "white",
           "ticks": "",
           "title": {
            "standoff": 15
           },
           "zerolinecolor": "white",
           "zerolinewidth": 2
          },
          "yaxis": {
           "automargin": true,
           "gridcolor": "white",
           "linecolor": "white",
           "ticks": "",
           "title": {
            "standoff": 15
           },
           "zerolinecolor": "white",
           "zerolinewidth": 2
          }
         }
        },
        "title": {
         "text": "Contract Status Amongst WOSB Set-Aside NAICS"
        }
       }
      },
      "text/html": [
       "<div>                            <div id=\"e4d81fa2-17fb-494c-9deb-dc25e6e58188\" class=\"plotly-graph-div\" style=\"height:525px; width:100%;\"></div>            <script type=\"text/javascript\">                require([\"plotly\"], function(Plotly) {                    window.PLOTLYENV=window.PLOTLYENV || {};                                    if (document.getElementById(\"e4d81fa2-17fb-494c-9deb-dc25e6e58188\")) {                    Plotly.newPlot(                        \"e4d81fa2-17fb-494c-9deb-dc25e6e58188\",                        [{\"domain\":{\"x\":[0.0,1.0],\"y\":[0.0,1.0]},\"hovertemplate\":\"label=%{label}<br>value=%{value}<extra></extra>\",\"labels\":[\"NAICS w/o WOSB Contractors\",\"NAICS with WOSB Contractors\"],\"legendgroup\":\"\",\"name\":\"\",\"showlegend\":true,\"values\":[114,613],\"type\":\"pie\"}],                        {\"template\":{\"data\":{\"histogram2dcontour\":[{\"type\":\"histogram2dcontour\",\"colorbar\":{\"outlinewidth\":0,\"ticks\":\"\"},\"colorscale\":[[0.0,\"#0d0887\"],[0.1111111111111111,\"#46039f\"],[0.2222222222222222,\"#7201a8\"],[0.3333333333333333,\"#9c179e\"],[0.4444444444444444,\"#bd3786\"],[0.5555555555555556,\"#d8576b\"],[0.6666666666666666,\"#ed7953\"],[0.7777777777777778,\"#fb9f3a\"],[0.8888888888888888,\"#fdca26\"],[1.0,\"#f0f921\"]]}],\"choropleth\":[{\"type\":\"choropleth\",\"colorbar\":{\"outlinewidth\":0,\"ticks\":\"\"}}],\"histogram2d\":[{\"type\":\"histogram2d\",\"colorbar\":{\"outlinewidth\":0,\"ticks\":\"\"},\"colorscale\":[[0.0,\"#0d0887\"],[0.1111111111111111,\"#46039f\"],[0.2222222222222222,\"#7201a8\"],[0.3333333333333333,\"#9c179e\"],[0.4444444444444444,\"#bd3786\"],[0.5555555555555556,\"#d8576b\"],[0.6666666666666666,\"#ed7953\"],[0.7777777777777778,\"#fb9f3a\"],[0.8888888888888888,\"#fdca26\"],[1.0,\"#f0f921\"]]}],\"heatmap\":[{\"type\":\"heatmap\",\"colorbar\":{\"outlinewidth\":0,\"ticks\":\"\"},\"colorscale\":[[0.0,\"#0d0887\"],[0.1111111111111111,\"#46039f\"],[0.2222222222222222,\"#7201a8\"],[0.3333333333333333,\"#9c179e\"],[0.4444444444444444,\"#bd3786\"],[0.5555555555555556,\"#d8576b\"],[0.6666666666666666,\"#ed7953\"],[0.7777777777777778,\"#fb9f3a\"],[0.8888888888888888,\"#fdca26\"],[1.0,\"#f0f921\"]]}],\"heatmapgl\":[{\"type\":\"heatmapgl\",\"colorbar\":{\"outlinewidth\":0,\"ticks\":\"\"},\"colorscale\":[[0.0,\"#0d0887\"],[0.1111111111111111,\"#46039f\"],[0.2222222222222222,\"#7201a8\"],[0.3333333333333333,\"#9c179e\"],[0.4444444444444444,\"#bd3786\"],[0.5555555555555556,\"#d8576b\"],[0.6666666666666666,\"#ed7953\"],[0.7777777777777778,\"#fb9f3a\"],[0.8888888888888888,\"#fdca26\"],[1.0,\"#f0f921\"]]}],\"contourcarpet\":[{\"type\":\"contourcarpet\",\"colorbar\":{\"outlinewidth\":0,\"ticks\":\"\"}}],\"contour\":[{\"type\":\"contour\",\"colorbar\":{\"outlinewidth\":0,\"ticks\":\"\"},\"colorscale\":[[0.0,\"#0d0887\"],[0.1111111111111111,\"#46039f\"],[0.2222222222222222,\"#7201a8\"],[0.3333333333333333,\"#9c179e\"],[0.4444444444444444,\"#bd3786\"],[0.5555555555555556,\"#d8576b\"],[0.6666666666666666,\"#ed7953\"],[0.7777777777777778,\"#fb9f3a\"],[0.8888888888888888,\"#fdca26\"],[1.0,\"#f0f921\"]]}],\"surface\":[{\"type\":\"surface\",\"colorbar\":{\"outlinewidth\":0,\"ticks\":\"\"},\"colorscale\":[[0.0,\"#0d0887\"],[0.1111111111111111,\"#46039f\"],[0.2222222222222222,\"#7201a8\"],[0.3333333333333333,\"#9c179e\"],[0.4444444444444444,\"#bd3786\"],[0.5555555555555556,\"#d8576b\"],[0.6666666666666666,\"#ed7953\"],[0.7777777777777778,\"#fb9f3a\"],[0.8888888888888888,\"#fdca26\"],[1.0,\"#f0f921\"]]}],\"mesh3d\":[{\"type\":\"mesh3d\",\"colorbar\":{\"outlinewidth\":0,\"ticks\":\"\"}}],\"scatter\":[{\"fillpattern\":{\"fillmode\":\"overlay\",\"size\":10,\"solidity\":0.2},\"type\":\"scatter\"}],\"parcoords\":[{\"type\":\"parcoords\",\"line\":{\"colorbar\":{\"outlinewidth\":0,\"ticks\":\"\"}}}],\"scatterpolargl\":[{\"type\":\"scatterpolargl\",\"marker\":{\"colorbar\":{\"outlinewidth\":0,\"ticks\":\"\"}}}],\"bar\":[{\"error_x\":{\"color\":\"#2a3f5f\"},\"error_y\":{\"color\":\"#2a3f5f\"},\"marker\":{\"line\":{\"color\":\"#E5ECF6\",\"width\":0.5},\"pattern\":{\"fillmode\":\"overlay\",\"size\":10,\"solidity\":0.2}},\"type\":\"bar\"}],\"scattergeo\":[{\"type\":\"scattergeo\",\"marker\":{\"colorbar\":{\"outlinewidth\":0,\"ticks\":\"\"}}}],\"scatterpolar\":[{\"type\":\"scatterpolar\",\"marker\":{\"colorbar\":{\"outlinewidth\":0,\"ticks\":\"\"}}}],\"histogram\":[{\"marker\":{\"pattern\":{\"fillmode\":\"overlay\",\"size\":10,\"solidity\":0.2}},\"type\":\"histogram\"}],\"scattergl\":[{\"type\":\"scattergl\",\"marker\":{\"colorbar\":{\"outlinewidth\":0,\"ticks\":\"\"}}}],\"scatter3d\":[{\"type\":\"scatter3d\",\"line\":{\"colorbar\":{\"outlinewidth\":0,\"ticks\":\"\"}},\"marker\":{\"colorbar\":{\"outlinewidth\":0,\"ticks\":\"\"}}}],\"scattermapbox\":[{\"type\":\"scattermapbox\",\"marker\":{\"colorbar\":{\"outlinewidth\":0,\"ticks\":\"\"}}}],\"scatterternary\":[{\"type\":\"scatterternary\",\"marker\":{\"colorbar\":{\"outlinewidth\":0,\"ticks\":\"\"}}}],\"scattercarpet\":[{\"type\":\"scattercarpet\",\"marker\":{\"colorbar\":{\"outlinewidth\":0,\"ticks\":\"\"}}}],\"carpet\":[{\"aaxis\":{\"endlinecolor\":\"#2a3f5f\",\"gridcolor\":\"white\",\"linecolor\":\"white\",\"minorgridcolor\":\"white\",\"startlinecolor\":\"#2a3f5f\"},\"baxis\":{\"endlinecolor\":\"#2a3f5f\",\"gridcolor\":\"white\",\"linecolor\":\"white\",\"minorgridcolor\":\"white\",\"startlinecolor\":\"#2a3f5f\"},\"type\":\"carpet\"}],\"table\":[{\"cells\":{\"fill\":{\"color\":\"#EBF0F8\"},\"line\":{\"color\":\"white\"}},\"header\":{\"fill\":{\"color\":\"#C8D4E3\"},\"line\":{\"color\":\"white\"}},\"type\":\"table\"}],\"barpolar\":[{\"marker\":{\"line\":{\"color\":\"#E5ECF6\",\"width\":0.5},\"pattern\":{\"fillmode\":\"overlay\",\"size\":10,\"solidity\":0.2}},\"type\":\"barpolar\"}],\"pie\":[{\"automargin\":true,\"type\":\"pie\"}]},\"layout\":{\"autotypenumbers\":\"strict\",\"colorway\":[\"#636efa\",\"#EF553B\",\"#00cc96\",\"#ab63fa\",\"#FFA15A\",\"#19d3f3\",\"#FF6692\",\"#B6E880\",\"#FF97FF\",\"#FECB52\"],\"font\":{\"color\":\"#2a3f5f\"},\"hovermode\":\"closest\",\"hoverlabel\":{\"align\":\"left\"},\"paper_bgcolor\":\"white\",\"plot_bgcolor\":\"#E5ECF6\",\"polar\":{\"bgcolor\":\"#E5ECF6\",\"angularaxis\":{\"gridcolor\":\"white\",\"linecolor\":\"white\",\"ticks\":\"\"},\"radialaxis\":{\"gridcolor\":\"white\",\"linecolor\":\"white\",\"ticks\":\"\"}},\"ternary\":{\"bgcolor\":\"#E5ECF6\",\"aaxis\":{\"gridcolor\":\"white\",\"linecolor\":\"white\",\"ticks\":\"\"},\"baxis\":{\"gridcolor\":\"white\",\"linecolor\":\"white\",\"ticks\":\"\"},\"caxis\":{\"gridcolor\":\"white\",\"linecolor\":\"white\",\"ticks\":\"\"}},\"coloraxis\":{\"colorbar\":{\"outlinewidth\":0,\"ticks\":\"\"}},\"colorscale\":{\"sequential\":[[0.0,\"#0d0887\"],[0.1111111111111111,\"#46039f\"],[0.2222222222222222,\"#7201a8\"],[0.3333333333333333,\"#9c179e\"],[0.4444444444444444,\"#bd3786\"],[0.5555555555555556,\"#d8576b\"],[0.6666666666666666,\"#ed7953\"],[0.7777777777777778,\"#fb9f3a\"],[0.8888888888888888,\"#fdca26\"],[1.0,\"#f0f921\"]],\"sequentialminus\":[[0.0,\"#0d0887\"],[0.1111111111111111,\"#46039f\"],[0.2222222222222222,\"#7201a8\"],[0.3333333333333333,\"#9c179e\"],[0.4444444444444444,\"#bd3786\"],[0.5555555555555556,\"#d8576b\"],[0.6666666666666666,\"#ed7953\"],[0.7777777777777778,\"#fb9f3a\"],[0.8888888888888888,\"#fdca26\"],[1.0,\"#f0f921\"]],\"diverging\":[[0,\"#8e0152\"],[0.1,\"#c51b7d\"],[0.2,\"#de77ae\"],[0.3,\"#f1b6da\"],[0.4,\"#fde0ef\"],[0.5,\"#f7f7f7\"],[0.6,\"#e6f5d0\"],[0.7,\"#b8e186\"],[0.8,\"#7fbc41\"],[0.9,\"#4d9221\"],[1,\"#276419\"]]},\"xaxis\":{\"gridcolor\":\"white\",\"linecolor\":\"white\",\"ticks\":\"\",\"title\":{\"standoff\":15},\"zerolinecolor\":\"white\",\"automargin\":true,\"zerolinewidth\":2},\"yaxis\":{\"gridcolor\":\"white\",\"linecolor\":\"white\",\"ticks\":\"\",\"title\":{\"standoff\":15},\"zerolinecolor\":\"white\",\"automargin\":true,\"zerolinewidth\":2},\"scene\":{\"xaxis\":{\"backgroundcolor\":\"#E5ECF6\",\"gridcolor\":\"white\",\"linecolor\":\"white\",\"showbackground\":true,\"ticks\":\"\",\"zerolinecolor\":\"white\",\"gridwidth\":2},\"yaxis\":{\"backgroundcolor\":\"#E5ECF6\",\"gridcolor\":\"white\",\"linecolor\":\"white\",\"showbackground\":true,\"ticks\":\"\",\"zerolinecolor\":\"white\",\"gridwidth\":2},\"zaxis\":{\"backgroundcolor\":\"#E5ECF6\",\"gridcolor\":\"white\",\"linecolor\":\"white\",\"showbackground\":true,\"ticks\":\"\",\"zerolinecolor\":\"white\",\"gridwidth\":2}},\"shapedefaults\":{\"line\":{\"color\":\"#2a3f5f\"}},\"annotationdefaults\":{\"arrowcolor\":\"#2a3f5f\",\"arrowhead\":0,\"arrowwidth\":1},\"geo\":{\"bgcolor\":\"white\",\"landcolor\":\"#E5ECF6\",\"subunitcolor\":\"white\",\"showland\":true,\"showlakes\":true,\"lakecolor\":\"white\"},\"title\":{\"x\":0.05},\"mapbox\":{\"style\":\"light\"}}},\"legend\":{\"tracegroupgap\":0},\"title\":{\"text\":\"Contract Status Amongst WOSB Set-Aside NAICS\"}},                        {\"responsive\": true}                    ).then(function(){\n",
       "                            \n",
       "var gd = document.getElementById('e4d81fa2-17fb-494c-9deb-dc25e6e58188');\n",
       "var x = new MutationObserver(function (mutations, observer) {{\n",
       "        var display = window.getComputedStyle(gd).display;\n",
       "        if (!display || display === 'none') {{\n",
       "            console.log([gd, 'removed!']);\n",
       "            Plotly.purge(gd);\n",
       "            observer.disconnect();\n",
       "        }}\n",
       "}});\n",
       "\n",
       "// Listen for the removal of the full notebook cells\n",
       "var notebookContainer = gd.closest('#notebook-container');\n",
       "if (notebookContainer) {{\n",
       "    x.observe(notebookContainer, {childList: true});\n",
       "}}\n",
       "\n",
       "// Listen for the clearing of the current output cell\n",
       "var outputEl = gd.closest('.output');\n",
       "if (outputEl) {{\n",
       "    x.observe(outputEl, {childList: true});\n",
       "}}\n",
       "\n",
       "                        })                };                });            </script>        </div>"
      ]
     },
     "metadata": {},
     "output_type": "display_data"
    }
   ],
   "source": [
    "fig3 = px.pie( values=counts, names=names, title='Contract Status Amongst WOSB Set-Aside NAICS')\n",
    "fig3.show()"
   ]
  },
  {
   "cell_type": "markdown",
   "id": "a74ecf21",
   "metadata": {},
   "source": [
    "This poses a problem as almost 16% of set aside industries don't even have a single dollar contracted to WOSB or EDWOSB!"
   ]
  },
  {
   "cell_type": "code",
   "execution_count": 31,
   "id": "574da0ae",
   "metadata": {},
   "outputs": [
    {
     "name": "stdout",
     "output_type": "stream",
     "text": [
      "['Skiing Facilities', 'Nature Parks and Other Similar Institutions', 'Golf Courses and Country Clubs', 'Apiculture', 'Crop Harvesting, Primarily by Machine', 'Other Grantmaking and Giving Services', 'Cheese Manufacturing', 'Hosiery and Sock Mills', 'Wineries', 'Oilseed (except Soybean) Farming', 'New Housing For-Sale Builders', 'Cosmetology and Barber Schools']\n"
     ]
    }
   ],
   "source": [
    "# print a sample of these industries with no dollars to WOSB despite being set asides. There\n",
    "# should be programs to target some WOSB in some, if not all of these industries.\n",
    "print(list(yes_or_no_naics[yes_or_no_naics.values == 1].index[::10]))"
   ]
  },
  {
   "cell_type": "code",
   "execution_count": 32,
   "id": "6e5e44fe",
   "metadata": {},
   "outputs": [],
   "source": [
    "by_dollar = naics_explorer_df.groupby('Is Vendor Business Type - Women Owned Small Business').sum()"
   ]
  },
  {
   "cell_type": "code",
   "execution_count": 33,
   "id": "2488c15f",
   "metadata": {},
   "outputs": [
    {
     "data": {
      "application/vnd.plotly.v1+json": {
       "config": {
        "plotlyServerURL": "https://plot.ly"
       },
       "data": [
        {
         "domain": {
          "x": [
           0,
           1
          ],
          "y": [
           0,
           1
          ]
         },
         "hovertemplate": "label=%{label}<br>value=%{value}<extra></extra>",
         "labels": [
          "Non-WOSB",
          "WOSB"
         ],
         "legendgroup": "",
         "name": "",
         "showlegend": true,
         "type": "pie",
         "values": [
          733304.5773,
          29438.8324
         ]
        }
       ],
       "layout": {
        "legend": {
         "tracegroupgap": 0
        },
        "template": {
         "data": {
          "bar": [
           {
            "error_x": {
             "color": "#2a3f5f"
            },
            "error_y": {
             "color": "#2a3f5f"
            },
            "marker": {
             "line": {
              "color": "#E5ECF6",
              "width": 0.5
             },
             "pattern": {
              "fillmode": "overlay",
              "size": 10,
              "solidity": 0.2
             }
            },
            "type": "bar"
           }
          ],
          "barpolar": [
           {
            "marker": {
             "line": {
              "color": "#E5ECF6",
              "width": 0.5
             },
             "pattern": {
              "fillmode": "overlay",
              "size": 10,
              "solidity": 0.2
             }
            },
            "type": "barpolar"
           }
          ],
          "carpet": [
           {
            "aaxis": {
             "endlinecolor": "#2a3f5f",
             "gridcolor": "white",
             "linecolor": "white",
             "minorgridcolor": "white",
             "startlinecolor": "#2a3f5f"
            },
            "baxis": {
             "endlinecolor": "#2a3f5f",
             "gridcolor": "white",
             "linecolor": "white",
             "minorgridcolor": "white",
             "startlinecolor": "#2a3f5f"
            },
            "type": "carpet"
           }
          ],
          "choropleth": [
           {
            "colorbar": {
             "outlinewidth": 0,
             "ticks": ""
            },
            "type": "choropleth"
           }
          ],
          "contour": [
           {
            "colorbar": {
             "outlinewidth": 0,
             "ticks": ""
            },
            "colorscale": [
             [
              0,
              "#0d0887"
             ],
             [
              0.1111111111111111,
              "#46039f"
             ],
             [
              0.2222222222222222,
              "#7201a8"
             ],
             [
              0.3333333333333333,
              "#9c179e"
             ],
             [
              0.4444444444444444,
              "#bd3786"
             ],
             [
              0.5555555555555556,
              "#d8576b"
             ],
             [
              0.6666666666666666,
              "#ed7953"
             ],
             [
              0.7777777777777778,
              "#fb9f3a"
             ],
             [
              0.8888888888888888,
              "#fdca26"
             ],
             [
              1,
              "#f0f921"
             ]
            ],
            "type": "contour"
           }
          ],
          "contourcarpet": [
           {
            "colorbar": {
             "outlinewidth": 0,
             "ticks": ""
            },
            "type": "contourcarpet"
           }
          ],
          "heatmap": [
           {
            "colorbar": {
             "outlinewidth": 0,
             "ticks": ""
            },
            "colorscale": [
             [
              0,
              "#0d0887"
             ],
             [
              0.1111111111111111,
              "#46039f"
             ],
             [
              0.2222222222222222,
              "#7201a8"
             ],
             [
              0.3333333333333333,
              "#9c179e"
             ],
             [
              0.4444444444444444,
              "#bd3786"
             ],
             [
              0.5555555555555556,
              "#d8576b"
             ],
             [
              0.6666666666666666,
              "#ed7953"
             ],
             [
              0.7777777777777778,
              "#fb9f3a"
             ],
             [
              0.8888888888888888,
              "#fdca26"
             ],
             [
              1,
              "#f0f921"
             ]
            ],
            "type": "heatmap"
           }
          ],
          "heatmapgl": [
           {
            "colorbar": {
             "outlinewidth": 0,
             "ticks": ""
            },
            "colorscale": [
             [
              0,
              "#0d0887"
             ],
             [
              0.1111111111111111,
              "#46039f"
             ],
             [
              0.2222222222222222,
              "#7201a8"
             ],
             [
              0.3333333333333333,
              "#9c179e"
             ],
             [
              0.4444444444444444,
              "#bd3786"
             ],
             [
              0.5555555555555556,
              "#d8576b"
             ],
             [
              0.6666666666666666,
              "#ed7953"
             ],
             [
              0.7777777777777778,
              "#fb9f3a"
             ],
             [
              0.8888888888888888,
              "#fdca26"
             ],
             [
              1,
              "#f0f921"
             ]
            ],
            "type": "heatmapgl"
           }
          ],
          "histogram": [
           {
            "marker": {
             "pattern": {
              "fillmode": "overlay",
              "size": 10,
              "solidity": 0.2
             }
            },
            "type": "histogram"
           }
          ],
          "histogram2d": [
           {
            "colorbar": {
             "outlinewidth": 0,
             "ticks": ""
            },
            "colorscale": [
             [
              0,
              "#0d0887"
             ],
             [
              0.1111111111111111,
              "#46039f"
             ],
             [
              0.2222222222222222,
              "#7201a8"
             ],
             [
              0.3333333333333333,
              "#9c179e"
             ],
             [
              0.4444444444444444,
              "#bd3786"
             ],
             [
              0.5555555555555556,
              "#d8576b"
             ],
             [
              0.6666666666666666,
              "#ed7953"
             ],
             [
              0.7777777777777778,
              "#fb9f3a"
             ],
             [
              0.8888888888888888,
              "#fdca26"
             ],
             [
              1,
              "#f0f921"
             ]
            ],
            "type": "histogram2d"
           }
          ],
          "histogram2dcontour": [
           {
            "colorbar": {
             "outlinewidth": 0,
             "ticks": ""
            },
            "colorscale": [
             [
              0,
              "#0d0887"
             ],
             [
              0.1111111111111111,
              "#46039f"
             ],
             [
              0.2222222222222222,
              "#7201a8"
             ],
             [
              0.3333333333333333,
              "#9c179e"
             ],
             [
              0.4444444444444444,
              "#bd3786"
             ],
             [
              0.5555555555555556,
              "#d8576b"
             ],
             [
              0.6666666666666666,
              "#ed7953"
             ],
             [
              0.7777777777777778,
              "#fb9f3a"
             ],
             [
              0.8888888888888888,
              "#fdca26"
             ],
             [
              1,
              "#f0f921"
             ]
            ],
            "type": "histogram2dcontour"
           }
          ],
          "mesh3d": [
           {
            "colorbar": {
             "outlinewidth": 0,
             "ticks": ""
            },
            "type": "mesh3d"
           }
          ],
          "parcoords": [
           {
            "line": {
             "colorbar": {
              "outlinewidth": 0,
              "ticks": ""
             }
            },
            "type": "parcoords"
           }
          ],
          "pie": [
           {
            "automargin": true,
            "type": "pie"
           }
          ],
          "scatter": [
           {
            "fillpattern": {
             "fillmode": "overlay",
             "size": 10,
             "solidity": 0.2
            },
            "type": "scatter"
           }
          ],
          "scatter3d": [
           {
            "line": {
             "colorbar": {
              "outlinewidth": 0,
              "ticks": ""
             }
            },
            "marker": {
             "colorbar": {
              "outlinewidth": 0,
              "ticks": ""
             }
            },
            "type": "scatter3d"
           }
          ],
          "scattercarpet": [
           {
            "marker": {
             "colorbar": {
              "outlinewidth": 0,
              "ticks": ""
             }
            },
            "type": "scattercarpet"
           }
          ],
          "scattergeo": [
           {
            "marker": {
             "colorbar": {
              "outlinewidth": 0,
              "ticks": ""
             }
            },
            "type": "scattergeo"
           }
          ],
          "scattergl": [
           {
            "marker": {
             "colorbar": {
              "outlinewidth": 0,
              "ticks": ""
             }
            },
            "type": "scattergl"
           }
          ],
          "scattermapbox": [
           {
            "marker": {
             "colorbar": {
              "outlinewidth": 0,
              "ticks": ""
             }
            },
            "type": "scattermapbox"
           }
          ],
          "scatterpolar": [
           {
            "marker": {
             "colorbar": {
              "outlinewidth": 0,
              "ticks": ""
             }
            },
            "type": "scatterpolar"
           }
          ],
          "scatterpolargl": [
           {
            "marker": {
             "colorbar": {
              "outlinewidth": 0,
              "ticks": ""
             }
            },
            "type": "scatterpolargl"
           }
          ],
          "scatterternary": [
           {
            "marker": {
             "colorbar": {
              "outlinewidth": 0,
              "ticks": ""
             }
            },
            "type": "scatterternary"
           }
          ],
          "surface": [
           {
            "colorbar": {
             "outlinewidth": 0,
             "ticks": ""
            },
            "colorscale": [
             [
              0,
              "#0d0887"
             ],
             [
              0.1111111111111111,
              "#46039f"
             ],
             [
              0.2222222222222222,
              "#7201a8"
             ],
             [
              0.3333333333333333,
              "#9c179e"
             ],
             [
              0.4444444444444444,
              "#bd3786"
             ],
             [
              0.5555555555555556,
              "#d8576b"
             ],
             [
              0.6666666666666666,
              "#ed7953"
             ],
             [
              0.7777777777777778,
              "#fb9f3a"
             ],
             [
              0.8888888888888888,
              "#fdca26"
             ],
             [
              1,
              "#f0f921"
             ]
            ],
            "type": "surface"
           }
          ],
          "table": [
           {
            "cells": {
             "fill": {
              "color": "#EBF0F8"
             },
             "line": {
              "color": "white"
             }
            },
            "header": {
             "fill": {
              "color": "#C8D4E3"
             },
             "line": {
              "color": "white"
             }
            },
            "type": "table"
           }
          ]
         },
         "layout": {
          "annotationdefaults": {
           "arrowcolor": "#2a3f5f",
           "arrowhead": 0,
           "arrowwidth": 1
          },
          "autotypenumbers": "strict",
          "coloraxis": {
           "colorbar": {
            "outlinewidth": 0,
            "ticks": ""
           }
          },
          "colorscale": {
           "diverging": [
            [
             0,
             "#8e0152"
            ],
            [
             0.1,
             "#c51b7d"
            ],
            [
             0.2,
             "#de77ae"
            ],
            [
             0.3,
             "#f1b6da"
            ],
            [
             0.4,
             "#fde0ef"
            ],
            [
             0.5,
             "#f7f7f7"
            ],
            [
             0.6,
             "#e6f5d0"
            ],
            [
             0.7,
             "#b8e186"
            ],
            [
             0.8,
             "#7fbc41"
            ],
            [
             0.9,
             "#4d9221"
            ],
            [
             1,
             "#276419"
            ]
           ],
           "sequential": [
            [
             0,
             "#0d0887"
            ],
            [
             0.1111111111111111,
             "#46039f"
            ],
            [
             0.2222222222222222,
             "#7201a8"
            ],
            [
             0.3333333333333333,
             "#9c179e"
            ],
            [
             0.4444444444444444,
             "#bd3786"
            ],
            [
             0.5555555555555556,
             "#d8576b"
            ],
            [
             0.6666666666666666,
             "#ed7953"
            ],
            [
             0.7777777777777778,
             "#fb9f3a"
            ],
            [
             0.8888888888888888,
             "#fdca26"
            ],
            [
             1,
             "#f0f921"
            ]
           ],
           "sequentialminus": [
            [
             0,
             "#0d0887"
            ],
            [
             0.1111111111111111,
             "#46039f"
            ],
            [
             0.2222222222222222,
             "#7201a8"
            ],
            [
             0.3333333333333333,
             "#9c179e"
            ],
            [
             0.4444444444444444,
             "#bd3786"
            ],
            [
             0.5555555555555556,
             "#d8576b"
            ],
            [
             0.6666666666666666,
             "#ed7953"
            ],
            [
             0.7777777777777778,
             "#fb9f3a"
            ],
            [
             0.8888888888888888,
             "#fdca26"
            ],
            [
             1,
             "#f0f921"
            ]
           ]
          },
          "colorway": [
           "#636efa",
           "#EF553B",
           "#00cc96",
           "#ab63fa",
           "#FFA15A",
           "#19d3f3",
           "#FF6692",
           "#B6E880",
           "#FF97FF",
           "#FECB52"
          ],
          "font": {
           "color": "#2a3f5f"
          },
          "geo": {
           "bgcolor": "white",
           "lakecolor": "white",
           "landcolor": "#E5ECF6",
           "showlakes": true,
           "showland": true,
           "subunitcolor": "white"
          },
          "hoverlabel": {
           "align": "left"
          },
          "hovermode": "closest",
          "mapbox": {
           "style": "light"
          },
          "paper_bgcolor": "white",
          "plot_bgcolor": "#E5ECF6",
          "polar": {
           "angularaxis": {
            "gridcolor": "white",
            "linecolor": "white",
            "ticks": ""
           },
           "bgcolor": "#E5ECF6",
           "radialaxis": {
            "gridcolor": "white",
            "linecolor": "white",
            "ticks": ""
           }
          },
          "scene": {
           "xaxis": {
            "backgroundcolor": "#E5ECF6",
            "gridcolor": "white",
            "gridwidth": 2,
            "linecolor": "white",
            "showbackground": true,
            "ticks": "",
            "zerolinecolor": "white"
           },
           "yaxis": {
            "backgroundcolor": "#E5ECF6",
            "gridcolor": "white",
            "gridwidth": 2,
            "linecolor": "white",
            "showbackground": true,
            "ticks": "",
            "zerolinecolor": "white"
           },
           "zaxis": {
            "backgroundcolor": "#E5ECF6",
            "gridcolor": "white",
            "gridwidth": 2,
            "linecolor": "white",
            "showbackground": true,
            "ticks": "",
            "zerolinecolor": "white"
           }
          },
          "shapedefaults": {
           "line": {
            "color": "#2a3f5f"
           }
          },
          "ternary": {
           "aaxis": {
            "gridcolor": "white",
            "linecolor": "white",
            "ticks": ""
           },
           "baxis": {
            "gridcolor": "white",
            "linecolor": "white",
            "ticks": ""
           },
           "bgcolor": "#E5ECF6",
           "caxis": {
            "gridcolor": "white",
            "linecolor": "white",
            "ticks": ""
           }
          },
          "title": {
           "x": 0.05
          },
          "xaxis": {
           "automargin": true,
           "gridcolor": "white",
           "linecolor": "white",
           "ticks": "",
           "title": {
            "standoff": 15
           },
           "zerolinecolor": "white",
           "zerolinewidth": 2
          },
          "yaxis": {
           "automargin": true,
           "gridcolor": "white",
           "linecolor": "white",
           "ticks": "",
           "title": {
            "standoff": 15
           },
           "zerolinecolor": "white",
           "zerolinewidth": 2
          }
         }
        },
        "title": {
         "text": "Total Contract Dollars for WOSB Amongst Set-Aside NAICS"
        }
       }
      },
      "text/html": [
       "<div>                            <div id=\"b20eee56-ea1c-4654-8d27-8a67353c028d\" class=\"plotly-graph-div\" style=\"height:525px; width:100%;\"></div>            <script type=\"text/javascript\">                require([\"plotly\"], function(Plotly) {                    window.PLOTLYENV=window.PLOTLYENV || {};                                    if (document.getElementById(\"b20eee56-ea1c-4654-8d27-8a67353c028d\")) {                    Plotly.newPlot(                        \"b20eee56-ea1c-4654-8d27-8a67353c028d\",                        [{\"domain\":{\"x\":[0.0,1.0],\"y\":[0.0,1.0]},\"hovertemplate\":\"label=%{label}<br>value=%{value}<extra></extra>\",\"labels\":[\"Non-WOSB\",\"WOSB\"],\"legendgroup\":\"\",\"name\":\"\",\"showlegend\":true,\"values\":[733304.5773,29438.8324],\"type\":\"pie\"}],                        {\"template\":{\"data\":{\"histogram2dcontour\":[{\"type\":\"histogram2dcontour\",\"colorbar\":{\"outlinewidth\":0,\"ticks\":\"\"},\"colorscale\":[[0.0,\"#0d0887\"],[0.1111111111111111,\"#46039f\"],[0.2222222222222222,\"#7201a8\"],[0.3333333333333333,\"#9c179e\"],[0.4444444444444444,\"#bd3786\"],[0.5555555555555556,\"#d8576b\"],[0.6666666666666666,\"#ed7953\"],[0.7777777777777778,\"#fb9f3a\"],[0.8888888888888888,\"#fdca26\"],[1.0,\"#f0f921\"]]}],\"choropleth\":[{\"type\":\"choropleth\",\"colorbar\":{\"outlinewidth\":0,\"ticks\":\"\"}}],\"histogram2d\":[{\"type\":\"histogram2d\",\"colorbar\":{\"outlinewidth\":0,\"ticks\":\"\"},\"colorscale\":[[0.0,\"#0d0887\"],[0.1111111111111111,\"#46039f\"],[0.2222222222222222,\"#7201a8\"],[0.3333333333333333,\"#9c179e\"],[0.4444444444444444,\"#bd3786\"],[0.5555555555555556,\"#d8576b\"],[0.6666666666666666,\"#ed7953\"],[0.7777777777777778,\"#fb9f3a\"],[0.8888888888888888,\"#fdca26\"],[1.0,\"#f0f921\"]]}],\"heatmap\":[{\"type\":\"heatmap\",\"colorbar\":{\"outlinewidth\":0,\"ticks\":\"\"},\"colorscale\":[[0.0,\"#0d0887\"],[0.1111111111111111,\"#46039f\"],[0.2222222222222222,\"#7201a8\"],[0.3333333333333333,\"#9c179e\"],[0.4444444444444444,\"#bd3786\"],[0.5555555555555556,\"#d8576b\"],[0.6666666666666666,\"#ed7953\"],[0.7777777777777778,\"#fb9f3a\"],[0.8888888888888888,\"#fdca26\"],[1.0,\"#f0f921\"]]}],\"heatmapgl\":[{\"type\":\"heatmapgl\",\"colorbar\":{\"outlinewidth\":0,\"ticks\":\"\"},\"colorscale\":[[0.0,\"#0d0887\"],[0.1111111111111111,\"#46039f\"],[0.2222222222222222,\"#7201a8\"],[0.3333333333333333,\"#9c179e\"],[0.4444444444444444,\"#bd3786\"],[0.5555555555555556,\"#d8576b\"],[0.6666666666666666,\"#ed7953\"],[0.7777777777777778,\"#fb9f3a\"],[0.8888888888888888,\"#fdca26\"],[1.0,\"#f0f921\"]]}],\"contourcarpet\":[{\"type\":\"contourcarpet\",\"colorbar\":{\"outlinewidth\":0,\"ticks\":\"\"}}],\"contour\":[{\"type\":\"contour\",\"colorbar\":{\"outlinewidth\":0,\"ticks\":\"\"},\"colorscale\":[[0.0,\"#0d0887\"],[0.1111111111111111,\"#46039f\"],[0.2222222222222222,\"#7201a8\"],[0.3333333333333333,\"#9c179e\"],[0.4444444444444444,\"#bd3786\"],[0.5555555555555556,\"#d8576b\"],[0.6666666666666666,\"#ed7953\"],[0.7777777777777778,\"#fb9f3a\"],[0.8888888888888888,\"#fdca26\"],[1.0,\"#f0f921\"]]}],\"surface\":[{\"type\":\"surface\",\"colorbar\":{\"outlinewidth\":0,\"ticks\":\"\"},\"colorscale\":[[0.0,\"#0d0887\"],[0.1111111111111111,\"#46039f\"],[0.2222222222222222,\"#7201a8\"],[0.3333333333333333,\"#9c179e\"],[0.4444444444444444,\"#bd3786\"],[0.5555555555555556,\"#d8576b\"],[0.6666666666666666,\"#ed7953\"],[0.7777777777777778,\"#fb9f3a\"],[0.8888888888888888,\"#fdca26\"],[1.0,\"#f0f921\"]]}],\"mesh3d\":[{\"type\":\"mesh3d\",\"colorbar\":{\"outlinewidth\":0,\"ticks\":\"\"}}],\"scatter\":[{\"fillpattern\":{\"fillmode\":\"overlay\",\"size\":10,\"solidity\":0.2},\"type\":\"scatter\"}],\"parcoords\":[{\"type\":\"parcoords\",\"line\":{\"colorbar\":{\"outlinewidth\":0,\"ticks\":\"\"}}}],\"scatterpolargl\":[{\"type\":\"scatterpolargl\",\"marker\":{\"colorbar\":{\"outlinewidth\":0,\"ticks\":\"\"}}}],\"bar\":[{\"error_x\":{\"color\":\"#2a3f5f\"},\"error_y\":{\"color\":\"#2a3f5f\"},\"marker\":{\"line\":{\"color\":\"#E5ECF6\",\"width\":0.5},\"pattern\":{\"fillmode\":\"overlay\",\"size\":10,\"solidity\":0.2}},\"type\":\"bar\"}],\"scattergeo\":[{\"type\":\"scattergeo\",\"marker\":{\"colorbar\":{\"outlinewidth\":0,\"ticks\":\"\"}}}],\"scatterpolar\":[{\"type\":\"scatterpolar\",\"marker\":{\"colorbar\":{\"outlinewidth\":0,\"ticks\":\"\"}}}],\"histogram\":[{\"marker\":{\"pattern\":{\"fillmode\":\"overlay\",\"size\":10,\"solidity\":0.2}},\"type\":\"histogram\"}],\"scattergl\":[{\"type\":\"scattergl\",\"marker\":{\"colorbar\":{\"outlinewidth\":0,\"ticks\":\"\"}}}],\"scatter3d\":[{\"type\":\"scatter3d\",\"line\":{\"colorbar\":{\"outlinewidth\":0,\"ticks\":\"\"}},\"marker\":{\"colorbar\":{\"outlinewidth\":0,\"ticks\":\"\"}}}],\"scattermapbox\":[{\"type\":\"scattermapbox\",\"marker\":{\"colorbar\":{\"outlinewidth\":0,\"ticks\":\"\"}}}],\"scatterternary\":[{\"type\":\"scatterternary\",\"marker\":{\"colorbar\":{\"outlinewidth\":0,\"ticks\":\"\"}}}],\"scattercarpet\":[{\"type\":\"scattercarpet\",\"marker\":{\"colorbar\":{\"outlinewidth\":0,\"ticks\":\"\"}}}],\"carpet\":[{\"aaxis\":{\"endlinecolor\":\"#2a3f5f\",\"gridcolor\":\"white\",\"linecolor\":\"white\",\"minorgridcolor\":\"white\",\"startlinecolor\":\"#2a3f5f\"},\"baxis\":{\"endlinecolor\":\"#2a3f5f\",\"gridcolor\":\"white\",\"linecolor\":\"white\",\"minorgridcolor\":\"white\",\"startlinecolor\":\"#2a3f5f\"},\"type\":\"carpet\"}],\"table\":[{\"cells\":{\"fill\":{\"color\":\"#EBF0F8\"},\"line\":{\"color\":\"white\"}},\"header\":{\"fill\":{\"color\":\"#C8D4E3\"},\"line\":{\"color\":\"white\"}},\"type\":\"table\"}],\"barpolar\":[{\"marker\":{\"line\":{\"color\":\"#E5ECF6\",\"width\":0.5},\"pattern\":{\"fillmode\":\"overlay\",\"size\":10,\"solidity\":0.2}},\"type\":\"barpolar\"}],\"pie\":[{\"automargin\":true,\"type\":\"pie\"}]},\"layout\":{\"autotypenumbers\":\"strict\",\"colorway\":[\"#636efa\",\"#EF553B\",\"#00cc96\",\"#ab63fa\",\"#FFA15A\",\"#19d3f3\",\"#FF6692\",\"#B6E880\",\"#FF97FF\",\"#FECB52\"],\"font\":{\"color\":\"#2a3f5f\"},\"hovermode\":\"closest\",\"hoverlabel\":{\"align\":\"left\"},\"paper_bgcolor\":\"white\",\"plot_bgcolor\":\"#E5ECF6\",\"polar\":{\"bgcolor\":\"#E5ECF6\",\"angularaxis\":{\"gridcolor\":\"white\",\"linecolor\":\"white\",\"ticks\":\"\"},\"radialaxis\":{\"gridcolor\":\"white\",\"linecolor\":\"white\",\"ticks\":\"\"}},\"ternary\":{\"bgcolor\":\"#E5ECF6\",\"aaxis\":{\"gridcolor\":\"white\",\"linecolor\":\"white\",\"ticks\":\"\"},\"baxis\":{\"gridcolor\":\"white\",\"linecolor\":\"white\",\"ticks\":\"\"},\"caxis\":{\"gridcolor\":\"white\",\"linecolor\":\"white\",\"ticks\":\"\"}},\"coloraxis\":{\"colorbar\":{\"outlinewidth\":0,\"ticks\":\"\"}},\"colorscale\":{\"sequential\":[[0.0,\"#0d0887\"],[0.1111111111111111,\"#46039f\"],[0.2222222222222222,\"#7201a8\"],[0.3333333333333333,\"#9c179e\"],[0.4444444444444444,\"#bd3786\"],[0.5555555555555556,\"#d8576b\"],[0.6666666666666666,\"#ed7953\"],[0.7777777777777778,\"#fb9f3a\"],[0.8888888888888888,\"#fdca26\"],[1.0,\"#f0f921\"]],\"sequentialminus\":[[0.0,\"#0d0887\"],[0.1111111111111111,\"#46039f\"],[0.2222222222222222,\"#7201a8\"],[0.3333333333333333,\"#9c179e\"],[0.4444444444444444,\"#bd3786\"],[0.5555555555555556,\"#d8576b\"],[0.6666666666666666,\"#ed7953\"],[0.7777777777777778,\"#fb9f3a\"],[0.8888888888888888,\"#fdca26\"],[1.0,\"#f0f921\"]],\"diverging\":[[0,\"#8e0152\"],[0.1,\"#c51b7d\"],[0.2,\"#de77ae\"],[0.3,\"#f1b6da\"],[0.4,\"#fde0ef\"],[0.5,\"#f7f7f7\"],[0.6,\"#e6f5d0\"],[0.7,\"#b8e186\"],[0.8,\"#7fbc41\"],[0.9,\"#4d9221\"],[1,\"#276419\"]]},\"xaxis\":{\"gridcolor\":\"white\",\"linecolor\":\"white\",\"ticks\":\"\",\"title\":{\"standoff\":15},\"zerolinecolor\":\"white\",\"automargin\":true,\"zerolinewidth\":2},\"yaxis\":{\"gridcolor\":\"white\",\"linecolor\":\"white\",\"ticks\":\"\",\"title\":{\"standoff\":15},\"zerolinecolor\":\"white\",\"automargin\":true,\"zerolinewidth\":2},\"scene\":{\"xaxis\":{\"backgroundcolor\":\"#E5ECF6\",\"gridcolor\":\"white\",\"linecolor\":\"white\",\"showbackground\":true,\"ticks\":\"\",\"zerolinecolor\":\"white\",\"gridwidth\":2},\"yaxis\":{\"backgroundcolor\":\"#E5ECF6\",\"gridcolor\":\"white\",\"linecolor\":\"white\",\"showbackground\":true,\"ticks\":\"\",\"zerolinecolor\":\"white\",\"gridwidth\":2},\"zaxis\":{\"backgroundcolor\":\"#E5ECF6\",\"gridcolor\":\"white\",\"linecolor\":\"white\",\"showbackground\":true,\"ticks\":\"\",\"zerolinecolor\":\"white\",\"gridwidth\":2}},\"shapedefaults\":{\"line\":{\"color\":\"#2a3f5f\"}},\"annotationdefaults\":{\"arrowcolor\":\"#2a3f5f\",\"arrowhead\":0,\"arrowwidth\":1},\"geo\":{\"bgcolor\":\"white\",\"landcolor\":\"#E5ECF6\",\"subunitcolor\":\"white\",\"showland\":true,\"showlakes\":true,\"lakecolor\":\"white\"},\"title\":{\"x\":0.05},\"mapbox\":{\"style\":\"light\"}}},\"legend\":{\"tracegroupgap\":0},\"title\":{\"text\":\"Total Contract Dollars for WOSB Amongst Set-Aside NAICS\"}},                        {\"responsive\": true}                    ).then(function(){\n",
       "                            \n",
       "var gd = document.getElementById('b20eee56-ea1c-4654-8d27-8a67353c028d');\n",
       "var x = new MutationObserver(function (mutations, observer) {{\n",
       "        var display = window.getComputedStyle(gd).display;\n",
       "        if (!display || display === 'none') {{\n",
       "            console.log([gd, 'removed!']);\n",
       "            Plotly.purge(gd);\n",
       "            observer.disconnect();\n",
       "        }}\n",
       "}});\n",
       "\n",
       "// Listen for the removal of the full notebook cells\n",
       "var notebookContainer = gd.closest('#notebook-container');\n",
       "if (notebookContainer) {{\n",
       "    x.observe(notebookContainer, {childList: true});\n",
       "}}\n",
       "\n",
       "// Listen for the clearing of the current output cell\n",
       "var outputEl = gd.closest('.output');\n",
       "if (outputEl) {{\n",
       "    x.observe(outputEl, {childList: true});\n",
       "}}\n",
       "\n",
       "                        })                };                });            </script>        </div>"
      ]
     },
     "metadata": {},
     "output_type": "display_data"
    }
   ],
   "source": [
    "# contrasting with dollar amounts\n",
    "fig4 = px.pie( values=by_dollar['Base and All Options Value (Total Contract Value)'], names=['Non-WOSB','WOSB'], title='Total Contract Dollars for WOSB Amongst Set-Aside NAICS')\n",
    "fig4.show()"
   ]
  },
  {
   "cell_type": "markdown",
   "id": "af924236",
   "metadata": {},
   "source": [
    "This highlights the crux of the problem - it is clear that the sheer difference of these values displays the ineffectiveness of current initiatives."
   ]
  },
  {
   "cell_type": "code",
   "execution_count": 34,
   "id": "dceb8dab",
   "metadata": {
    "scrolled": true
   },
   "outputs": [
    {
     "data": {
      "text/html": [
       "<div>\n",
       "<style scoped>\n",
       "    .dataframe tbody tr th:only-of-type {\n",
       "        vertical-align: middle;\n",
       "    }\n",
       "\n",
       "    .dataframe tbody tr th {\n",
       "        vertical-align: top;\n",
       "    }\n",
       "\n",
       "    .dataframe thead th {\n",
       "        text-align: right;\n",
       "    }\n",
       "</style>\n",
       "<table border=\"1\" class=\"dataframe\">\n",
       "  <thead>\n",
       "    <tr style=\"text-align: right;\">\n",
       "      <th></th>\n",
       "      <th>NAICS</th>\n",
       "      <th>Description of NAICS</th>\n",
       "      <th>Set-Aside</th>\n",
       "      <th>Is Vendor Business Type - Women Owned Small Business</th>\n",
       "      <th>Base and All Options Value (Total Contract Value)</th>\n",
       "    </tr>\n",
       "  </thead>\n",
       "  <tbody>\n",
       "    <tr>\n",
       "      <th>0</th>\n",
       "      <td>111110</td>\n",
       "      <td>Soybean Farming</td>\n",
       "      <td>WOSB</td>\n",
       "      <td>NO</td>\n",
       "      <td>0.4663</td>\n",
       "    </tr>\n",
       "    <tr>\n",
       "      <th>1</th>\n",
       "      <td>111120</td>\n",
       "      <td>Oilseed (except Soybean) Farming</td>\n",
       "      <td>WOSB</td>\n",
       "      <td>NO</td>\n",
       "      <td>0.4718</td>\n",
       "    </tr>\n",
       "    <tr>\n",
       "      <th>2</th>\n",
       "      <td>111130</td>\n",
       "      <td>Dry Pea and Bean Farming</td>\n",
       "      <td>WOSB</td>\n",
       "      <td>NO</td>\n",
       "      <td>0.0250</td>\n",
       "    </tr>\n",
       "    <tr>\n",
       "      <th>3</th>\n",
       "      <td>111140</td>\n",
       "      <td>Wheat Farming</td>\n",
       "      <td>WOSB</td>\n",
       "      <td>NO</td>\n",
       "      <td>0.0131</td>\n",
       "    </tr>\n",
       "    <tr>\n",
       "      <th>4</th>\n",
       "      <td>111150</td>\n",
       "      <td>Corn Farming</td>\n",
       "      <td>WOSB</td>\n",
       "      <td>NO</td>\n",
       "      <td>0.7749</td>\n",
       "    </tr>\n",
       "    <tr>\n",
       "      <th>...</th>\n",
       "      <td>...</td>\n",
       "      <td>...</td>\n",
       "      <td>...</td>\n",
       "      <td>...</td>\n",
       "      <td>...</td>\n",
       "    </tr>\n",
       "    <tr>\n",
       "      <th>1335</th>\n",
       "      <td>813920</td>\n",
       "      <td>Professional Organizations</td>\n",
       "      <td>WOSB</td>\n",
       "      <td>YES</td>\n",
       "      <td>1.0589</td>\n",
       "    </tr>\n",
       "    <tr>\n",
       "      <th>1336</th>\n",
       "      <td>813930</td>\n",
       "      <td>Labor Unions and Similar Labor Organizations</td>\n",
       "      <td>WOSB</td>\n",
       "      <td>NO</td>\n",
       "      <td>0.0541</td>\n",
       "    </tr>\n",
       "    <tr>\n",
       "      <th>1337</th>\n",
       "      <td>813940</td>\n",
       "      <td>Political Organizations</td>\n",
       "      <td>WOSB</td>\n",
       "      <td>NO</td>\n",
       "      <td>0.0500</td>\n",
       "    </tr>\n",
       "    <tr>\n",
       "      <th>1338</th>\n",
       "      <td>813990</td>\n",
       "      <td>Other Similar Organizations (except Business, ...</td>\n",
       "      <td>WOSB</td>\n",
       "      <td>NO</td>\n",
       "      <td>0.7081</td>\n",
       "    </tr>\n",
       "    <tr>\n",
       "      <th>1339</th>\n",
       "      <td>813990</td>\n",
       "      <td>Other Similar Organizations (except Business, ...</td>\n",
       "      <td>WOSB</td>\n",
       "      <td>YES</td>\n",
       "      <td>0.0651</td>\n",
       "    </tr>\n",
       "  </tbody>\n",
       "</table>\n",
       "<p>1340 rows × 5 columns</p>\n",
       "</div>"
      ],
      "text/plain": [
       "       NAICS                               Description of NAICS Set-Aside  \\\n",
       "0     111110                                    Soybean Farming      WOSB   \n",
       "1     111120                   Oilseed (except Soybean) Farming      WOSB   \n",
       "2     111130                           Dry Pea and Bean Farming      WOSB   \n",
       "3     111140                                      Wheat Farming      WOSB   \n",
       "4     111150                                       Corn Farming      WOSB   \n",
       "...      ...                                                ...       ...   \n",
       "1335  813920                         Professional Organizations      WOSB   \n",
       "1336  813930       Labor Unions and Similar Labor Organizations      WOSB   \n",
       "1337  813940                            Political Organizations      WOSB   \n",
       "1338  813990  Other Similar Organizations (except Business, ...      WOSB   \n",
       "1339  813990  Other Similar Organizations (except Business, ...      WOSB   \n",
       "\n",
       "     Is Vendor Business Type - Women Owned Small Business  \\\n",
       "0                                                    NO     \n",
       "1                                                    NO     \n",
       "2                                                    NO     \n",
       "3                                                    NO     \n",
       "4                                                    NO     \n",
       "...                                                 ...     \n",
       "1335                                                YES     \n",
       "1336                                                 NO     \n",
       "1337                                                 NO     \n",
       "1338                                                 NO     \n",
       "1339                                                YES     \n",
       "\n",
       "      Base and All Options Value (Total Contract Value)  \n",
       "0                                                0.4663  \n",
       "1                                                0.4718  \n",
       "2                                                0.0250  \n",
       "3                                                0.0131  \n",
       "4                                                0.7749  \n",
       "...                                                 ...  \n",
       "1335                                             1.0589  \n",
       "1336                                             0.0541  \n",
       "1337                                             0.0500  \n",
       "1338                                             0.7081  \n",
       "1339                                             0.0651  \n",
       "\n",
       "[1340 rows x 5 columns]"
      ]
     },
     "execution_count": 34,
     "metadata": {},
     "output_type": "execute_result"
    }
   ],
   "source": [
    "naics_explorer_df"
   ]
  },
  {
   "cell_type": "code",
   "execution_count": 35,
   "id": "24e55ba3",
   "metadata": {},
   "outputs": [],
   "source": [
    "# add Industrywise sum to find percentages of total industry focused contracts to WOSB\n",
    "\n",
    "to_append = []\n",
    "for desc in naics_explorer_df['Description of NAICS']:\n",
    "    if(len(naics_explorer_df.loc[naics_explorer_df['Description of NAICS']==desc] == 1)): # if only NO\n",
    "        to_append.append(naics_explorer_df.loc[naics_explorer_df['Description of NAICS']==desc]['Base and All Options Value (Total Contract Value)'].sum())\n",
    "    else: # append twice for YES and NO\n",
    "        to_append.append(naics_explorer_df.loc[naics_explorer_df['Description of NAICS']==desc].sum())\n",
    "        to_append.append(naics_explorer_df.loc[naics_explorer_df['Description of NAICS']==desc].sum())\n",
    "naics_explorer_df['total dollars to NAICS'] = to_append"
   ]
  },
  {
   "cell_type": "code",
   "execution_count": 36,
   "id": "b14147ae",
   "metadata": {},
   "outputs": [
    {
     "data": {
      "text/html": [
       "<div>\n",
       "<style scoped>\n",
       "    .dataframe tbody tr th:only-of-type {\n",
       "        vertical-align: middle;\n",
       "    }\n",
       "\n",
       "    .dataframe tbody tr th {\n",
       "        vertical-align: top;\n",
       "    }\n",
       "\n",
       "    .dataframe thead th {\n",
       "        text-align: right;\n",
       "    }\n",
       "</style>\n",
       "<table border=\"1\" class=\"dataframe\">\n",
       "  <thead>\n",
       "    <tr style=\"text-align: right;\">\n",
       "      <th></th>\n",
       "      <th>NAICS</th>\n",
       "      <th>Description of NAICS</th>\n",
       "      <th>Set-Aside</th>\n",
       "      <th>Is Vendor Business Type - Women Owned Small Business</th>\n",
       "      <th>Base and All Options Value (Total Contract Value)</th>\n",
       "      <th>total dollars to NAICS</th>\n",
       "    </tr>\n",
       "  </thead>\n",
       "  <tbody>\n",
       "    <tr>\n",
       "      <th>0</th>\n",
       "      <td>111110</td>\n",
       "      <td>Soybean Farming</td>\n",
       "      <td>WOSB</td>\n",
       "      <td>NO</td>\n",
       "      <td>0.4663</td>\n",
       "      <td>0.4663</td>\n",
       "    </tr>\n",
       "    <tr>\n",
       "      <th>1</th>\n",
       "      <td>111120</td>\n",
       "      <td>Oilseed (except Soybean) Farming</td>\n",
       "      <td>WOSB</td>\n",
       "      <td>NO</td>\n",
       "      <td>0.4718</td>\n",
       "      <td>0.4718</td>\n",
       "    </tr>\n",
       "    <tr>\n",
       "      <th>2</th>\n",
       "      <td>111130</td>\n",
       "      <td>Dry Pea and Bean Farming</td>\n",
       "      <td>WOSB</td>\n",
       "      <td>NO</td>\n",
       "      <td>0.0250</td>\n",
       "      <td>0.0250</td>\n",
       "    </tr>\n",
       "    <tr>\n",
       "      <th>3</th>\n",
       "      <td>111140</td>\n",
       "      <td>Wheat Farming</td>\n",
       "      <td>WOSB</td>\n",
       "      <td>NO</td>\n",
       "      <td>0.0131</td>\n",
       "      <td>0.0131</td>\n",
       "    </tr>\n",
       "    <tr>\n",
       "      <th>4</th>\n",
       "      <td>111150</td>\n",
       "      <td>Corn Farming</td>\n",
       "      <td>WOSB</td>\n",
       "      <td>NO</td>\n",
       "      <td>0.7749</td>\n",
       "      <td>0.7749</td>\n",
       "    </tr>\n",
       "    <tr>\n",
       "      <th>5</th>\n",
       "      <td>111199</td>\n",
       "      <td>All Other Grain Farming</td>\n",
       "      <td>WOSB</td>\n",
       "      <td>NO</td>\n",
       "      <td>0.1484</td>\n",
       "      <td>0.1484</td>\n",
       "    </tr>\n",
       "    <tr>\n",
       "      <th>6</th>\n",
       "      <td>111419</td>\n",
       "      <td>Other Food Crops Grown Under Cover</td>\n",
       "      <td>EDWOSB</td>\n",
       "      <td>NO</td>\n",
       "      <td>0.0545</td>\n",
       "      <td>0.0545</td>\n",
       "    </tr>\n",
       "    <tr>\n",
       "      <th>7</th>\n",
       "      <td>111421</td>\n",
       "      <td>Nursery and Tree Production</td>\n",
       "      <td>EDWOSB</td>\n",
       "      <td>NO</td>\n",
       "      <td>2.3815</td>\n",
       "      <td>2.6644</td>\n",
       "    </tr>\n",
       "    <tr>\n",
       "      <th>8</th>\n",
       "      <td>111421</td>\n",
       "      <td>Nursery and Tree Production</td>\n",
       "      <td>EDWOSB</td>\n",
       "      <td>YES</td>\n",
       "      <td>0.2829</td>\n",
       "      <td>2.6644</td>\n",
       "    </tr>\n",
       "    <tr>\n",
       "      <th>9</th>\n",
       "      <td>111422</td>\n",
       "      <td>Floriculture Production</td>\n",
       "      <td>EDWOSB</td>\n",
       "      <td>NO</td>\n",
       "      <td>0.1810</td>\n",
       "      <td>0.1810</td>\n",
       "    </tr>\n",
       "  </tbody>\n",
       "</table>\n",
       "</div>"
      ],
      "text/plain": [
       "    NAICS                Description of NAICS Set-Aside  \\\n",
       "0  111110                     Soybean Farming      WOSB   \n",
       "1  111120    Oilseed (except Soybean) Farming      WOSB   \n",
       "2  111130            Dry Pea and Bean Farming      WOSB   \n",
       "3  111140                       Wheat Farming      WOSB   \n",
       "4  111150                        Corn Farming      WOSB   \n",
       "5  111199             All Other Grain Farming      WOSB   \n",
       "6  111419  Other Food Crops Grown Under Cover    EDWOSB   \n",
       "7  111421         Nursery and Tree Production    EDWOSB   \n",
       "8  111421         Nursery and Tree Production    EDWOSB   \n",
       "9  111422             Floriculture Production    EDWOSB   \n",
       "\n",
       "  Is Vendor Business Type - Women Owned Small Business  \\\n",
       "0                                                 NO     \n",
       "1                                                 NO     \n",
       "2                                                 NO     \n",
       "3                                                 NO     \n",
       "4                                                 NO     \n",
       "5                                                 NO     \n",
       "6                                                 NO     \n",
       "7                                                 NO     \n",
       "8                                                YES     \n",
       "9                                                 NO     \n",
       "\n",
       "   Base and All Options Value (Total Contract Value)  total dollars to NAICS  \n",
       "0                                             0.4663                  0.4663  \n",
       "1                                             0.4718                  0.4718  \n",
       "2                                             0.0250                  0.0250  \n",
       "3                                             0.0131                  0.0131  \n",
       "4                                             0.7749                  0.7749  \n",
       "5                                             0.1484                  0.1484  \n",
       "6                                             0.0545                  0.0545  \n",
       "7                                             2.3815                  2.6644  \n",
       "8                                             0.2829                  2.6644  \n",
       "9                                             0.1810                  0.1810  "
      ]
     },
     "execution_count": 36,
     "metadata": {},
     "output_type": "execute_result"
    }
   ],
   "source": [
    "# correct as first NO and YES industry has its sum listed\n",
    "naics_explorer_df.head(10)"
   ]
  },
  {
   "cell_type": "code",
   "execution_count": 37,
   "id": "ccfc46a0",
   "metadata": {},
   "outputs": [],
   "source": [
    "# divide to obtain percentages\n",
    "naics_explorer_df['percentage to WOSB'] = naics_explorer_df['Base and All Options Value (Total Contract Value)']/naics_explorer_df['total dollars to NAICS']"
   ]
  },
  {
   "cell_type": "code",
   "execution_count": 38,
   "id": "4fb4edcb",
   "metadata": {},
   "outputs": [],
   "source": [
    "# industries with highest/lowest percentage granted above threshold of 1 million dollar industries\n",
    "top_industries = naics_explorer_df.loc[(naics_explorer_df['Is Vendor Business Type - Women Owned Small Business'] == 'YES') \\\n",
    "                      & (naics_explorer_df['Base and All Options Value (Total Contract Value)'] >= 1)].sort_values('percentage to WOSB',ascending = False).head(10)\n",
    "\n",
    "bottom_industries = naics_explorer_df.loc[(naics_explorer_df['Is Vendor Business Type - Women Owned Small Business'] == 'YES') \\\n",
    "                      & (naics_explorer_df['Base and All Options Value (Total Contract Value)'] >= 1)].sort_values('percentage to WOSB',ascending = True).head(10)"
   ]
  },
  {
   "cell_type": "code",
   "execution_count": 39,
   "id": "52499f0b",
   "metadata": {},
   "outputs": [],
   "source": [
    "to_plot_high = top_industries[['Description of NAICS','percentage to WOSB']]\n",
    "to_plot_lo = bottom_industries[['Description of NAICS','percentage to WOSB']]\n",
    "\n",
    "graph = pd.concat([to_plot_high,to_plot_lo], axis = 0)"
   ]
  },
  {
   "cell_type": "code",
   "execution_count": 40,
   "id": "d9493981",
   "metadata": {},
   "outputs": [
    {
     "data": {
      "application/vnd.plotly.v1+json": {
       "config": {
        "plotlyServerURL": "https://plot.ly"
       },
       "data": [
        {
         "hovertemplate": "Description of NAICS=%{x}<br>percentage to WOSB=%{y}<extra></extra>",
         "legendgroup": "",
         "marker": {
          "color": "crimson",
          "symbol": "circle"
         },
         "mode": "markers",
         "name": "",
         "orientation": "v",
         "showlegend": false,
         "type": "scatter",
         "x": [
          "Translation and Interpretation Services",
          "Offices of Real Estate Agents and Brokers",
          "Bus and Other Motor Vehicle Transit Systems",
          "All Other Consumer Goods Rental",
          "Court Reporting and Stenotype Services",
          "Tile and Terrazzo Contractors",
          "Direct Property and Casualty Insurance Carriers",
          "Computer and Office Machine Repair and Maintenance",
          "Fitness and Recreational Sports Centers",
          "Custom Architectural Woodwork and Millwork Manufacturing",
          "Guided Missile and Space Vehicle Manufacturing",
          "Pharmaceutical Preparation Manufacturing",
          "Power Boiler and Heat Exchanger Manufacturing",
          "Aircraft Engine and Engine Parts Manufacturing",
          "In-Vitro Diagnostic Substance Manufacturing",
          "Refrigerated Warehousing and Storage",
          "Military Armored Vehicle, Tank, and Tank Component Manufacturing",
          "Deep Sea Freight Transportation",
          "Aircraft Manufacturing",
          "Research and Development in Biotechnology (except Nanobiotechnology)"
         ],
         "xaxis": "x",
         "y": [
          0.8238652392415001,
          0.8029398388773389,
          0.8011473852166586,
          0.7412209846101522,
          0.6753894432760754,
          0.648434693353862,
          0.6317903488568057,
          0.6290680774373583,
          0.6040829281117582,
          0.5599289454001496,
          0.000277504428891168,
          0.00036330931609807613,
          0.0006419031127184702,
          0.0006875007694695229,
          0.0008863879308546655,
          0.0009673341097456328,
          0.0010480606336383783,
          0.0013227694578926761,
          0.0021255957323081808,
          0.002251618136046766
         ],
         "yaxis": "y"
        }
       ],
       "layout": {
        "height": 1000,
        "legend": {
         "tracegroupgap": 0
        },
        "template": {
         "data": {
          "bar": [
           {
            "error_x": {
             "color": "#2a3f5f"
            },
            "error_y": {
             "color": "#2a3f5f"
            },
            "marker": {
             "line": {
              "color": "#E5ECF6",
              "width": 0.5
             },
             "pattern": {
              "fillmode": "overlay",
              "size": 10,
              "solidity": 0.2
             }
            },
            "type": "bar"
           }
          ],
          "barpolar": [
           {
            "marker": {
             "line": {
              "color": "#E5ECF6",
              "width": 0.5
             },
             "pattern": {
              "fillmode": "overlay",
              "size": 10,
              "solidity": 0.2
             }
            },
            "type": "barpolar"
           }
          ],
          "carpet": [
           {
            "aaxis": {
             "endlinecolor": "#2a3f5f",
             "gridcolor": "white",
             "linecolor": "white",
             "minorgridcolor": "white",
             "startlinecolor": "#2a3f5f"
            },
            "baxis": {
             "endlinecolor": "#2a3f5f",
             "gridcolor": "white",
             "linecolor": "white",
             "minorgridcolor": "white",
             "startlinecolor": "#2a3f5f"
            },
            "type": "carpet"
           }
          ],
          "choropleth": [
           {
            "colorbar": {
             "outlinewidth": 0,
             "ticks": ""
            },
            "type": "choropleth"
           }
          ],
          "contour": [
           {
            "colorbar": {
             "outlinewidth": 0,
             "ticks": ""
            },
            "colorscale": [
             [
              0,
              "#0d0887"
             ],
             [
              0.1111111111111111,
              "#46039f"
             ],
             [
              0.2222222222222222,
              "#7201a8"
             ],
             [
              0.3333333333333333,
              "#9c179e"
             ],
             [
              0.4444444444444444,
              "#bd3786"
             ],
             [
              0.5555555555555556,
              "#d8576b"
             ],
             [
              0.6666666666666666,
              "#ed7953"
             ],
             [
              0.7777777777777778,
              "#fb9f3a"
             ],
             [
              0.8888888888888888,
              "#fdca26"
             ],
             [
              1,
              "#f0f921"
             ]
            ],
            "type": "contour"
           }
          ],
          "contourcarpet": [
           {
            "colorbar": {
             "outlinewidth": 0,
             "ticks": ""
            },
            "type": "contourcarpet"
           }
          ],
          "heatmap": [
           {
            "colorbar": {
             "outlinewidth": 0,
             "ticks": ""
            },
            "colorscale": [
             [
              0,
              "#0d0887"
             ],
             [
              0.1111111111111111,
              "#46039f"
             ],
             [
              0.2222222222222222,
              "#7201a8"
             ],
             [
              0.3333333333333333,
              "#9c179e"
             ],
             [
              0.4444444444444444,
              "#bd3786"
             ],
             [
              0.5555555555555556,
              "#d8576b"
             ],
             [
              0.6666666666666666,
              "#ed7953"
             ],
             [
              0.7777777777777778,
              "#fb9f3a"
             ],
             [
              0.8888888888888888,
              "#fdca26"
             ],
             [
              1,
              "#f0f921"
             ]
            ],
            "type": "heatmap"
           }
          ],
          "heatmapgl": [
           {
            "colorbar": {
             "outlinewidth": 0,
             "ticks": ""
            },
            "colorscale": [
             [
              0,
              "#0d0887"
             ],
             [
              0.1111111111111111,
              "#46039f"
             ],
             [
              0.2222222222222222,
              "#7201a8"
             ],
             [
              0.3333333333333333,
              "#9c179e"
             ],
             [
              0.4444444444444444,
              "#bd3786"
             ],
             [
              0.5555555555555556,
              "#d8576b"
             ],
             [
              0.6666666666666666,
              "#ed7953"
             ],
             [
              0.7777777777777778,
              "#fb9f3a"
             ],
             [
              0.8888888888888888,
              "#fdca26"
             ],
             [
              1,
              "#f0f921"
             ]
            ],
            "type": "heatmapgl"
           }
          ],
          "histogram": [
           {
            "marker": {
             "pattern": {
              "fillmode": "overlay",
              "size": 10,
              "solidity": 0.2
             }
            },
            "type": "histogram"
           }
          ],
          "histogram2d": [
           {
            "colorbar": {
             "outlinewidth": 0,
             "ticks": ""
            },
            "colorscale": [
             [
              0,
              "#0d0887"
             ],
             [
              0.1111111111111111,
              "#46039f"
             ],
             [
              0.2222222222222222,
              "#7201a8"
             ],
             [
              0.3333333333333333,
              "#9c179e"
             ],
             [
              0.4444444444444444,
              "#bd3786"
             ],
             [
              0.5555555555555556,
              "#d8576b"
             ],
             [
              0.6666666666666666,
              "#ed7953"
             ],
             [
              0.7777777777777778,
              "#fb9f3a"
             ],
             [
              0.8888888888888888,
              "#fdca26"
             ],
             [
              1,
              "#f0f921"
             ]
            ],
            "type": "histogram2d"
           }
          ],
          "histogram2dcontour": [
           {
            "colorbar": {
             "outlinewidth": 0,
             "ticks": ""
            },
            "colorscale": [
             [
              0,
              "#0d0887"
             ],
             [
              0.1111111111111111,
              "#46039f"
             ],
             [
              0.2222222222222222,
              "#7201a8"
             ],
             [
              0.3333333333333333,
              "#9c179e"
             ],
             [
              0.4444444444444444,
              "#bd3786"
             ],
             [
              0.5555555555555556,
              "#d8576b"
             ],
             [
              0.6666666666666666,
              "#ed7953"
             ],
             [
              0.7777777777777778,
              "#fb9f3a"
             ],
             [
              0.8888888888888888,
              "#fdca26"
             ],
             [
              1,
              "#f0f921"
             ]
            ],
            "type": "histogram2dcontour"
           }
          ],
          "mesh3d": [
           {
            "colorbar": {
             "outlinewidth": 0,
             "ticks": ""
            },
            "type": "mesh3d"
           }
          ],
          "parcoords": [
           {
            "line": {
             "colorbar": {
              "outlinewidth": 0,
              "ticks": ""
             }
            },
            "type": "parcoords"
           }
          ],
          "pie": [
           {
            "automargin": true,
            "type": "pie"
           }
          ],
          "scatter": [
           {
            "fillpattern": {
             "fillmode": "overlay",
             "size": 10,
             "solidity": 0.2
            },
            "type": "scatter"
           }
          ],
          "scatter3d": [
           {
            "line": {
             "colorbar": {
              "outlinewidth": 0,
              "ticks": ""
             }
            },
            "marker": {
             "colorbar": {
              "outlinewidth": 0,
              "ticks": ""
             }
            },
            "type": "scatter3d"
           }
          ],
          "scattercarpet": [
           {
            "marker": {
             "colorbar": {
              "outlinewidth": 0,
              "ticks": ""
             }
            },
            "type": "scattercarpet"
           }
          ],
          "scattergeo": [
           {
            "marker": {
             "colorbar": {
              "outlinewidth": 0,
              "ticks": ""
             }
            },
            "type": "scattergeo"
           }
          ],
          "scattergl": [
           {
            "marker": {
             "colorbar": {
              "outlinewidth": 0,
              "ticks": ""
             }
            },
            "type": "scattergl"
           }
          ],
          "scattermapbox": [
           {
            "marker": {
             "colorbar": {
              "outlinewidth": 0,
              "ticks": ""
             }
            },
            "type": "scattermapbox"
           }
          ],
          "scatterpolar": [
           {
            "marker": {
             "colorbar": {
              "outlinewidth": 0,
              "ticks": ""
             }
            },
            "type": "scatterpolar"
           }
          ],
          "scatterpolargl": [
           {
            "marker": {
             "colorbar": {
              "outlinewidth": 0,
              "ticks": ""
             }
            },
            "type": "scatterpolargl"
           }
          ],
          "scatterternary": [
           {
            "marker": {
             "colorbar": {
              "outlinewidth": 0,
              "ticks": ""
             }
            },
            "type": "scatterternary"
           }
          ],
          "surface": [
           {
            "colorbar": {
             "outlinewidth": 0,
             "ticks": ""
            },
            "colorscale": [
             [
              0,
              "#0d0887"
             ],
             [
              0.1111111111111111,
              "#46039f"
             ],
             [
              0.2222222222222222,
              "#7201a8"
             ],
             [
              0.3333333333333333,
              "#9c179e"
             ],
             [
              0.4444444444444444,
              "#bd3786"
             ],
             [
              0.5555555555555556,
              "#d8576b"
             ],
             [
              0.6666666666666666,
              "#ed7953"
             ],
             [
              0.7777777777777778,
              "#fb9f3a"
             ],
             [
              0.8888888888888888,
              "#fdca26"
             ],
             [
              1,
              "#f0f921"
             ]
            ],
            "type": "surface"
           }
          ],
          "table": [
           {
            "cells": {
             "fill": {
              "color": "#EBF0F8"
             },
             "line": {
              "color": "white"
             }
            },
            "header": {
             "fill": {
              "color": "#C8D4E3"
             },
             "line": {
              "color": "white"
             }
            },
            "type": "table"
           }
          ]
         },
         "layout": {
          "annotationdefaults": {
           "arrowcolor": "#2a3f5f",
           "arrowhead": 0,
           "arrowwidth": 1
          },
          "autotypenumbers": "strict",
          "coloraxis": {
           "colorbar": {
            "outlinewidth": 0,
            "ticks": ""
           }
          },
          "colorscale": {
           "diverging": [
            [
             0,
             "#8e0152"
            ],
            [
             0.1,
             "#c51b7d"
            ],
            [
             0.2,
             "#de77ae"
            ],
            [
             0.3,
             "#f1b6da"
            ],
            [
             0.4,
             "#fde0ef"
            ],
            [
             0.5,
             "#f7f7f7"
            ],
            [
             0.6,
             "#e6f5d0"
            ],
            [
             0.7,
             "#b8e186"
            ],
            [
             0.8,
             "#7fbc41"
            ],
            [
             0.9,
             "#4d9221"
            ],
            [
             1,
             "#276419"
            ]
           ],
           "sequential": [
            [
             0,
             "#0d0887"
            ],
            [
             0.1111111111111111,
             "#46039f"
            ],
            [
             0.2222222222222222,
             "#7201a8"
            ],
            [
             0.3333333333333333,
             "#9c179e"
            ],
            [
             0.4444444444444444,
             "#bd3786"
            ],
            [
             0.5555555555555556,
             "#d8576b"
            ],
            [
             0.6666666666666666,
             "#ed7953"
            ],
            [
             0.7777777777777778,
             "#fb9f3a"
            ],
            [
             0.8888888888888888,
             "#fdca26"
            ],
            [
             1,
             "#f0f921"
            ]
           ],
           "sequentialminus": [
            [
             0,
             "#0d0887"
            ],
            [
             0.1111111111111111,
             "#46039f"
            ],
            [
             0.2222222222222222,
             "#7201a8"
            ],
            [
             0.3333333333333333,
             "#9c179e"
            ],
            [
             0.4444444444444444,
             "#bd3786"
            ],
            [
             0.5555555555555556,
             "#d8576b"
            ],
            [
             0.6666666666666666,
             "#ed7953"
            ],
            [
             0.7777777777777778,
             "#fb9f3a"
            ],
            [
             0.8888888888888888,
             "#fdca26"
            ],
            [
             1,
             "#f0f921"
            ]
           ]
          },
          "colorway": [
           "#636efa",
           "#EF553B",
           "#00cc96",
           "#ab63fa",
           "#FFA15A",
           "#19d3f3",
           "#FF6692",
           "#B6E880",
           "#FF97FF",
           "#FECB52"
          ],
          "font": {
           "color": "#2a3f5f"
          },
          "geo": {
           "bgcolor": "white",
           "lakecolor": "white",
           "landcolor": "#E5ECF6",
           "showlakes": true,
           "showland": true,
           "subunitcolor": "white"
          },
          "hoverlabel": {
           "align": "left"
          },
          "hovermode": "closest",
          "mapbox": {
           "style": "light"
          },
          "paper_bgcolor": "white",
          "plot_bgcolor": "#E5ECF6",
          "polar": {
           "angularaxis": {
            "gridcolor": "white",
            "linecolor": "white",
            "ticks": ""
           },
           "bgcolor": "#E5ECF6",
           "radialaxis": {
            "gridcolor": "white",
            "linecolor": "white",
            "ticks": ""
           }
          },
          "scene": {
           "xaxis": {
            "backgroundcolor": "#E5ECF6",
            "gridcolor": "white",
            "gridwidth": 2,
            "linecolor": "white",
            "showbackground": true,
            "ticks": "",
            "zerolinecolor": "white"
           },
           "yaxis": {
            "backgroundcolor": "#E5ECF6",
            "gridcolor": "white",
            "gridwidth": 2,
            "linecolor": "white",
            "showbackground": true,
            "ticks": "",
            "zerolinecolor": "white"
           },
           "zaxis": {
            "backgroundcolor": "#E5ECF6",
            "gridcolor": "white",
            "gridwidth": 2,
            "linecolor": "white",
            "showbackground": true,
            "ticks": "",
            "zerolinecolor": "white"
           }
          },
          "shapedefaults": {
           "line": {
            "color": "#2a3f5f"
           }
          },
          "ternary": {
           "aaxis": {
            "gridcolor": "white",
            "linecolor": "white",
            "ticks": ""
           },
           "baxis": {
            "gridcolor": "white",
            "linecolor": "white",
            "ticks": ""
           },
           "bgcolor": "#E5ECF6",
           "caxis": {
            "gridcolor": "white",
            "linecolor": "white",
            "ticks": ""
           }
          },
          "title": {
           "x": 0.05
          },
          "xaxis": {
           "automargin": true,
           "gridcolor": "white",
           "linecolor": "white",
           "ticks": "",
           "title": {
            "standoff": 15
           },
           "zerolinecolor": "white",
           "zerolinewidth": 2
          },
          "yaxis": {
           "automargin": true,
           "gridcolor": "white",
           "linecolor": "white",
           "ticks": "",
           "title": {
            "standoff": 15
           },
           "zerolinecolor": "white",
           "zerolinewidth": 2
          }
         }
        },
        "title": {
         "text": "Industries with Highest Percentage of WOSB Contracting"
        },
        "xaxis": {
         "anchor": "y",
         "domain": [
          0,
          1
         ],
         "title": {
          "text": "Description of NAICS"
         }
        },
        "yaxis": {
         "anchor": "x",
         "domain": [
          0,
          1
         ],
         "title": {
          "text": "percentage to WOSB"
         },
         "type": "log"
        }
       }
      },
      "text/html": [
       "<div>                            <div id=\"5f119934-62b2-4958-9373-6671204b536f\" class=\"plotly-graph-div\" style=\"height:1000px; width:100%;\"></div>            <script type=\"text/javascript\">                require([\"plotly\"], function(Plotly) {                    window.PLOTLYENV=window.PLOTLYENV || {};                                    if (document.getElementById(\"5f119934-62b2-4958-9373-6671204b536f\")) {                    Plotly.newPlot(                        \"5f119934-62b2-4958-9373-6671204b536f\",                        [{\"hovertemplate\":\"Description of NAICS=%{x}<br>percentage to WOSB=%{y}<extra></extra>\",\"legendgroup\":\"\",\"marker\":{\"color\":\"crimson\",\"symbol\":\"circle\"},\"mode\":\"markers\",\"name\":\"\",\"orientation\":\"v\",\"showlegend\":false,\"x\":[\"Translation and Interpretation Services\",\"Offices of Real Estate Agents and Brokers\",\"Bus and Other Motor Vehicle Transit Systems\",\"All Other Consumer Goods Rental\",\"Court Reporting and Stenotype Services\",\"Tile and Terrazzo Contractors\",\"Direct Property and Casualty Insurance Carriers\",\"Computer and Office Machine Repair and Maintenance\",\"Fitness and Recreational Sports Centers\",\"Custom Architectural Woodwork and Millwork Manufacturing\",\"Guided Missile and Space Vehicle Manufacturing\",\"Pharmaceutical Preparation Manufacturing\",\"Power Boiler and Heat Exchanger Manufacturing\",\"Aircraft Engine and Engine Parts Manufacturing\",\"In-Vitro Diagnostic Substance Manufacturing\",\"Refrigerated Warehousing and Storage\",\"Military Armored Vehicle, Tank, and Tank Component Manufacturing\",\"Deep Sea Freight Transportation\",\"Aircraft Manufacturing\",\"Research and Development in Biotechnology (except Nanobiotechnology)\"],\"xaxis\":\"x\",\"y\":[0.8238652392415001,0.8029398388773389,0.8011473852166586,0.7412209846101522,0.6753894432760754,0.648434693353862,0.6317903488568057,0.6290680774373583,0.6040829281117582,0.5599289454001496,0.000277504428891168,0.00036330931609807613,0.0006419031127184702,0.0006875007694695229,0.0008863879308546655,0.0009673341097456328,0.0010480606336383783,0.0013227694578926761,0.0021255957323081808,0.002251618136046766],\"yaxis\":\"y\",\"type\":\"scatter\"}],                        {\"template\":{\"data\":{\"histogram2dcontour\":[{\"type\":\"histogram2dcontour\",\"colorbar\":{\"outlinewidth\":0,\"ticks\":\"\"},\"colorscale\":[[0.0,\"#0d0887\"],[0.1111111111111111,\"#46039f\"],[0.2222222222222222,\"#7201a8\"],[0.3333333333333333,\"#9c179e\"],[0.4444444444444444,\"#bd3786\"],[0.5555555555555556,\"#d8576b\"],[0.6666666666666666,\"#ed7953\"],[0.7777777777777778,\"#fb9f3a\"],[0.8888888888888888,\"#fdca26\"],[1.0,\"#f0f921\"]]}],\"choropleth\":[{\"type\":\"choropleth\",\"colorbar\":{\"outlinewidth\":0,\"ticks\":\"\"}}],\"histogram2d\":[{\"type\":\"histogram2d\",\"colorbar\":{\"outlinewidth\":0,\"ticks\":\"\"},\"colorscale\":[[0.0,\"#0d0887\"],[0.1111111111111111,\"#46039f\"],[0.2222222222222222,\"#7201a8\"],[0.3333333333333333,\"#9c179e\"],[0.4444444444444444,\"#bd3786\"],[0.5555555555555556,\"#d8576b\"],[0.6666666666666666,\"#ed7953\"],[0.7777777777777778,\"#fb9f3a\"],[0.8888888888888888,\"#fdca26\"],[1.0,\"#f0f921\"]]}],\"heatmap\":[{\"type\":\"heatmap\",\"colorbar\":{\"outlinewidth\":0,\"ticks\":\"\"},\"colorscale\":[[0.0,\"#0d0887\"],[0.1111111111111111,\"#46039f\"],[0.2222222222222222,\"#7201a8\"],[0.3333333333333333,\"#9c179e\"],[0.4444444444444444,\"#bd3786\"],[0.5555555555555556,\"#d8576b\"],[0.6666666666666666,\"#ed7953\"],[0.7777777777777778,\"#fb9f3a\"],[0.8888888888888888,\"#fdca26\"],[1.0,\"#f0f921\"]]}],\"heatmapgl\":[{\"type\":\"heatmapgl\",\"colorbar\":{\"outlinewidth\":0,\"ticks\":\"\"},\"colorscale\":[[0.0,\"#0d0887\"],[0.1111111111111111,\"#46039f\"],[0.2222222222222222,\"#7201a8\"],[0.3333333333333333,\"#9c179e\"],[0.4444444444444444,\"#bd3786\"],[0.5555555555555556,\"#d8576b\"],[0.6666666666666666,\"#ed7953\"],[0.7777777777777778,\"#fb9f3a\"],[0.8888888888888888,\"#fdca26\"],[1.0,\"#f0f921\"]]}],\"contourcarpet\":[{\"type\":\"contourcarpet\",\"colorbar\":{\"outlinewidth\":0,\"ticks\":\"\"}}],\"contour\":[{\"type\":\"contour\",\"colorbar\":{\"outlinewidth\":0,\"ticks\":\"\"},\"colorscale\":[[0.0,\"#0d0887\"],[0.1111111111111111,\"#46039f\"],[0.2222222222222222,\"#7201a8\"],[0.3333333333333333,\"#9c179e\"],[0.4444444444444444,\"#bd3786\"],[0.5555555555555556,\"#d8576b\"],[0.6666666666666666,\"#ed7953\"],[0.7777777777777778,\"#fb9f3a\"],[0.8888888888888888,\"#fdca26\"],[1.0,\"#f0f921\"]]}],\"surface\":[{\"type\":\"surface\",\"colorbar\":{\"outlinewidth\":0,\"ticks\":\"\"},\"colorscale\":[[0.0,\"#0d0887\"],[0.1111111111111111,\"#46039f\"],[0.2222222222222222,\"#7201a8\"],[0.3333333333333333,\"#9c179e\"],[0.4444444444444444,\"#bd3786\"],[0.5555555555555556,\"#d8576b\"],[0.6666666666666666,\"#ed7953\"],[0.7777777777777778,\"#fb9f3a\"],[0.8888888888888888,\"#fdca26\"],[1.0,\"#f0f921\"]]}],\"mesh3d\":[{\"type\":\"mesh3d\",\"colorbar\":{\"outlinewidth\":0,\"ticks\":\"\"}}],\"scatter\":[{\"fillpattern\":{\"fillmode\":\"overlay\",\"size\":10,\"solidity\":0.2},\"type\":\"scatter\"}],\"parcoords\":[{\"type\":\"parcoords\",\"line\":{\"colorbar\":{\"outlinewidth\":0,\"ticks\":\"\"}}}],\"scatterpolargl\":[{\"type\":\"scatterpolargl\",\"marker\":{\"colorbar\":{\"outlinewidth\":0,\"ticks\":\"\"}}}],\"bar\":[{\"error_x\":{\"color\":\"#2a3f5f\"},\"error_y\":{\"color\":\"#2a3f5f\"},\"marker\":{\"line\":{\"color\":\"#E5ECF6\",\"width\":0.5},\"pattern\":{\"fillmode\":\"overlay\",\"size\":10,\"solidity\":0.2}},\"type\":\"bar\"}],\"scattergeo\":[{\"type\":\"scattergeo\",\"marker\":{\"colorbar\":{\"outlinewidth\":0,\"ticks\":\"\"}}}],\"scatterpolar\":[{\"type\":\"scatterpolar\",\"marker\":{\"colorbar\":{\"outlinewidth\":0,\"ticks\":\"\"}}}],\"histogram\":[{\"marker\":{\"pattern\":{\"fillmode\":\"overlay\",\"size\":10,\"solidity\":0.2}},\"type\":\"histogram\"}],\"scattergl\":[{\"type\":\"scattergl\",\"marker\":{\"colorbar\":{\"outlinewidth\":0,\"ticks\":\"\"}}}],\"scatter3d\":[{\"type\":\"scatter3d\",\"line\":{\"colorbar\":{\"outlinewidth\":0,\"ticks\":\"\"}},\"marker\":{\"colorbar\":{\"outlinewidth\":0,\"ticks\":\"\"}}}],\"scattermapbox\":[{\"type\":\"scattermapbox\",\"marker\":{\"colorbar\":{\"outlinewidth\":0,\"ticks\":\"\"}}}],\"scatterternary\":[{\"type\":\"scatterternary\",\"marker\":{\"colorbar\":{\"outlinewidth\":0,\"ticks\":\"\"}}}],\"scattercarpet\":[{\"type\":\"scattercarpet\",\"marker\":{\"colorbar\":{\"outlinewidth\":0,\"ticks\":\"\"}}}],\"carpet\":[{\"aaxis\":{\"endlinecolor\":\"#2a3f5f\",\"gridcolor\":\"white\",\"linecolor\":\"white\",\"minorgridcolor\":\"white\",\"startlinecolor\":\"#2a3f5f\"},\"baxis\":{\"endlinecolor\":\"#2a3f5f\",\"gridcolor\":\"white\",\"linecolor\":\"white\",\"minorgridcolor\":\"white\",\"startlinecolor\":\"#2a3f5f\"},\"type\":\"carpet\"}],\"table\":[{\"cells\":{\"fill\":{\"color\":\"#EBF0F8\"},\"line\":{\"color\":\"white\"}},\"header\":{\"fill\":{\"color\":\"#C8D4E3\"},\"line\":{\"color\":\"white\"}},\"type\":\"table\"}],\"barpolar\":[{\"marker\":{\"line\":{\"color\":\"#E5ECF6\",\"width\":0.5},\"pattern\":{\"fillmode\":\"overlay\",\"size\":10,\"solidity\":0.2}},\"type\":\"barpolar\"}],\"pie\":[{\"automargin\":true,\"type\":\"pie\"}]},\"layout\":{\"autotypenumbers\":\"strict\",\"colorway\":[\"#636efa\",\"#EF553B\",\"#00cc96\",\"#ab63fa\",\"#FFA15A\",\"#19d3f3\",\"#FF6692\",\"#B6E880\",\"#FF97FF\",\"#FECB52\"],\"font\":{\"color\":\"#2a3f5f\"},\"hovermode\":\"closest\",\"hoverlabel\":{\"align\":\"left\"},\"paper_bgcolor\":\"white\",\"plot_bgcolor\":\"#E5ECF6\",\"polar\":{\"bgcolor\":\"#E5ECF6\",\"angularaxis\":{\"gridcolor\":\"white\",\"linecolor\":\"white\",\"ticks\":\"\"},\"radialaxis\":{\"gridcolor\":\"white\",\"linecolor\":\"white\",\"ticks\":\"\"}},\"ternary\":{\"bgcolor\":\"#E5ECF6\",\"aaxis\":{\"gridcolor\":\"white\",\"linecolor\":\"white\",\"ticks\":\"\"},\"baxis\":{\"gridcolor\":\"white\",\"linecolor\":\"white\",\"ticks\":\"\"},\"caxis\":{\"gridcolor\":\"white\",\"linecolor\":\"white\",\"ticks\":\"\"}},\"coloraxis\":{\"colorbar\":{\"outlinewidth\":0,\"ticks\":\"\"}},\"colorscale\":{\"sequential\":[[0.0,\"#0d0887\"],[0.1111111111111111,\"#46039f\"],[0.2222222222222222,\"#7201a8\"],[0.3333333333333333,\"#9c179e\"],[0.4444444444444444,\"#bd3786\"],[0.5555555555555556,\"#d8576b\"],[0.6666666666666666,\"#ed7953\"],[0.7777777777777778,\"#fb9f3a\"],[0.8888888888888888,\"#fdca26\"],[1.0,\"#f0f921\"]],\"sequentialminus\":[[0.0,\"#0d0887\"],[0.1111111111111111,\"#46039f\"],[0.2222222222222222,\"#7201a8\"],[0.3333333333333333,\"#9c179e\"],[0.4444444444444444,\"#bd3786\"],[0.5555555555555556,\"#d8576b\"],[0.6666666666666666,\"#ed7953\"],[0.7777777777777778,\"#fb9f3a\"],[0.8888888888888888,\"#fdca26\"],[1.0,\"#f0f921\"]],\"diverging\":[[0,\"#8e0152\"],[0.1,\"#c51b7d\"],[0.2,\"#de77ae\"],[0.3,\"#f1b6da\"],[0.4,\"#fde0ef\"],[0.5,\"#f7f7f7\"],[0.6,\"#e6f5d0\"],[0.7,\"#b8e186\"],[0.8,\"#7fbc41\"],[0.9,\"#4d9221\"],[1,\"#276419\"]]},\"xaxis\":{\"gridcolor\":\"white\",\"linecolor\":\"white\",\"ticks\":\"\",\"title\":{\"standoff\":15},\"zerolinecolor\":\"white\",\"automargin\":true,\"zerolinewidth\":2},\"yaxis\":{\"gridcolor\":\"white\",\"linecolor\":\"white\",\"ticks\":\"\",\"title\":{\"standoff\":15},\"zerolinecolor\":\"white\",\"automargin\":true,\"zerolinewidth\":2},\"scene\":{\"xaxis\":{\"backgroundcolor\":\"#E5ECF6\",\"gridcolor\":\"white\",\"linecolor\":\"white\",\"showbackground\":true,\"ticks\":\"\",\"zerolinecolor\":\"white\",\"gridwidth\":2},\"yaxis\":{\"backgroundcolor\":\"#E5ECF6\",\"gridcolor\":\"white\",\"linecolor\":\"white\",\"showbackground\":true,\"ticks\":\"\",\"zerolinecolor\":\"white\",\"gridwidth\":2},\"zaxis\":{\"backgroundcolor\":\"#E5ECF6\",\"gridcolor\":\"white\",\"linecolor\":\"white\",\"showbackground\":true,\"ticks\":\"\",\"zerolinecolor\":\"white\",\"gridwidth\":2}},\"shapedefaults\":{\"line\":{\"color\":\"#2a3f5f\"}},\"annotationdefaults\":{\"arrowcolor\":\"#2a3f5f\",\"arrowhead\":0,\"arrowwidth\":1},\"geo\":{\"bgcolor\":\"white\",\"landcolor\":\"#E5ECF6\",\"subunitcolor\":\"white\",\"showland\":true,\"showlakes\":true,\"lakecolor\":\"white\"},\"title\":{\"x\":0.05},\"mapbox\":{\"style\":\"light\"}}},\"xaxis\":{\"anchor\":\"y\",\"domain\":[0.0,1.0],\"title\":{\"text\":\"Description of NAICS\"}},\"yaxis\":{\"anchor\":\"x\",\"domain\":[0.0,1.0],\"title\":{\"text\":\"percentage to WOSB\"},\"type\":\"log\"},\"legend\":{\"tracegroupgap\":0},\"title\":{\"text\":\"Industries with Highest Percentage of WOSB Contracting\"},\"height\":1000},                        {\"responsive\": true}                    ).then(function(){\n",
       "                            \n",
       "var gd = document.getElementById('5f119934-62b2-4958-9373-6671204b536f');\n",
       "var x = new MutationObserver(function (mutations, observer) {{\n",
       "        var display = window.getComputedStyle(gd).display;\n",
       "        if (!display || display === 'none') {{\n",
       "            console.log([gd, 'removed!']);\n",
       "            Plotly.purge(gd);\n",
       "            observer.disconnect();\n",
       "        }}\n",
       "}});\n",
       "\n",
       "// Listen for the removal of the full notebook cells\n",
       "var notebookContainer = gd.closest('#notebook-container');\n",
       "if (notebookContainer) {{\n",
       "    x.observe(notebookContainer, {childList: true});\n",
       "}}\n",
       "\n",
       "// Listen for the clearing of the current output cell\n",
       "var outputEl = gd.closest('.output');\n",
       "if (outputEl) {{\n",
       "    x.observe(outputEl, {childList: true});\n",
       "}}\n",
       "\n",
       "                        })                };                });            </script>        </div>"
      ]
     },
     "metadata": {},
     "output_type": "display_data"
    }
   ],
   "source": [
    "fig5 = px.scatter(graph, x='Description of NAICS', y=\"percentage to WOSB\", \\\n",
    "              title='Industries with Highest Percentage of WOSB Contracting',\\\n",
    "              labels = {\"Principal Place of Performance State Code\":\"State (Abbr.)\",\"Statewide Percentage of Total Contracted Dollars\":\"Contracted Dollars (%)\"}, color_discrete_sequence=['crimson'],log_y = True,height = 1000)\n",
    "fig5.show()"
   ]
  },
  {
   "cell_type": "markdown",
   "id": "e2177431",
   "metadata": {},
   "source": [
    "# DASHBOARD"
   ]
  },
  {
   "cell_type": "code",
   "execution_count": null,
   "id": "6999e831",
   "metadata": {},
   "outputs": [
    {
     "name": "stdout",
     "output_type": "stream",
     "text": [
      "Dash is running on http://127.0.0.1:8050/\n",
      "\n",
      " * Serving Flask app \"__main__\" (lazy loading)\n",
      " * Environment: production\n",
      "\u001b[31m   WARNING: This is a development server. Do not use it in a production deployment.\u001b[0m\n",
      "\u001b[2m   Use a production WSGI server instead.\u001b[0m\n",
      " * Debug mode: on\n"
     ]
    }
   ],
   "source": [
    "from dash import Dash,dcc,html\n",
    "\n",
    "app = Dash(__name__)\n",
    "\n",
    "graph1 = dcc.Graph(\n",
    "        id='fig1',\n",
    "        figure=fig1,\n",
    "        className=\"four columns\" \n",
    "    )\n",
    "graph2 = dcc.Graph(\n",
    "        id='fig2',\n",
    "        figure=fig2,\n",
    "        className=\"four columns\"\n",
    "    )\n",
    "graph3 = dcc.Graph(\n",
    "        id='fig3',\n",
    "        figure=fig3,\n",
    "        className=\"four columns\"\n",
    "    )\n",
    "graph4 = dcc.Graph(\n",
    "        id='fig4',\n",
    "        figure=fig4,\n",
    "        className=\"twelve columns\"\n",
    "    )\n",
    "graph5 = dcc.Graph(\n",
    "        id='fig5',\n",
    "        figure=fig5,\n",
    "        className=\"twelve columns\"\n",
    "    )\n",
    "\n",
    "\n",
    "header = html.H2(children=\"WOSB Analysis - Small Business Administration - Hailey Weinschenk\")# setup to rows, graph 1-3 in the first row, and graph4 in the second:\n",
    "row1 = html.Div(children=[graph1, graph2, graph3],)\n",
    "row2 = html.Div(children=[graph4,graph5])\n",
    "layout = html.Div(children=[header, row1, row2], style={\"text-align\": \"center\"})\n",
    "app.layout = layout\n",
    "\n",
    "app.run_server(debug=True, use_reloader=False)"
   ]
  }
 ],
 "metadata": {
  "kernelspec": {
   "display_name": "Python 3 (ipykernel)",
   "language": "python",
   "name": "python3"
  },
  "language_info": {
   "codemirror_mode": {
    "name": "ipython",
    "version": 3
   },
   "file_extension": ".py",
   "mimetype": "text/x-python",
   "name": "python",
   "nbconvert_exporter": "python",
   "pygments_lexer": "ipython3",
   "version": "3.9.16"
  }
 },
 "nbformat": 4,
 "nbformat_minor": 5
}
